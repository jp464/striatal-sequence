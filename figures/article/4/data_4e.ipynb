{
 "cells": [
  {
   "cell_type": "code",
   "execution_count": 1,
   "metadata": {},
   "outputs": [],
   "source": [
    "import os\n",
    "import sys\n",
    "import argparse\n",
    "import logging\n",
    "\n",
    "import numpy as np\n",
    "from scipy.stats import norm\n",
    "from scipy.special import erf\n",
    "from joblib import Parallel, delayed\n",
    "\n",
    "sys.path.insert(0, '../../../network')\n",
    "from network import Population, RateNetwork\n",
    "from transfer_functions import ErrorFunction\n",
    "from connectivity import SparseConnectivity, LinearSynapse, ThresholdPlasticityRule\n",
    "from sequences import GaussianSequence\n",
    "\n",
    "logging.basicConfig(level=logging.INFO)"
   ]
  },
  {
   "cell_type": "code",
   "execution_count": 2,
   "metadata": {},
   "outputs": [],
   "source": [
    "def simulate_network(N=40000, c=0.005, S=1, P=30, T=0.3, x_f=1.645, q_f=0.8, seed=42):\n",
    "\n",
    "    logging.info(\"Simulating network\", x_f)\n",
    "    phi = ErrorFunction(mu=0.07, sigma=0.05).phi\n",
    "    exc = Population(N=40000, tau=1e-2, phi=phi)\n",
    "\n",
    "    sequences = [GaussianSequence(P,exc.size,seed=seed*P+i) for i in range(S)]\n",
    "    patterns = np.stack([s.inputs for s in sequences])\n",
    "\n",
    "    conn_EE = SparseConnectivity(source=exc, target=exc, p=0.005, seed=seed)\n",
    "    plasticity = ThresholdPlasticityRule(x_f=x_f, q_f=q_f)\n",
    "    synapse = LinearSynapse(conn_EE.K, A=14)\n",
    "    conn_EE.store_sequences(patterns, synapse.h_EE, plasticity.f, plasticity.g)\n",
    "\n",
    "    net = RateNetwork(exc, c_EE=conn_EE, formulation=1)\n",
    "\n",
    "    r0 = exc.phi(plasticity.f(patterns[0,0,:]))\n",
    "    net.simulate(T, r0=r0)\n",
    "\n",
    "    state = np.copy(net.exc.state).astype(np.float16)\n",
    "    return state"
   ]
  },
  {
   "cell_type": "code",
   "execution_count": 4,
   "metadata": {},
   "outputs": [
    {
     "name": "stderr",
     "output_type": "stream",
     "text": [
      "INFO:root:Saving data\n",
      "INFO:root:Saving data\n"
     ]
    }
   ],
   "source": [
    "N = 40000\n",
    "c = 0.005\n",
    "S = 1\n",
    "P = 30\n",
    "T = 0.3 \n",
    "\n",
    "cpu_cores = 8\n",
    "n_realizations = 1\n",
    "\n",
    "def run(x_f, q_f, datapath):\n",
    "    population_rate = np.zeros((n_realizations, len(x_f)))\n",
    "    for n in range(n_realizations):\n",
    "        def func(i):\n",
    "            state = simulate_network(x_f=x_f[i], q_f=q_f[i], seed=n)\n",
    "            t_max = 250 # np.argmax(overlaps[-1,:])\n",
    "            return np.mean(state[:,:t_max])\n",
    "        population_rate[n,:] = Parallel(\n",
    "            n_jobs=cpu_cores)(delayed(func)(i) for i in range(len(x_f)))\n",
    "\n",
    "    logging.info(\"Saving data\")\n",
    "    np.save(open(datapath, \"wb\"), [x_f, population_rate])\n",
    "\n",
    "# Varying xf, constraining E(f) to value in panel (a)\n",
    "x = np.linspace(0.5,0.98,20) \n",
    "x_f = norm.ppf(x)\n",
    "f = lambda x, x_f, q_f: np.where(x < x_f, -(1-q_f), q_f)\n",
    "avg = norm.expect(lambda x: f(x, 1.645, 0.8))\n",
    "q_f = 0.5*erf(x_f/np.sqrt(2)) + 0.5 + avg\n",
    "run(x_f, q_f, \"data/data_e1.npy\")\n",
    "\n",
    "# Varying xf, constraining qf==qg\n",
    "x = np.linspace(0.5,0.98,20)\n",
    "x_f = norm.ppf(x)\n",
    "q_f = norm.cdf(x_f)\n",
    "run(x_f, q_f, \"data/data_e2.npy\")"
   ]
  }
 ],
 "metadata": {
  "kernelspec": {
   "display_name": "Python 3",
   "language": "python",
   "name": "python3"
  },
  "language_info": {
   "codemirror_mode": {
    "name": "ipython",
    "version": 3
   },
   "file_extension": ".py",
   "mimetype": "text/x-python",
   "name": "python",
   "nbconvert_exporter": "python",
   "pygments_lexer": "ipython3",
   "version": "3.7.5"
  }
 },
 "nbformat": 4,
 "nbformat_minor": 4
}
