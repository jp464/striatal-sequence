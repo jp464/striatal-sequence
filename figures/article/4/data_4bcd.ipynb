{
 "cells": [
  {
   "cell_type": "code",
   "execution_count": 2,
   "metadata": {},
   "outputs": [],
   "source": [
    "import sys, pdb\n",
    "import logging\n",
    "import argparse\n",
    "import numpy as np\n",
    "\n",
    "from scipy.stats import norm\n",
    "\n",
    "sys.path.insert(0, '../../../network')\n",
    "from network import Population, RateNetwork\n",
    "from transfer_functions import ErrorFunction\n",
    "from connectivity import SparseConnectivity, LinearSynapse, ThresholdPlasticityRule\n",
    "from sequences import GaussianSequence\n",
    "\n",
    "logging.basicConfig(level=logging.INFO)"
   ]
  },
  {
   "cell_type": "code",
   "execution_count": 3,
   "metadata": {},
   "outputs": [
    {
     "name": "stderr",
     "output_type": "stream",
     "text": [
      "INFO:connectivity:Building connections from exc to exc\n",
      "INFO:connectivity:Storing sequences\n",
      "  0%|          | 0/1 [00:00<?, ?it/s]\n",
      "  0%|          | 0/40000 [00:00<?, ?it/s]\u001b[A\n",
      "  3%|▎         | 1305/40000 [00:00<00:02, 13042.30it/s]\u001b[A\n",
      "  7%|▋         | 2646/40000 [00:00<00:02, 13149.34it/s]\u001b[A\n",
      " 10%|█         | 4046/40000 [00:00<00:02, 13391.26it/s]\u001b[A\n",
      " 13%|█▎        | 5324/40000 [00:00<00:02, 13200.99it/s]\u001b[A\n",
      " 17%|█▋        | 6679/40000 [00:00<00:02, 13301.33it/s]\u001b[A\n",
      " 20%|██        | 8077/40000 [00:00<00:02, 13496.82it/s]\u001b[A\n",
      " 24%|██▎       | 9479/40000 [00:00<00:02, 13649.36it/s]\u001b[A\n",
      " 27%|██▋       | 10863/40000 [00:00<00:02, 13704.26it/s]\u001b[A\n",
      " 31%|███       | 12249/40000 [00:00<00:02, 13748.33it/s]\u001b[A\n",
      " 34%|███▍      | 13590/40000 [00:01<00:01, 13643.41it/s]\u001b[A\n",
      " 37%|███▋      | 14948/40000 [00:01<00:01, 13624.14it/s]\u001b[A\n",
      " 41%|████      | 16335/40000 [00:01<00:01, 13695.21it/s]\u001b[A\n",
      " 44%|████▍     | 17726/40000 [00:01<00:01, 13756.23it/s]\u001b[A\n",
      " 48%|████▊     | 19110/40000 [00:01<00:01, 13780.20it/s]\u001b[A\n",
      " 51%|█████     | 20494/40000 [00:01<00:01, 13796.81it/s]\u001b[A\n",
      " 55%|█████▍    | 21868/40000 [00:01<00:01, 13695.84it/s]\u001b[A\n",
      " 58%|█████▊    | 23234/40000 [00:01<00:01, 13632.54it/s]\u001b[A\n",
      " 62%|██████▏   | 24625/40000 [00:01<00:01, 13712.70it/s]\u001b[A\n",
      " 65%|██████▌   | 26018/40000 [00:01<00:01, 13774.93it/s]\u001b[A\n",
      " 69%|██████▊   | 27407/40000 [00:02<00:00, 13807.23it/s]\u001b[A\n",
      " 72%|███████▏  | 28793/40000 [00:02<00:00, 13822.51it/s]\u001b[A\n",
      " 75%|███████▌  | 30175/40000 [00:02<00:00, 13746.98it/s]\u001b[A\n",
      " 79%|███████▉  | 31550/40000 [00:02<00:00, 13633.37it/s]\u001b[A\n",
      " 82%|████████▏ | 32950/40000 [00:02<00:00, 13738.71it/s]\u001b[A\n",
      " 86%|████████▌ | 34343/40000 [00:02<00:00, 13793.03it/s]\u001b[A\n",
      " 89%|████████▉ | 35730/40000 [00:02<00:00, 13814.78it/s]\u001b[A\n",
      " 93%|█████████▎| 37115/40000 [00:02<00:00, 13821.51it/s]\u001b[A\n",
      " 96%|█████████▌| 38498/40000 [00:02<00:00, 13773.75it/s]\u001b[A\n",
      "100%|█████████▉| 39876/40000 [00:02<00:00, 13602.05it/s]\u001b[A\n",
      "100%|██████████| 1/1 [00:02<00:00,  2.93s/it]675.20it/s]\u001b[A\n",
      "INFO:connectivity:Applying synaptic transfer function\n",
      "INFO:connectivity:Building sparse matrix\n",
      "INFO:network:Integrating network dynamics\n",
      "[========================================================================] 100%\n"
     ]
    },
    {
     "name": "stdout",
     "output_type": "stream",
     "text": [
      "--Return--\n",
      "> <ipython-input-3-dbba97b7df22>(21)<module>()->None\n",
      "-> pdb.set_trace()\n"
     ]
    },
    {
     "name": "stdin",
     "output_type": "stream",
     "text": [
      "(Pdb)  c\n"
     ]
    },
    {
     "name": "stderr",
     "output_type": "stream",
     "text": [
      "INFO:sequences:Computing correlations\n",
      "100%|██████████| 30/30 [00:15<00:00,  1.97it/s]\n",
      "INFO:sequences:Computing overlaps\n",
      "100%|██████████| 30/30 [00:00<00:00, 151.65it/s]\n",
      "INFO:root:Saving data\n"
     ]
    }
   ],
   "source": [
    "T = 0.4\n",
    "\n",
    "phi = ErrorFunction(mu=0.07/14., sigma=0.05/14.).phi\n",
    "exc = Population(N=40000, tau=1e-2, phi=phi)\n",
    "\n",
    "P, S = 1, 30\n",
    "sequences = [GaussianSequence(S,exc.size,seed=i) for i in range(P)]\n",
    "patterns = np.stack([s.inputs for s in sequences])\n",
    "\n",
    "conn_EE = SparseConnectivity(source=exc, target=exc, p=0.005)\n",
    "plasticity = ThresholdPlasticityRule(x_f=1.645, q_f=0.8)\n",
    "synapse = LinearSynapse(conn_EE.K, A=1)\n",
    "conn_EE.store_sequences(patterns, synapse.h_EE, plasticity.f, plasticity.g)\n",
    "\n",
    "net = RateNetwork(exc, c_EE=conn_EE, formulation=1)\n",
    "\n",
    "r0 = exc.phi(plasticity.f(patterns[0,0,:]))\n",
    "net.simulate(T, r0=r0)\n",
    "\n",
    "M = np.mean(net.exc.state**2, axis=0)\n",
    "\n",
    "correlations = sequences[0].overlaps(net, exc, plasticity=plasticity, correlation=True)\n",
    "overlaps = sequences[0].overlaps(net, exc, plasticity=plasticity, correlation=False)\n",
    "state = np.copy(net.exc.state).astype(np.float16)\n",
    "\n",
    "logging.info(\"Saving data\")\n",
    "np.save(\"data/data_bcd.npy\", [state, correlations, overlaps])"
   ]
  },
  {
   "cell_type": "code",
   "execution_count": null,
   "metadata": {},
   "outputs": [],
   "source": []
  }
 ],
 "metadata": {
  "kernelspec": {
   "display_name": "Python 3",
   "language": "python",
   "name": "python3"
  },
  "language_info": {
   "codemirror_mode": {
    "name": "ipython",
    "version": 3
   },
   "file_extension": ".py",
   "mimetype": "text/x-python",
   "name": "python",
   "nbconvert_exporter": "python",
   "pygments_lexer": "ipython3",
   "version": "3.7.5"
  }
 },
 "nbformat": 4,
 "nbformat_minor": 4
}
