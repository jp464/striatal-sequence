{
 "cells": [
  {
   "cell_type": "code",
   "execution_count": 1,
   "metadata": {},
   "outputs": [],
   "source": [
    "import sys\n",
    "sys.path.insert(0, '../../../network')"
   ]
  },
  {
   "cell_type": "code",
   "execution_count": 2,
   "metadata": {},
   "outputs": [],
   "source": [
    "import logging\n",
    "import argparse\n",
    "import numpy as np\n",
    "from network import Population, RateNetwork\n",
    "from learning import ReachingTask\n",
    "from transfer_functions import ErrorFunction\n",
    "from connectivity import SparseConnectivity, LinearSynapse, ThresholdPlasticityRule, set_connectivity \n",
    "from sequences import GaussianSequence\n",
    "import matplotlib.pyplot as plt\n",
    "import seaborn as sns\n",
    "logging.basicConfig(level=logging.INFO)"
   ]
  },
  {
   "cell_type": "code",
   "execution_count": 3,
   "metadata": {},
   "outputs": [
    {
     "name": "stderr",
     "output_type": "stream",
     "text": [
      "INFO:connectivity:Building connections from ctx to ctx\n",
      "INFO:connectivity:Building connections from ctx to d1\n",
      "INFO:connectivity:Building connections from ctx to d2\n",
      "INFO:connectivity:Building connections from d1 to ctx\n",
      "INFO:connectivity:Building connections from d1 to d1\n",
      "INFO:connectivity:Building connections from d1 to d2\n",
      "INFO:connectivity:Building connections from d2 to ctx\n",
      "INFO:connectivity:Building connections from d2 to d1\n",
      "INFO:connectivity:Building connections from d2 to d2\n"
     ]
    }
   ],
   "source": [
    "phi = ErrorFunction(mu=0.22, sigma=0.1).phi\n",
    "plasticity = ThresholdPlasticityRule(x_f=0.5, q_f=0.8)\n",
    "\n",
    "# populations\n",
    "ctx = Population(N=1000, tau=1e-2, phi=phi, name='ctx')\n",
    "d1 = Population(N=1000, tau=1e-2, phi=phi, name='d1')\n",
    "d2 = Population(N=1000, tau=1e-2, phi=phi, name='d2')\n",
    "pops = np.array([ctx, d1, d2])\n",
    "\n",
    "# patterns \n",
    "S, P = 1, 3\n",
    "sequences_ctx = [GaussianSequence(P,ctx.size, seed=114) for i in range(S)]\n",
    "patterns_ctx = np.stack([s.inputs for s in sequences_ctx])\n",
    "sequences_d1 = [GaussianSequence(P,d1.size, seed=29) for i in range(S)]\n",
    "patterns_d1 = np.stack([s.inputs for s in sequences_d1])\n",
    "sequences_d2 = [GaussianSequence(P,d2.size, seed=35) for i in range(S)]\n",
    "patterns_d2 = np.stack([s.inputs for s in sequences_d2])\n",
    "patterns = [patterns_ctx, patterns_d1, patterns_d2]\n",
    "\n",
    "# connectivity probabilities\n",
    "cp = np.array([[0.05, 0.05, 0.05], \n",
    "               [0.05, 0.05, 0.5],\n",
    "               [0.05, 0.5, 0.05]])\n",
    "cw = np.array([[0, 1, -1],\n",
    "               [1, -1, -1],\n",
    "               [1, -1, -1]])\n",
    "\n",
    "Ai1 = np.vstack([[[4,0,0],\n",
    "                  [0,4,0],\n",
    "                  [0,0,4]],\n",
    "                 [[0,0,0],\n",
    "                  [0,0,0],\n",
    "                  [0,0,0]],\n",
    "                 [[0,0,0],\n",
    "                  [0,0,0],\n",
    "                  [0,0,0]]])\n",
    "\n",
    "Ai2 = np.vstack([[[0,0,0],\n",
    "                  [0,0,0],\n",
    "                  [0,0,0]],\n",
    "                 [[4,0,0],\n",
    "                  [0,4,0],\n",
    "                  [0,0,4]],\n",
    "                 [[1,0,0],\n",
    "                  [0,1,0],\n",
    "                  [0,0,1]]])\n",
    "\n",
    "Ai3 = np.vstack([[[1,0,0],\n",
    "                  [0,1,0],\n",
    "                  [0,0,1]],\n",
    "                 [[1,0,0],\n",
    "                  [0,1,0],\n",
    "                  [0,0,1]],\n",
    "                 [[4,0,0],\n",
    "                  [0,4,0],\n",
    "                  [0,0,4]]])\n",
    "\n",
    "A = np.hstack([Ai1, Ai2, Ai3])\n",
    "\n",
    "\n",
    "plasticity_rule = np.array([[0, 0, 0],\n",
    "                            [1, 0, 2],\n",
    "                            [1, 2, 0]])\n",
    "\n",
    "J = set_connectivity(pops, cp, cw, A, plasticity_rule, patterns, plasticity)\n",
    "\n",
    "network = RateNetwork(pops, J, formulation=5, disable_pbar=True)"
   ]
  },
  {
   "cell_type": "code",
   "execution_count": 4,
   "metadata": {},
   "outputs": [
    {
     "name": "stderr",
     "output_type": "stream",
     "text": [
      "INFO:network:Integrating network dynamics\n"
     ]
    },
    {
     "ename": "TypeError",
     "evalue": "f() missing 1 required positional argument: 'beta'",
     "output_type": "error",
     "traceback": [
      "\u001b[0;31m---------------------------------------------------------------------------\u001b[0m",
      "\u001b[0;31mTypeError\u001b[0m                                 Traceback (most recent call last)",
      "Cell \u001b[0;32mIn[4], line 15\u001b[0m\n\u001b[1;32m     13\u001b[0m T\u001b[38;5;241m=\u001b[39m\u001b[38;5;241m1\u001b[39m \u001b[38;5;66;03m#ms\u001b[39;00m\n\u001b[1;32m     14\u001b[0m mouse \u001b[38;5;241m=\u001b[39m ReachingTask()\n\u001b[0;32m---> 15\u001b[0m \u001b[43mnetwork\u001b[49m\u001b[38;5;241;43m.\u001b[39;49m\u001b[43msimulate_learning\u001b[49m\u001b[43m(\u001b[49m\u001b[43mmouse\u001b[49m\u001b[43m,\u001b[49m\u001b[43m \u001b[49m\u001b[43mT\u001b[49m\u001b[43m,\u001b[49m\u001b[43m \u001b[49m\u001b[43minit_input\u001b[49m\u001b[43m,\u001b[49m\u001b[43m \u001b[49m\u001b[43minput_patterns\u001b[49m\u001b[43m,\u001b[49m\u001b[43m \u001b[49m\u001b[43mplasticity\u001b[49m\u001b[43m,\u001b[49m\u001b[43m \u001b[49m\n\u001b[1;32m     16\u001b[0m \u001b[43m                          \u001b[49m\u001b[43mdelta_t\u001b[49m\u001b[38;5;241;43m=\u001b[39;49m\u001b[38;5;241;43m500\u001b[39;49m\u001b[43m,\u001b[49m\u001b[43m \u001b[49m\u001b[43meta\u001b[49m\u001b[38;5;241;43m=\u001b[39;49m\u001b[38;5;241;43m0.0005\u001b[39;49m\u001b[43m,\u001b[49m\u001b[43m \u001b[49m\u001b[43mtau_e\u001b[49m\u001b[38;5;241;43m=\u001b[39;49m\u001b[38;5;241;43m1600\u001b[39;49m\u001b[43m,\u001b[49m\u001b[43m \u001b[49m\u001b[43mlamb\u001b[49m\u001b[38;5;241;43m=\u001b[39;49m\u001b[38;5;241;43m0.5\u001b[39;49m\u001b[43m,\u001b[49m\u001b[43m \u001b[49m\n\u001b[1;32m     17\u001b[0m \u001b[43m                          \u001b[49m\u001b[43mnoise\u001b[49m\u001b[38;5;241;43m=\u001b[39;49m\u001b[38;5;241;43m.13\u001b[39;49m\u001b[43m,\u001b[49m\u001b[43m \u001b[49m\u001b[43metrace\u001b[49m\u001b[38;5;241;43m=\u001b[39;49m\u001b[38;5;28;43;01mFalse\u001b[39;49;00m\u001b[43m,\u001b[49m\u001b[43m \u001b[49m\u001b[43mhyper\u001b[49m\u001b[38;5;241;43m=\u001b[39;49m\u001b[38;5;28;43;01mTrue\u001b[39;49;00m\u001b[43m,\u001b[49m\n\u001b[1;32m     18\u001b[0m \u001b[43m                          \u001b[49m\u001b[43mr_ext\u001b[49m\u001b[38;5;241;43m=\u001b[39;49m\u001b[43mr_ext\u001b[49m\u001b[43m,\u001b[49m\u001b[43m \u001b[49m\u001b[43mprint_output\u001b[49m\u001b[38;5;241;43m=\u001b[39;49m\u001b[38;5;28;43;01mFalse\u001b[39;49;00m\u001b[43m)\u001b[49m\n",
      "File \u001b[0;32m~/striatal-sequence/figures/article/1/../../../network/network.py:115\u001b[0m, in \u001b[0;36mRateNetwork.simulate_learning\u001b[0;34m(self, mouse, t, r, patterns, plasticity, delta_t, eta, tau_e, lamb, noise, etrace, hyper, t0, dt, r_ext, detection_thres, print_output)\u001b[0m\n\u001b[1;32m    111\u001b[0m ecnt \u001b[38;5;241m=\u001b[39m \u001b[38;5;241m0\u001b[39m\n\u001b[1;32m    113\u001b[0m \u001b[38;5;28;01mfor\u001b[39;00m i, t \u001b[38;5;129;01min\u001b[39;00m \u001b[38;5;28menumerate\u001b[39m(np\u001b[38;5;241m.\u001b[39marange(t0, t, dt)[\u001b[38;5;241m0\u001b[39m:\u001b[38;5;241m-\u001b[39m\u001b[38;5;241m1\u001b[39m]):\n\u001b[1;32m    114\u001b[0m     \u001b[38;5;66;03m# Update firing rate \u001b[39;00m\n\u001b[0;32m--> 115\u001b[0m     dr, da \u001b[38;5;241m=\u001b[39m \u001b[43mfun\u001b[49m\u001b[43m(\u001b[49m\u001b[43mi\u001b[49m\u001b[43m,\u001b[49m\u001b[43m \u001b[49m\u001b[43mstates\u001b[49m\u001b[43m,\u001b[49m\u001b[43m \u001b[49m\u001b[43madaptations\u001b[49m\u001b[43m)\u001b[49m\n\u001b[1;32m    117\u001b[0m     \u001b[38;5;28;01mfor\u001b[39;00m k \u001b[38;5;129;01min\u001b[39;00m \u001b[38;5;28mrange\u001b[39m(\u001b[38;5;28mself\u001b[39m\u001b[38;5;241m.\u001b[39mNp):\n\u001b[1;32m    118\u001b[0m         states[k][:,i\u001b[38;5;241m+\u001b[39m\u001b[38;5;241m1\u001b[39m] \u001b[38;5;241m=\u001b[39m states[k][:,i] \u001b[38;5;241m+\u001b[39m dt \u001b[38;5;241m*\u001b[39m dr[k] \u001b[38;5;241m+\u001b[39m np\u001b[38;5;241m.\u001b[39mrandom\u001b[38;5;241m.\u001b[39mnormal(size\u001b[38;5;241m=\u001b[39m\u001b[38;5;28mself\u001b[39m\u001b[38;5;241m.\u001b[39mpops[k]\u001b[38;5;241m.\u001b[39msize) \u001b[38;5;241m*\u001b[39m noise\n",
      "\u001b[0;31mTypeError\u001b[0m: f() missing 1 required positional argument: 'beta'"
     ]
    }
   ],
   "source": [
    "# init_input_ctx = np.random.RandomState().normal(0,1,size=patterns_ctx[0][0].shape)\n",
    "# init_input_d1 = np.random.RandomState().normal(0,1,size=patterns_d1[0][0].shape)\n",
    "\n",
    "# init_input = [phi(patterns_ctx[0][0]), \n",
    "#               phi(patterns_d1[0][0]), \n",
    "#               phi(patterns_d2[0][0])]\n",
    "init_input = [phi(np.zeros(ctx.size)),\n",
    "              phi(np.zeros(d1.size)),\n",
    "              phi(np.zeros(d2.size))]\n",
    "input_patterns = [p[0] for p in patterns]\n",
    "r_ext = [lambda t:0, lambda t:1, lambda t:1]\n",
    "\n",
    "T=1 #ms\n",
    "mouse = ReachingTask()\n",
    "network.simulate_learning(mouse, T, init_input, input_patterns, plasticity, \n",
    "                          delta_t=500, eta=0.0005, tau_e=1600, lamb=0.5, \n",
    "                          noise=.13, etrace=False, hyper=True,\n",
    "                          r_ext=r_ext, print_output=False)"
   ]
  },
  {
   "cell_type": "code",
   "execution_count": null,
   "metadata": {},
   "outputs": [],
   "source": [
    "overlaps_ctx = sequences_ctx[0].overlaps(network.pops[0])\n",
    "overlaps_d1 = sequences_d1[0].overlaps(network.pops[1])\n",
    "overlaps_d2 = sequences_d2[0].overlaps(network.pops[2])\n",
    "# filename = 'learning-0005-1600-600-5-1000-v0'\n",
    "# np.savez('./data/' + filename + '.npz', \n",
    "#          overlaps_ctx=overlaps_ctx, overlaps_bg=overlaps_bg, \n",
    "#          correlations_ctx=correlations_ctx, correlations_bg=correlations_bg, \n",
    "#          state_ctx=net_ctx.exc.state, state_bg=net_bg.exc.state)"
   ]
  },
  {
   "cell_type": "code",
   "execution_count": null,
   "metadata": {},
   "outputs": [],
   "source": [
    "sns.set_style('white') \n",
    "colors = sns.color_palette('deep')\n",
    "\n",
    "fig, axes = plt.subplots(3,1, sharex=True, sharey=True, tight_layout=True, figsize=(20,20))\n",
    "axes[0].plot(overlaps_ctx[0], linestyle='solid', linewidth=3, color=colors[8])\n",
    "axes[0].plot(overlaps_ctx[1], linestyle='dashed', linewidth=3, color=colors[0])\n",
    "axes[0].plot(overlaps_ctx[2], linestyle='dotted', linewidth=3, color=colors[3])\n",
    "axes[0].set_yticks([0.0, 0.1, 0.2, 0.3, 0.4])\n",
    "axes[0].set_title(\"CTX\", fontsize=25)\n",
    "axes[1].plot(overlaps_d1[0], linestyle='solid', linewidth=3, color=colors[8])\n",
    "axes[1].plot(overlaps_d1[1], linestyle='dashed', linewidth=3, color=colors[0])\n",
    "axes[1].plot(overlaps_d1[2], linestyle='dotted', linewidth=3, color=colors[3])\n",
    "axes[1].set_yticks([0.0, 0.1, 0.2, 0.3, 0.4])\n",
    "axes[1].set_title(\"D1\", fontsize=25)\n",
    "axes[1].set_xlabel('Time (ms)', fontsize=20)\n",
    "axes[2].plot(overlaps_d2[0], linestyle='solid', linewidth=3, color=colors[8])\n",
    "axes[2].plot(overlaps_d2[1], linestyle='dashed', linewidth=3, color=colors[0])\n",
    "axes[2].plot(overlaps_d2[2], linestyle='dotted', linewidth=3, color=colors[3])\n",
    "axes[2].set_yticks([0.0, 0.1, 0.2, 0.3, 0.4])\n",
    "axes[2].set_title(\"D2\", fontsize=25)\n",
    "axes[2].set_xlabel('Time (ms)', fontsize=20)\n",
    "fig.text(-0.01, 0.5, 'Overlap', va='center', rotation='vertical', fontsize=20)\n",
    "plt.setp(axes, xlim=(0, 1000))\n",
    "plt.setp(axes, ylim=(-0.4, 0.4))\n",
    "plt.figlegend(labels=['Aim', 'Reach', 'Lick'], fontsize=20)\n",
    "plt.savefig('/work/jp464/striatum-sequence/output/sign.jpg', bbox_inches = \"tight\", format='jpg')\n",
    "\n",
    "plt.show()\n"
   ]
  }
 ],
 "metadata": {
  "kernelspec": {
   "display_name": "striatum",
   "language": "python",
   "name": "striatum"
  },
  "language_info": {
   "codemirror_mode": {
    "name": "ipython",
    "version": 3
   },
   "file_extension": ".py",
   "mimetype": "text/x-python",
   "name": "python",
   "nbconvert_exporter": "python",
   "pygments_lexer": "ipython3",
   "version": "3.8.17"
  }
 },
 "nbformat": 4,
 "nbformat_minor": 4
}
