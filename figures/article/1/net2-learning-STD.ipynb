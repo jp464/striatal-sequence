{
 "cells": [
  {
   "cell_type": "code",
   "execution_count": 1,
   "metadata": {},
   "outputs": [],
   "source": [
    "import sys\n",
    "sys.path.insert(0, '../../../network')"
   ]
  },
  {
   "cell_type": "code",
   "execution_count": 2,
   "metadata": {},
   "outputs": [],
   "source": [
    "import logging\n",
    "import argparse\n",
    "import numpy as np\n",
    "from network import Population, RateNetwork\n",
    "from learning import ReachingTask\n",
    "from transfer_functions import ErrorFunction\n",
    "from connectivity import SparseConnectivity, LinearSynapse, ThresholdPlasticityRule, set_connectivity \n",
    "from sequences import GaussianSequence\n",
    "import matplotlib.pyplot as plt\n",
    "import seaborn as sns\n",
    "logging.basicConfig(level=logging.INFO)"
   ]
  },
  {
   "cell_type": "code",
   "execution_count": 3,
   "metadata": {},
   "outputs": [
    {
     "name": "stderr",
     "output_type": "stream",
     "text": [
      "INFO:connectivity:Building connections from ctx to ctx\n"
     ]
    },
    {
     "ename": "IndexError",
     "evalue": "tuple index out of range",
     "output_type": "error",
     "traceback": [
      "\u001b[0;31m---------------------------------------------------------------------------\u001b[0m",
      "\u001b[0;31mIndexError\u001b[0m                                Traceback (most recent call last)",
      "Cell \u001b[0;32mIn[3], line 65\u001b[0m\n\u001b[1;32m     58\u001b[0m A \u001b[38;5;241m=\u001b[39m np\u001b[38;5;241m.\u001b[39mhstack([Ai1, Ai2, Ai3])\n\u001b[1;32m     61\u001b[0m plasticity_rule \u001b[38;5;241m=\u001b[39m np\u001b[38;5;241m.\u001b[39marray([[\u001b[38;5;241m0\u001b[39m, \u001b[38;5;241m0\u001b[39m, \u001b[38;5;241m0\u001b[39m],\n\u001b[1;32m     62\u001b[0m                             [\u001b[38;5;241m1\u001b[39m, \u001b[38;5;241m0\u001b[39m, \u001b[38;5;241m2\u001b[39m],\n\u001b[1;32m     63\u001b[0m                             [\u001b[38;5;241m1\u001b[39m, \u001b[38;5;241m2\u001b[39m, \u001b[38;5;241m0\u001b[39m]])\n\u001b[0;32m---> 65\u001b[0m J \u001b[38;5;241m=\u001b[39m \u001b[43mset_connectivity\u001b[49m\u001b[43m(\u001b[49m\u001b[43mpops\u001b[49m\u001b[43m,\u001b[49m\u001b[43m \u001b[49m\u001b[43mcp\u001b[49m\u001b[43m,\u001b[49m\u001b[43m \u001b[49m\u001b[43mcw\u001b[49m\u001b[43m,\u001b[49m\u001b[43m \u001b[49m\u001b[43mA\u001b[49m\u001b[43m,\u001b[49m\u001b[43m \u001b[49m\u001b[43mplasticity_rule\u001b[49m\u001b[43m,\u001b[49m\u001b[43m \u001b[49m\u001b[43mpatterns\u001b[49m\u001b[43m,\u001b[49m\u001b[43m \u001b[49m\u001b[43mplasticity\u001b[49m\u001b[43m)\u001b[49m\n\u001b[1;32m     67\u001b[0m network \u001b[38;5;241m=\u001b[39m RateNetwork(pops, J, formulation\u001b[38;5;241m=\u001b[39m\u001b[38;5;241m5\u001b[39m, disable_pbar\u001b[38;5;241m=\u001b[39m\u001b[38;5;28;01mTrue\u001b[39;00m)\n",
      "File \u001b[0;32m~/striatal-sequence/figures/article/1/../../../network/connectivity.py:30\u001b[0m, in \u001b[0;36mset_connectivity\u001b[0;34m(pops, cp, cw, A, plasticity_rule, patterns, plasticity)\u001b[0m\n\u001b[1;32m     28\u001b[0m \u001b[38;5;28;01mif\u001b[39;00m rule \u001b[38;5;241m==\u001b[39m \u001b[38;5;241m0\u001b[39m \u001b[38;5;129;01mor\u001b[39;00m rule \u001b[38;5;241m==\u001b[39m \u001b[38;5;241m1\u001b[39m:\n\u001b[1;32m     29\u001b[0m     Atemp \u001b[38;5;241m=\u001b[39m A[pop1][pop2]\n\u001b[0;32m---> 30\u001b[0m     \u001b[38;5;28;01mfor\u001b[39;00m i \u001b[38;5;129;01min\u001b[39;00m \u001b[38;5;28mrange\u001b[39m(\u001b[43mAtemp\u001b[49m\u001b[38;5;241;43m.\u001b[39;49m\u001b[43mshape\u001b[49m\u001b[43m[\u001b[49m\u001b[38;5;241;43m0\u001b[39;49m\u001b[43m]\u001b[49m):\n\u001b[1;32m     31\u001b[0m         \u001b[38;5;28;01mfor\u001b[39;00m j \u001b[38;5;129;01min\u001b[39;00m \u001b[38;5;28mrange\u001b[39m(Atemp\u001b[38;5;241m.\u001b[39mshape[\u001b[38;5;241m1\u001b[39m]):\n\u001b[1;32m     32\u001b[0m             \u001b[38;5;28;01mif\u001b[39;00m Atemp[i][j] \u001b[38;5;241m==\u001b[39m \u001b[38;5;241m0\u001b[39m: \u001b[38;5;28;01mcontinue\u001b[39;00m\n",
      "\u001b[0;31mIndexError\u001b[0m: tuple index out of range"
     ]
    }
   ],
   "source": [
    "phi = ErrorFunction(mu=0.22, sigma=0.1).phi\n",
    "plasticity = ThresholdPlasticityRule(x_f=0.5, q_f=0.8)\n",
    "\n",
    "# populations\n",
    "ctx = Population(N=1000, tau=1e-2, phi=phi, name='ctx')\n",
    "d1 = Population(N=1000, tau=1e-2, phi=phi, name='d1')\n",
    "d2 = Population(N=1000, tau=1e-2, phi=phi, name='d2')\n",
    "pops = np.array([ctx, d1, d2])\n",
    "\n",
    "# patterns \n",
    "S, P = 1, 3\n",
    "sequences_ctx = [GaussianSequence(P,ctx.size, seed=114) for i in range(S)]\n",
    "patterns_ctx = np.stack([s.inputs for s in sequences_ctx])\n",
    "sequences_d1 = [GaussianSequence(P,d1.size, seed=29) for i in range(S)]\n",
    "patterns_d1 = np.stack([s.inputs for s in sequences_d1])\n",
    "sequences_d2 = [GaussianSequence(P,d2.size, seed=35) for i in range(S)]\n",
    "patterns_d2 = np.stack([s.inputs for s in sequences_d2])\n",
    "patterns = [patterns_ctx, patterns_d1, patterns_d2]\n",
    "\n",
    "# connectivity probabilities\n",
    "cp = np.array([[0.05, 0.05, 0.05], \n",
    "               [0.05, 0.05, 0.5],\n",
    "               [0.05, 0.5, 0.05]])\n",
    "cw = np.array([[0, 1, -1],\n",
    "               [1, -1, -1],\n",
    "               [1, -1, -1]])\n",
    "\n",
    "Ai1 = np.vstack([[[4,0,0],\n",
    "                  [0,4,0],\n",
    "                  [0,0,4]],\n",
    "                 [[0,0,0],\n",
    "                  [0,0,0],\n",
    "                  [0,0,0]],\n",
    "                 [[0,0,0],\n",
    "                  [0,0,0],\n",
    "                  [0,0,0]]])\n",
    "\n",
    "Ai2 = np.vstack([[[0,0,0],\n",
    "                  [0,0,0],\n",
    "                  [0,0,0]],\n",
    "                 [[4,0,0],\n",
    "                  [0,4,0],\n",
    "                  [0,0,4]],\n",
    "                 [[1,0,0],\n",
    "                  [0,1,0],\n",
    "                  [0,0,1]]])\n",
    "\n",
    "Ai3 = np.vstack([[[1,0,0],\n",
    "                  [0,1,0],\n",
    "                  [0,0,1]],\n",
    "                 [[1,0,0],\n",
    "                  [0,1,0],\n",
    "                  [0,0,1]],\n",
    "                 [[4,0,0],\n",
    "                  [0,4,0],\n",
    "                  [0,0,4]]])\n",
    "\n",
    "A = np.hstack([Ai1, Ai2, Ai3])\n",
    "\n",
    "\n",
    "plasticity_rule = np.array([[0, 0, 0],\n",
    "                            [1, 0, 2],\n",
    "                            [1, 2, 0]])\n",
    "\n",
    "J = set_connectivity(pops, cp, cw, A, plasticity_rule, patterns, plasticity)\n",
    "\n",
    "network = RateNetwork(pops, J, formulation=5, disable_pbar=True)"
   ]
  },
  {
   "cell_type": "code",
   "execution_count": null,
   "metadata": {},
   "outputs": [],
   "source": [
    "# init_input_ctx = np.random.RandomState().normal(0,1,size=patterns_ctx[0][0].shape)\n",
    "# init_input_d1 = np.random.RandomState().normal(0,1,size=patterns_d1[0][0].shape)\n",
    "\n",
    "# init_input = [phi(patterns_ctx[0][0]), \n",
    "#               phi(patterns_d1[0][0]), \n",
    "#               phi(patterns_d2[0][0])]\n",
    "init_input = [phi(np.zeros(ctx.size)),\n",
    "              phi(np.zeros(d1.size)),\n",
    "              phi(np.zeros(d2.size))]\n",
    "input_patterns = [p[0] for p in patterns]\n",
    "r_ext = [lambda t:0, lambda t:1, lambda t:1]\n",
    "\n",
    "T=1 #ms\n",
    "mouse = ReachingTask()\n",
    "network.simulate_learning(mouse, T, init_input, input_patterns, plasticity, \n",
    "                          delta_t=500, eta=0.0005, tau_e=1600, lamb=0.5, \n",
    "                          noise=.13, etrace=False, hyper=True,\n",
    "                          r_ext=r_ext, print_output=False)"
   ]
  },
  {
   "cell_type": "code",
   "execution_count": null,
   "metadata": {},
   "outputs": [],
   "source": [
    "overlaps_ctx = sequences_ctx[0].overlaps(network.pops[0])\n",
    "overlaps_d1 = sequences_d1[0].overlaps(network.pops[1])\n",
    "overlaps_d2 = sequences_d2[0].overlaps(network.pops[2])\n",
    "# filename = 'learning-0005-1600-600-5-1000-v0'\n",
    "# np.savez('./data/' + filename + '.npz', \n",
    "#          overlaps_ctx=overlaps_ctx, overlaps_bg=overlaps_bg, \n",
    "#          correlations_ctx=correlations_ctx, correlations_bg=correlations_bg, \n",
    "#          state_ctx=net_ctx.exc.state, state_bg=net_bg.exc.state)"
   ]
  },
  {
   "cell_type": "code",
   "execution_count": null,
   "metadata": {},
   "outputs": [],
   "source": [
    "sns.set_style('white') \n",
    "colors = sns.color_palette('deep')\n",
    "\n",
    "fig, axes = plt.subplots(3,1, sharex=True, sharey=True, tight_layout=True, figsize=(20,20))\n",
    "axes[0].plot(overlaps_ctx[0], linestyle='solid', linewidth=3, color=colors[8])\n",
    "axes[0].plot(overlaps_ctx[1], linestyle='dashed', linewidth=3, color=colors[0])\n",
    "axes[0].plot(overlaps_ctx[2], linestyle='dotted', linewidth=3, color=colors[3])\n",
    "axes[0].set_yticks([0.0, 0.1, 0.2, 0.3, 0.4])\n",
    "axes[0].set_title(\"CTX\", fontsize=25)\n",
    "axes[1].plot(overlaps_d1[0], linestyle='solid', linewidth=3, color=colors[8])\n",
    "axes[1].plot(overlaps_d1[1], linestyle='dashed', linewidth=3, color=colors[0])\n",
    "axes[1].plot(overlaps_d1[2], linestyle='dotted', linewidth=3, color=colors[3])\n",
    "axes[1].set_yticks([0.0, 0.1, 0.2, 0.3, 0.4])\n",
    "axes[1].set_title(\"D1\", fontsize=25)\n",
    "axes[1].set_xlabel('Time (ms)', fontsize=20)\n",
    "axes[2].plot(overlaps_d2[0], linestyle='solid', linewidth=3, color=colors[8])\n",
    "axes[2].plot(overlaps_d2[1], linestyle='dashed', linewidth=3, color=colors[0])\n",
    "axes[2].plot(overlaps_d2[2], linestyle='dotted', linewidth=3, color=colors[3])\n",
    "axes[2].set_yticks([0.0, 0.1, 0.2, 0.3, 0.4])\n",
    "axes[2].set_title(\"D2\", fontsize=25)\n",
    "axes[2].set_xlabel('Time (ms)', fontsize=20)\n",
    "fig.text(-0.01, 0.5, 'Overlap', va='center', rotation='vertical', fontsize=20)\n",
    "plt.setp(axes, xlim=(0, 1000))\n",
    "plt.setp(axes, ylim=(-0.4, 0.4))\n",
    "plt.figlegend(labels=['Aim', 'Reach', 'Lick'], fontsize=20)\n",
    "plt.savefig('/work/jp464/striatum-sequence/output/sign.jpg', bbox_inches = \"tight\", format='jpg')\n",
    "\n",
    "plt.show()\n"
   ]
  }
 ],
 "metadata": {
  "kernelspec": {
   "display_name": "striatum",
   "language": "python",
   "name": "striatum"
  },
  "language_info": {
   "codemirror_mode": {
    "name": "ipython",
    "version": 3
   },
   "file_extension": ".py",
   "mimetype": "text/x-python",
   "name": "python",
   "nbconvert_exporter": "python",
   "pygments_lexer": "ipython3",
   "version": "3.8.17"
  }
 },
 "nbformat": 4,
 "nbformat_minor": 4
}
