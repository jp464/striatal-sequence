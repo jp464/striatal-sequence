{
 "cells": [
  {
   "cell_type": "code",
   "execution_count": 1,
   "metadata": {},
   "outputs": [],
   "source": [
    "import sys\n",
    "sys.path.insert(0, '../../../network')"
   ]
  },
  {
   "cell_type": "code",
   "execution_count": 2,
   "metadata": {},
   "outputs": [],
   "source": [
    "import logging\n",
    "import argparse\n",
    "import numpy as np\n",
    "from network import Population, RateNetwork\n",
    "from learning import ReachingTask\n",
    "from transfer_functions import ErrorFunction\n",
    "from connectivity import SparseConnectivity, LinearSynapse, ThresholdPlasticityRule, set_connectivity \n",
    "from sequences import GaussianSequence\n",
    "import matplotlib.pyplot as plt\n",
    "import seaborn as sns\n",
    "logging.basicConfig(level=logging.INFO)"
   ]
  },
  {
   "cell_type": "code",
   "execution_count": 3,
   "metadata": {},
   "outputs": [
    {
     "name": "stderr",
     "output_type": "stream",
     "text": [
      "INFO:connectivity:Building connections from ctx to ctx\n",
      "INFO:connectivity:Storing attractors\n",
      "100%|██████████| 1000/1000 [00:00<00:00, 27899.35it/s]\n",
      "INFO:connectivity:Building connections from ctx to d1\n",
      "INFO:connectivity:Storing sequences\n",
      "  0%|          | 0/1 [00:00<?, ?it/s]\n",
      "100%|██████████| 1000/1000 [00:00<00:00, 28331.85it/s]\n",
      "100%|██████████| 1/1 [00:00<00:00, 24.96it/s]\n",
      "INFO:connectivity:Applying synaptic transfer function\n",
      "INFO:connectivity:Building sparse matrix\n",
      "INFO:connectivity:Building connections from ctx to d2\n",
      "INFO:connectivity:Storing sequences\n",
      "  0%|          | 0/1 [00:00<?, ?it/s]\n",
      "100%|██████████| 1000/1000 [00:00<00:00, 32789.26it/s]\n",
      "100%|██████████| 1/1 [00:00<00:00, 30.80it/s]\n",
      "INFO:connectivity:Applying synaptic transfer function\n",
      "INFO:connectivity:Building sparse matrix\n",
      "INFO:connectivity:Building connections from d1 to ctx\n",
      "INFO:connectivity:Storing attractors\n",
      "100%|██████████| 1000/1000 [00:00<00:00, 32430.52it/s]\n",
      "INFO:connectivity:Building connections from d1 to d1\n",
      "INFO:connectivity:Storing attractors\n",
      "100%|██████████| 1000/1000 [00:00<00:00, 33517.16it/s]\n",
      "INFO:connectivity:Building connections from d1 to d2\n",
      "INFO:connectivity:Building connections from d2 to ctx\n",
      "INFO:connectivity:Storing attractors\n",
      "100%|██████████| 1000/1000 [00:00<00:00, 30140.80it/s]\n",
      "INFO:connectivity:Building connections from d2 to d1\n",
      "INFO:connectivity:Building connections from d2 to d2\n",
      "INFO:connectivity:Storing attractors\n",
      "100%|██████████| 1000/1000 [00:00<00:00, 30673.12it/s]\n"
     ]
    }
   ],
   "source": [
    "phi = ErrorFunction(mu=0.22, sigma=0.1).phi\n",
    "plasticity = ThresholdPlasticityRule(x_f=0.5, q_f=0.8)\n",
    "\n",
    "# populations\n",
    "ctx = Population(N=1000, tau=1e-2, phi=phi, name='ctx')\n",
    "d1 = Population(N=1000, tau=1e-2, phi=phi, name='d1')\n",
    "pops = np.array([ctx, d1])\n",
    "\n",
    "# patterns \n",
    "S, P = 1, 3\n",
    "sequences_ctx = [GaussianSequence(P,ctx.size, seed=114) for i in range(S)]\n",
    "patterns_ctx = np.stack([s.inputs for s in sequences_ctx])\n",
    "sequences_d1 = [GaussianSequence(P,d1.size, seed=29) for i in range(S)]\n",
    "patterns_d1 = np.stack([s.inputs for s in sequences_d1])\n",
    "patterns = [patterns_ctx, patterns_d1]\n",
    "\n",
    "# connectivity probabilities\n",
    "cp = np.array([[0.05, 0.05], \n",
    "               [0.05, 0.05]])\n",
    "cw = np.array([[0, 0],\n",
    "               [0, 0]])\n",
    "A = np.array([[4, 0],\n",
    "              [1, 4]])\n",
    "\n",
    "plasticity_rule = np.array([[0, 0],\n",
    "                            [1, 0]])\n",
    "\n",
    "J = set_connectivity(pops, cp, cw, A, plasticity_rule, patterns, plasticity)\n",
    "\n",
    "network = RateNetwork(pops, J, formulation=5)"
   ]
  },
  {
   "cell_type": "code",
   "execution_count": 4,
   "metadata": {},
   "outputs": [
    {
     "name": "stderr",
     "output_type": "stream",
     "text": [
      "INFO:network:Integrating network dynamics\n",
      "  0%|          | 0/9999 [00:00<?, ?it/s]"
     ]
    },
    {
     "ename": "UnboundLocalError",
     "evalue": "local variable 'prev_action1' referenced before assignment",
     "output_type": "error",
     "traceback": [
      "\u001b[0;31m---------------------------------------------------------------------------\u001b[0m",
      "\u001b[0;31mUnboundLocalError\u001b[0m                         Traceback (most recent call last)",
      "Cell \u001b[0;32mIn[4], line 13\u001b[0m\n\u001b[1;32m     10\u001b[0m T\u001b[38;5;241m=\u001b[39m\u001b[38;5;241m10\u001b[39m\n\u001b[1;32m     11\u001b[0m mouse \u001b[38;5;241m=\u001b[39m ReachingTask()\n\u001b[0;32m---> 13\u001b[0m \u001b[43mnetwork\u001b[49m\u001b[38;5;241;43m.\u001b[39;49m\u001b[43msimulate_euler2\u001b[49m\u001b[43m(\u001b[49m\u001b[43mmouse\u001b[49m\u001b[43m,\u001b[49m\u001b[43m \u001b[49m\u001b[43mT\u001b[49m\u001b[43m,\u001b[49m\u001b[43m \u001b[49m\u001b[43minit_input_ctx\u001b[49m\u001b[43m,\u001b[49m\u001b[43m \u001b[49m\u001b[43minit_input_d1\u001b[49m\u001b[43m,\u001b[49m\u001b[43m \u001b[49m\u001b[43minit_input_d2\u001b[49m\u001b[43m,\u001b[49m\u001b[43m \u001b[49m\u001b[43minit_y1\u001b[49m\u001b[43m,\u001b[49m\u001b[43m \u001b[49m\u001b[43minit_y2\u001b[49m\u001b[43m,\u001b[49m\n\u001b[1;32m     14\u001b[0m \u001b[43m                        \u001b[49m\u001b[43mpatterns_ctx\u001b[49m\u001b[43m[\u001b[49m\u001b[38;5;241;43m0\u001b[39;49m\u001b[43m]\u001b[49m\u001b[43m,\u001b[49m\u001b[43m \u001b[49m\u001b[43mpatterns_d1\u001b[49m\u001b[43m[\u001b[49m\u001b[38;5;241;43m0\u001b[39;49m\u001b[43m]\u001b[49m\u001b[43m,\u001b[49m\u001b[43m \u001b[49m\u001b[43mpatterns_d2\u001b[49m\u001b[43m[\u001b[49m\u001b[38;5;241;43m0\u001b[39;49m\u001b[43m]\u001b[49m\u001b[43m,\u001b[49m\u001b[43m \u001b[49m\u001b[43mdetection_thres\u001b[49m\u001b[38;5;241;43m=\u001b[39;49m\u001b[38;5;241;43m.23\u001b[39;49m\u001b[43m,\u001b[49m\n\u001b[1;32m     15\u001b[0m \u001b[43m                        \u001b[49m\u001b[43mnoise1\u001b[49m\u001b[38;5;241;43m=\u001b[39;49m\u001b[38;5;241;43m.13\u001b[39;49m\u001b[43m,\u001b[49m\u001b[43m \u001b[49m\u001b[43mnoise2\u001b[49m\u001b[38;5;241;43m=\u001b[39;49m\u001b[38;5;241;43m0.13\u001b[39;49m\u001b[43m,\u001b[49m\u001b[43m \u001b[49m\u001b[43mnoise3\u001b[49m\u001b[38;5;241;43m=\u001b[39;49m\u001b[38;5;241;43m0.13\u001b[39;49m\u001b[43m)\u001b[49m\n",
      "File \u001b[0;32m~/striatal-sequence/figures/article/1/../../../network/network.py:193\u001b[0m, in \u001b[0;36mRateNetwork.simulate_euler2\u001b[0;34m(self, mouse, t, r1, r2, r3, y2, y3, patterns_ctx, patterns_d1, patterns_d2, detection_thres, noise1, noise2, noise3, t0, dt, r_ext)\u001b[0m\n\u001b[1;32m    190\u001b[0m state2[:,i\u001b[38;5;241m+\u001b[39m\u001b[38;5;241m1\u001b[39m] \u001b[38;5;241m=\u001b[39m state2[:,i] \u001b[38;5;241m+\u001b[39m dt \u001b[38;5;241m*\u001b[39m dr2 \u001b[38;5;241m+\u001b[39m np\u001b[38;5;241m.\u001b[39mrandom\u001b[38;5;241m.\u001b[39mnormal(size\u001b[38;5;241m=\u001b[39m\u001b[38;5;28mself\u001b[39m\u001b[38;5;241m.\u001b[39mpops[\u001b[38;5;241m1\u001b[39m]\u001b[38;5;241m.\u001b[39msize) \u001b[38;5;241m*\u001b[39m noise2\n\u001b[1;32m    192\u001b[0m \u001b[38;5;66;03m# detect action transition\u001b[39;00m\n\u001b[0;32m--> 193\u001b[0m prev_action1, prev_idx1, mouse\u001b[38;5;241m.\u001b[39maction_dur1, transition1 \u001b[38;5;241m=\u001b[39m action_transition(\u001b[43mprev_action1\u001b[49m, prev_idx1, mouse\u001b[38;5;241m.\u001b[39maction_dur1, state1[:,i\u001b[38;5;241m+\u001b[39m\u001b[38;5;241m1\u001b[39m], patterns_ctx, thres\u001b[38;5;241m=\u001b[39mdetection_thres)\n\u001b[1;32m    194\u001b[0m prev_action2, prev_idx2, mouse\u001b[38;5;241m.\u001b[39maction_dur2, transition2 \u001b[38;5;241m=\u001b[39m action_transition(prev_action2, prev_idx2, mouse\u001b[38;5;241m.\u001b[39maction_dur2, state2[:,i\u001b[38;5;241m+\u001b[39m\u001b[38;5;241m1\u001b[39m], patterns_bg, thres\u001b[38;5;241m=\u001b[39mdetection_thres)\n\u001b[1;32m    196\u001b[0m \u001b[38;5;66;03m# hyperpolarizing current \u001b[39;00m\n",
      "\u001b[0;31mUnboundLocalError\u001b[0m: local variable 'prev_action1' referenced before assignment"
     ]
    }
   ],
   "source": [
    "init_input_ctx = phi(patterns_ctx[0][0])\n",
    "# init_input_bg = phi(patterns_bg[0][0])\n",
    "# init_input_ctx = np.random.normal(net_ctx.size)\n",
    "# init_input_d1 = np.random.normal(d1.size)\n",
    "# init_input_d2 = np.random.normal(d2.size)\n",
    "init_input_d1 = np.zeros(d1.size)\n",
    "init_input_d2 = np.zeros(d2.size)\n",
    "init_y1 = np.ones(d1.size) * .7\n",
    "init_y2 = np.zeros(d2.size)\n",
    "T=10\n",
    "mouse = ReachingTask()\n",
    "\n",
    "network.simulate_euler2(mouse, T, init_input_ctx, init_input_d1, \n",
    "                        patterns_ctx[0], patterns_d1[0], detection_thres=.23,\n",
    "                        noise1=.13, noise2=0.13)"
   ]
  },
  {
   "cell_type": "code",
   "execution_count": null,
   "metadata": {},
   "outputs": [],
   "source": [
    "# overlaps = sequences_ctx[0].overlaps(net_ctx, ctx, phi=phi)\n",
    "overlaps_ctx = sequences_ctx[0].overlaps(network.pops[0])\n",
    "overlaps_d1 = sequences_d1[0].overlaps(network.pops[1])\n",
    "overlaps_d2 = sequences_d2[0].overlaps(network.pops[2])"
   ]
  },
  {
   "cell_type": "code",
   "execution_count": null,
   "metadata": {},
   "outputs": [],
   "source": [
    "sns.set_style('white') \n",
    "colors = sns.color_palette('deep')\n"
   ]
  },
  {
   "cell_type": "code",
   "execution_count": null,
   "metadata": {},
   "outputs": [],
   "source": [
    "fig, axes = plt.subplots(3,1, sharex=True, sharey=True, tight_layout=True, figsize=(20,20))\n",
    "axes[0].plot(overlaps_ctx[0], linestyle='solid', linewidth=3, color=colors[8])\n",
    "axes[0].plot(overlaps_ctx[1], linestyle='dashed', linewidth=3, color=colors[0])\n",
    "axes[0].plot(overlaps_ctx[2], linestyle='dotted', linewidth=3, color=colors[3])\n",
    "axes[0].set_yticks([0.0, 0.1, 0.2, 0.3, 0.4])\n",
    "axes[0].set_title(\"CTX\", fontsize=25)\n",
    "axes[1].plot(overlaps_d1[0], linestyle='solid', linewidth=3, color=colors[8])\n",
    "axes[1].plot(overlaps_d1[1], linestyle='dashed', linewidth=3, color=colors[0])\n",
    "axes[1].plot(overlaps_d1[2], linestyle='dotted', linewidth=3, color=colors[3])\n",
    "axes[1].set_yticks([0.0, 0.1, 0.2, 0.3, 0.4])\n",
    "axes[1].set_title(\"D1\", fontsize=25)\n",
    "axes[1].set_xlabel('Time (ms)', fontsize=20)\n",
    "axes[2].plot(overlaps_d2[0], linestyle='solid', linewidth=3, color=colors[8])\n",
    "axes[2].plot(overlaps_d2[1], linestyle='dashed', linewidth=3, color=colors[0])\n",
    "axes[2].plot(overlaps_d2[2], linestyle='dotted', linewidth=3, color=colors[3])\n",
    "axes[2].set_yticks([0.0, 0.1, 0.2, 0.3, 0.4])\n",
    "axes[2].set_title(\"D2\", fontsize=25)\n",
    "axes[2].set_xlabel('Time (ms)', fontsize=20)\n",
    "fig.text(-0.01, 0.5, 'Overlap', va='center', rotation='vertical', fontsize=20)\n",
    "plt.setp(axes, xlim=(0, 10000))\n",
    "plt.setp(axes, ylim=(0, 0.4))\n",
    "plt.figlegend(labels=['Aim', 'Reach', 'Lick'], fontsize=20)\n",
    "plt.savefig('./d1d2.png', bbox_inches = \"tight\", format='png')\n",
    "\n",
    "plt.show()\n"
   ]
  },
  {
   "cell_type": "code",
   "execution_count": null,
   "metadata": {},
   "outputs": [],
   "source": [
    "plt.plot(np.average(network.pops[1].state, axis=0), label='firing rate')\n",
    "plt.plot(np.average(network.pops[1].depression * network.pops[1].state, axis=0), label='xy')\n",
    "plt.xlim(0, 20000)\n",
    "plt.legend()\n",
    "plt.savefig('./d1avg.png', bbox_inches = \"tight\", format='png')\n",
    "\n",
    "\n"
   ]
  },
  {
   "cell_type": "code",
   "execution_count": null,
   "metadata": {},
   "outputs": [],
   "source": [
    "plt.plot(np.average(network.pops[2].state, axis=0), label='firing rate')\n",
    "plt.plot(np.average(network.pops[2].depression * network.pops[2].state, axis=0), label='xy')\n",
    "plt.xlim(0, 20000)\n",
    "plt.legend()\n",
    "plt.savefig('./d2avg.png', bbox_inches = \"tight\", format='png')"
   ]
  },
  {
   "cell_type": "code",
   "execution_count": null,
   "metadata": {},
   "outputs": [],
   "source": []
  }
 ],
 "metadata": {
  "kernelspec": {
   "display_name": "striatum",
   "language": "python",
   "name": "striatum"
  },
  "language_info": {
   "codemirror_mode": {
    "name": "ipython",
    "version": 3
   },
   "file_extension": ".py",
   "mimetype": "text/x-python",
   "name": "python",
   "nbconvert_exporter": "python",
   "pygments_lexer": "ipython3",
   "version": "3.8.17"
  }
 },
 "nbformat": 4,
 "nbformat_minor": 4
}
