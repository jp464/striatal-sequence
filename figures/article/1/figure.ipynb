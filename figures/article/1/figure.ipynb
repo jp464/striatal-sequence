{
 "cells": [
  {
   "cell_type": "code",
   "execution_count": 1,
   "metadata": {},
   "outputs": [],
   "source": [
    "import sys\n",
    "sys.path.insert(0, '../../../network')\n",
    "sys.path.insert(0, '../../../figures')\n",
    "from sequences import GaussianSequence\n",
    "from transfer_functions import ErrorFunction\n",
    "import itertools\n",
    "import numpy as np\n",
    "import matplotlib.pyplot as plt\n",
    "import seaborn as sns\n",
    "from helpers import learning_performance\n",
    "from learning import ReachingTask\n",
    "\n"
   ]
  },
  {
   "cell_type": "code",
   "execution_count": 2,
   "metadata": {},
   "outputs": [],
   "source": [
    "# Set font family globally\n",
    "sns.set_style('white') \n",
    "plt.rcParams[\"font.family\"] = 'arial'\n",
    "colors = sns.color_palette('deep')\n",
    "plt.rc('xtick', labelsize=20) \n",
    "plt.rc('ytick', labelsize=20) \n",
    "plt.rcParams['axes.linewidth'] = 0.1"
   ]
  },
  {
   "cell_type": "code",
   "execution_count": 3,
   "metadata": {},
   "outputs": [],
   "source": [
    "filename = '/Users/stanleypark/Desktop/learning-0005-1600-600-5-1000-v0.npz'\n",
    "data = np.load(filename) \n",
    "overlaps_ctx = data['overlaps_ctx']\n",
    "overlaps_bg = data['overlaps_bg']\n",
    "correlations_ctx = data['correlations_ctx']\n",
    "correlations_bg = data['correlations_bg']\n",
    "state_ctx = data['state_ctx']\n",
    "state_bg = data['state_bg']"
   ]
  },
  {
   "cell_type": "raw",
   "metadata": {},
   "source": [
    "fig, axes = plt.subplots(2,1, sharex=True, sharey=True, tight_layout=True, figsize=(20,13))\n",
    "for i in range(len(overlaps_ctx)):\n",
    "    axes[0].plot(overlaps_ctx[i], linewidth=3, color=colors[i])\n",
    "# axes[0].plot(overlaps_ctx[0], linestyle='solid', linewidth=4, color=colors[8])\n",
    "# axes[0].plot(overlaps_ctx[1], linestyle='dashed', linewidth=4, color=colors[0])\n",
    "# axes[0].plot(overlaps_ctx[2], linestyle='dotted', linewidth=4, color=colors[3])\n",
    "axes[0].set_yticks([0.0, 0.1, 0.2, 0.3, 0.4])\n",
    "axes[0].set_title(\"CTX\", fontsize=28, weight='bold')\n",
    "for i in range(len(overlaps_bg)):\n",
    "    axes[1].plot(overlaps_bg[i], linewidth=3, color=colors[i])\n",
    "# axes[1].plot(overlaps_bg[0], linestyle='solid', linewidth=4, color=colors[8])\n",
    "# axes[1].plot(overlaps_bg[1], linestyle='dashed', linewidth=4, color=colors[0])\n",
    "# axes[1].plot(overlaps_bg[2], linestyle='dotted', linewidth=4, color=colors[3])\n",
    "axes[1].set_yticks([0.0, 0.1, 0.2, 0.3, 0.4])\n",
    "axes[1].set_title(\"STR\", fontsize=28, weight='bold')\n",
    "axes[1].set_xlabel('Time (ms)', fontsize=20)\n",
    "fig.text(-0.01, 0.5, 'Overlap', va='center', rotation='vertical', fontsize=20)\n",
    "plt.setp(axes, xlim=(0, 500000))\n",
    "plt.figlegend(labels=['Aim', 'Reach', 'Lick'], fontsize=20)\n",
    "# plt.savefig('./output/seq7.svg', dpi=300, bbox_inches = \"tight\", format='svg')\n",
    "plt.show()\n"
   ]
  },
  {
   "cell_type": "code",
   "execution_count": null,
   "metadata": {},
   "outputs": [],
   "source": [
    "fig, axes = plt.subplots(sharex=True, sharey=True, tight_layout=True, figsize=(20,13))\n",
    "idxs = np.argsort([np.argmax(r) for r in state_ctx[:,402500: 404200]])\n",
    "idxs = [i for i in idxs if state_ctx[:,402500: 404200][i].max() > 0.00]\n",
    "state_ctx = state_ctx[0:10000]\n",
    "axes.pcolormesh(state_ctx[idxs], vmin=0.0, vmax=1.0, cmap='viridis', rasterized=True)\n",
    "axes.set_xlabel('Time (ms)', fontsize=25)\n",
    "axes.set_ylabel('Neuron unit', fontsize=25)\n",
    "axes.set_yticks([0, 1000])\n",
    "plt.setp(axes, xlim=(0, 500000))\n",
    "# plt.savefig('./learning-0005-1600-5-v1-raster.svg', dpi=300, bbox_inches = \"tight\", format='svg')\n",
    "plt.show()"
   ]
  },
  {
   "cell_type": "raw",
   "metadata": {},
   "source": [
    "mouse = ReachingTask(3, alpha=0.5)\n",
    "performance = learning_performance(mouse, correlations_ctx, 180000)\n",
    "fig, axes = plt.subplots(sharex=True, sharey=True, tight_layout=True, figsize=(20,13))\n",
    "axes.plot(performance, marker='o', linewidth=4, markersize=10)\n",
    "axes.set_ylabel('Reward rate (reward/s)', fontsize=25)\n",
    "axes.set_xlabel('Session', fontsize=25)\n",
    "plt.savefig('./learning-0005-1600-600-5-1000-v0-learning-performance.svg', dpi=300, bbox_inches = \"tight\", format='svg')\n",
    "plt.show()"
   ]
  }
 ],
 "metadata": {
  "kernelspec": {
   "display_name": "Python 3 (ipykernel)",
   "language": "python",
   "name": "python3"
  },
  "language_info": {
   "codemirror_mode": {
    "name": "ipython",
    "version": 3
   },
   "file_extension": ".py",
   "mimetype": "text/x-python",
   "name": "python",
   "nbconvert_exporter": "python",
   "pygments_lexer": "ipython3",
   "version": "3.8.13"
  }
 },
 "nbformat": 4,
 "nbformat_minor": 4
}
