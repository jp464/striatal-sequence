{
 "cells": [
  {
   "cell_type": "code",
   "execution_count": 1,
   "metadata": {},
   "outputs": [],
   "source": [
    "import sys\n",
    "sys.path.insert(0, '../../../network')\n",
    "sys.path.insert(0, '../../../figures')\n",
    "from sequences import GaussianSequence\n",
    "from transfer_functions import ErrorFunction\n",
    "import itertools\n",
    "import numpy as np\n",
    "import matplotlib.pyplot as plt\n",
    "import seaborn as sns"
   ]
  },
  {
   "cell_type": "code",
   "execution_count": 2,
   "metadata": {},
   "outputs": [],
   "source": [
    "sns.set_style('dark') \n",
    "# plt.rcParams[\"font.family\"] = \"arial\"\n",
    "colors = sns.color_palette('deep')"
   ]
  },
  {
   "cell_type": "code",
   "execution_count": null,
   "metadata": {},
   "outputs": [],
   "source": [
    "filename = './output/kindof2.npz'\n",
    "data = np.load(filename) \n",
    "overlaps_ctx = data['overlaps_ctx']\n",
    "overlaps_bg = data['overlaps_bg']"
   ]
  },
  {
   "cell_type": "code",
   "execution_count": null,
   "metadata": {},
   "outputs": [],
   "source": [
    "fig, axes = plt.subplots(2,1, sharex=True, sharey=True, tight_layout=True, figsize=(20,13))\n",
    "axes[0].plot(overlaps_ctx[0], linestyle='solid', linewidth=4, color=colors[8])\n",
    "axes[0].plot(overlaps_ctx[1], linestyle='dashed', linewidth=4, color=colors[0])\n",
    "axes[0].plot(overlaps_ctx[2], linestyle='dotted', linewidth=4, color=colors[3])\n",
    "axes[0].set_yticks([0.0, 0.1, 0.2, 0.3, 0.4])\n",
    "axes[0].set_title(\"CTX\", fontsize=25)\n",
    "axes[1].plot(overlaps_bg[0], linestyle='solid', linewidth=4, color=colors[8])\n",
    "axes[1].plot(overlaps_bg[1], linestyle='dashed', linewidth=4, color=colors[0])\n",
    "axes[1].plot(overlaps_bg[2], linestyle='dotted', linewidth=4, color=colors[3])\n",
    "axes[1].set_yticks([0.0, 0.1, 0.2, 0.3, 0.4])\n",
    "axes[1].set_title(\"BG\", fontsize=25)\n",
    "axes[1].set_xlabel('Time (ms)', fontsize=20)\n",
    "fig.text(-0.01, 0.5, 'Overlap', va='center', rotation='vertical', fontsize=20)\n",
    "plt.setp(axes, xlim=(0, 10000))\n",
    "plt.figlegend(labels=['Aim', 'Reach', 'Lick'], fontsize=20)\n",
    "plt.show()\n"
   ]
  }
 ],
 "metadata": {
  "kernelspec": {
   "display_name": "Python 3 (ipykernel)",
   "language": "python",
   "name": "python3"
  },
  "language_info": {
   "codemirror_mode": {
    "name": "ipython",
    "version": 3
   },
   "file_extension": ".py",
   "mimetype": "text/x-python",
   "name": "python",
   "nbconvert_exporter": "python",
   "pygments_lexer": "ipython3",
   "version": "3.8.13"
  }
 },
 "nbformat": 4,
 "nbformat_minor": 4
}
