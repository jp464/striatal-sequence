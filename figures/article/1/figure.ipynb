{
 "cells": [
  {
   "cell_type": "code",
   "execution_count": 5,
   "metadata": {},
   "outputs": [],
   "source": [
    "import sys\n",
    "sys.path.insert(0, '../../../network')\n",
    "sys.path.insert(0, '../../../figures')\n",
    "from sequences import GaussianSequence\n",
    "from transfer_functions import ErrorFunction\n",
    "import itertools\n",
    "import numpy as np\n",
    "import matplotlib.pyplot as plt\n",
    "import seaborn as sns\n",
    "from learning import ReachingTask"
   ]
  },
  {
   "cell_type": "code",
   "execution_count": 6,
   "metadata": {},
   "outputs": [],
   "source": [
    "# Set font family globally\n",
    "sns.set_style('white') \n",
    "plt.rcParams[\"font.family\"] = 'arial'\n",
    "colors = sns.color_palette('deep')\n",
    "plt.rc('xtick', labelsize=20) \n",
    "plt.rc('ytick', labelsize=20) \n",
    "plt.rcParams['axes.linewidth'] = 0.1"
   ]
  },
  {
   "cell_type": "code",
   "execution_count": 7,
   "metadata": {},
   "outputs": [],
   "source": [
    "filename = 'learning-0005-1600-600-5-1000-v1'\n",
    "path = './data/' + filename + '.npz'\n",
    "data = np.load(path) \n",
    "overlaps_ctx = data['overlaps_ctx']\n",
    "overlaps_bg = data['overlaps_bg']\n",
    "# correlations_ctx = data['correlations_ctx']\n",
    "# correlations_bg = data['correlations_bg']\n",
    "state_ctx = data['state_ctx']\n",
    "state_bg = data['state_bg']"
   ]
  },
  {
   "cell_type": "code",
   "execution_count": null,
   "metadata": {},
   "outputs": [],
   "source": [
    "fig, axes = plt.subplots(2,1, sharex=True, sharey=True, tight_layout=True, figsize=(20,13))\n",
    "\n",
    "axes[0].plot(overlaps_ctx[0], linestyle='solid', linewidth=3, color=colors[8])\n",
    "axes[0].plot(overlaps_ctx[1], linestyle='dashed', linewidth=3, color=colors[0])\n",
    "axes[0].plot(overlaps_ctx[2], linestyle='dotted', linewidth=3, color=colors[3])\n",
    "axes[0].set_yticks([0.0, 0.1, 0.2, 0.3, 0.4])\n",
    "axes[0].set_title(\"CTX\", fontsize=28, weight='bold')\n",
    "axes[1].plot(overlaps_bg[0], linestyle='solid', linewidth=3, color=colors[8])\n",
    "axes[1].plot(overlaps_bg[1], linestyle='dashed', linewidth=3, color=colors[0])\n",
    "axes[1].plot(overlaps_bg[2], linestyle='dotted', linewidth=3, color=colors[3])\n",
    "axes[1].set_yticks([0.0, 0.1, 0.2, 0.3, 0.4])\n",
    "axes[1].set_title(\"STR\", fontsize=28, weight='bold')\n",
    "axes[1].set_xlabel('Time (ms)', fontsize=20)\n",
    "fig.text(-0.01, 0.5, 'Overlap', va='center', rotation='vertical', fontsize=20)\n",
    "plt.setp(axes, xlim=(40000, 60000))\n",
    "plt.figlegend(labels=['Aim', 'Reach', 'Lick'], fontsize=20)\n",
    "plt.savefig('./output/' + filename + '-overlaps' + '.svg', bbox_inches = \"tight\", format='svg')\n",
    "plt.show()\n"
   ]
  },
  {
   "cell_type": "code",
   "execution_count": 12,
   "metadata": {},
   "outputs": [],
   "source": [
    "fig, axes = plt.subplots(sharex=True, sharey=True, tight_layout=True, figsize=(20,13))\n",
    "idxs = np.argsort([np.argmax(r) for r in state_ctx[:,57100:58800]])\n",
    "idxs = [i for i in idxs if state_ctx[:,57100:58800][i].max() > 0.00]\n",
    "temp = state_ctx[:,40000:52350]\n",
    "axes.pcolormesh(temp[idxs], vmin=0.0, vmax=1.0, cmap='viridis', rasterized=True)\n",
    "axes.set_xlabel('Time (ms)', fontsize=25)\n",
    "fig.text(0.01, 0.24, 'Aim', rotation='vertical', fontsize=20)\n",
    "fig.text(0.01, 0.53, 'Reach', rotation='vertical', fontsize=20)\n",
    "fig.text(0.01, 0.82, 'Lick', rotation='vertical', fontsize=20)\n",
    "fig.text(-.025, .49, 'Neuron Unit', rotation='vertical', fontsize=25)\n",
    "plt.savefig('./output/' + filename + '-raster' + '.svg', bbox_inches=\"tight\", format='svg')\n",
    "plt.show()"
   ]
  },
  {
   "cell_type": "code",
   "execution_count": 11,
   "metadata": {},
   "outputs": [],
   "source": [
    "fig, axes = plt.subplots(sharex=True, sharey=True, tight_layout=True, figsize=(20,13))\n",
    "mouse = ReachingTask(3, alpha=0.5)\n",
    "performance = mouse.learning_performance(overlaps_bg, 180000)\n",
    "axes.plot(performance, linewidth=3)\n",
    "axes.set_xlabel('Session')\n",
    "axes.set_ylabel('Reward rate (unit/s)')\n",
    "plt.savefig('./output/' + filename + '-performance' + '.svg', bbox_inches='tight', format='svg')\n",
    "plt.show()"
   ]
  }
 ],
 "metadata": {
  "kernelspec": {
   "display_name": "Python 3 (ipykernel)",
   "language": "python",
   "name": "python3"
  },
  "language_info": {
   "codemirror_mode": {
    "name": "ipython",
    "version": 3
   },
   "file_extension": ".py",
   "mimetype": "text/x-python",
   "name": "python",
   "nbconvert_exporter": "python",
   "pygments_lexer": "ipython3",
   "version": "3.8.13"
  }
 },
 "nbformat": 4,
 "nbformat_minor": 4
}
