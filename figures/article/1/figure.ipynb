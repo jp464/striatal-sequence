{
 "cells": [
  {
   "cell_type": "code",
   "execution_count": null,
   "metadata": {},
   "outputs": [],
   "source": [
    " import sys\n",
    "sys.path.insert(0, '../../../network')\n",
    "sys.path.insert(0, '../../../figures')\n",
    "from sequences import GaussianSequence\n",
    "from transfer_functions import ErrorFunction\n",
    "import itertools\n",
    "import numpy as np\n",
    "import matplotlib.pyplot as plt\n",
    "import seaborn as sns\n",
    "from learning import ReachingTask\n",
    "import pandas as pd\n",
    "from tqdm import tqdm, trange\n",
    "import matplotlib\n",
    "import matplotlib as mpl\n",
    "from scipy import stats"
   ]
  },
  {
   "cell_type": "code",
   "execution_count": null,
   "metadata": {},
   "outputs": [],
   "source": [
    "# Set font family globally\n",
    "sns.set_style('white') \n",
    "colors = sns.color_palette('deep')\n",
    "plt.rc('xtick', labelsize=16) \n",
    "plt.rc('ytick', labelsize=16) \n",
    "font = {'family' : 'arial',\n",
    "        'weight' : 'light',\n",
    "        'size'   : 18}\n",
    "\n",
    "matplotlib.rc('font', **font)\n",
    "\n",
    "mpl.rcParams['axes.linewidth'] = 2"
   ]
  },
  {
   "cell_type": "markdown",
   "metadata": {},
   "source": [
    "# Filename and Directory"
   ]
  },
  {
   "cell_type": "code",
   "execution_count": null,
   "metadata": {},
   "outputs": [],
   "source": [
    "filename = 'figure'\n",
    "path = '/work/jp464/striatum-sequence/' + filename + '.npz'\n",
    "data = np.load(path) \n",
    "overlaps_ctx = data['overlaps_ctx']\n",
    "overlaps_d1 = data['overlaps_d1']\n",
    "# values = data['values']\n",
    "# rpes = data['rpes']\n",
    "# correlations_ctx = data['correlations_ctx']\n",
    "# correlations_bg = data['correlations_bg']\n",
    "state_ctx = data['state_ctx']\n",
    "state_d1 = data['state_d1']\n",
    "evars = data['evars']"
   ]
  },
  {
   "cell_type": "code",
   "execution_count": null,
   "metadata": {},
   "outputs": [],
   "source": [
    "### Raster plot \n",
    "fig, axes = plt.subplots(nrows=3, ncols=1, sharex=True, tight_layout=True, figsize=(10,10))\n",
    "idxs = np.argsort([np.argmax(r) for r in state_d1[:,2400:2750]])\n",
    "idxs = [i for i in idxs if state_d1[:,2400:2750][i].max() > 0.00]\n",
    "seg_state = state_d1[:,2300:2800]\n",
    "axes[0].pcolormesh(seg_state[idxs], vmin=0.0, vmax=1.0, cmap='viridis', rasterized=True)\n",
    "seg_overlaps_d1 = overlaps_d1[:,2300:2800]\n",
    "axes[1].plot(seg_overlaps_d1[0], linestyle='solid', linewidth=3, color=colors[8])\n",
    "axes[1].plot(seg_overlaps_d1[1], linestyle='dashed', linewidth=3, color=colors[0])\n",
    "axes[1].plot(seg_overlaps_d1[2], linestyle='dotted', linewidth=3, color=colors[3])\n",
    "axes[1].plot(seg_overlaps_d1[3], linestyle='dotted', linewidth=3, color=colors[2])\n",
    "seg_evars = evars[:,2300:2800]\n",
    "axes[2].plot(seg_evars[0], linestyle='solid', linewidth=3, color=colors[8])\n",
    "axes[2].plot(seg_evars[1], linestyle='dashed', linewidth=3, color=colors[0])\n",
    "axes[2].plot(seg_evars[2], linestyle='dotted', linewidth=3, color=colors[3])\n",
    "axes[2].plot(seg_evars[3], linestyle='dotted', linewidth=3, color=colors[2])\n",
    "axes[2].set_xlabel('Time (ms)')\n",
    "fig.text(-.02, .8, 'Neuron', rotation='vertical', fontsize=20)\n",
    "fig.text(-.02, .475, 'Overlap', rotation='vertical', fontsize=20)\n",
    "fig.text(-.02, .125, 'Environment', rotation='vertical', fontsize=20)\n",
    "filename = 'segregated-population'\n",
    "plt.savefig('/work/jp464/striatum-sequence/output/' + filename + '-raster' + '.svg', bbox_inches=\"tight\", format='svg')\n",
    "plt.figlegend(labels=['Aim', 'Reach', 'Lick', 'Scavenge'], fontsize=16, borderpad=0.1, loc='center right')\n",
    "plt.show()"
   ]
  },
  {
   "cell_type": "markdown",
   "metadata": {},
   "source": [
    "### Learning rate"
   ]
  },
  {
   "cell_type": "raw",
   "metadata": {},
   "source": [
    "### Learning rate \n",
    "fig, axes = plt.subplots(sharex=True, sharey=True, tight_layout=True, figsize=(20,13))\n",
    "mouse = ReachingTask(3, alpha=0.5)\n",
    "performance = mouse.learning_performance(overlaps_bg, 180000)\n",
    "axes.plot(performance, linewidth=3)\n",
    "axes.set_xlabel('Session')\n",
    "axes.set_ylabel('Reward rate (unit/s)')\n",
    "plt.savefig('./output/' + filename + '-performance' + '.svg', bbox_inches='tight', format='svg')\n",
    "plt.show()"
   ]
  },
  {
   "cell_type": "markdown",
   "metadata": {},
   "source": [
    "### Phase diagram"
   ]
  },
  {
   "cell_type": "code",
   "execution_count": null,
   "metadata": {},
   "outputs": [],
   "source": [
    "def infer(A, k):\n",
    "    for x in range(A.shape[0]):\n",
    "        for y in range(A.shape[1]):\n",
    "            if A[x,y] != 0: continue\n",
    "            seq, att = 0, 0\n",
    "            cnt = 0\n",
    "            for i in np.arange(-k,k+1,1):\n",
    "                for j in np.arange(-k,k+1,1):\n",
    "                    if x + int(i) < 0 or y + int(j) < 0 or (x+int(i)) >= A.shape[0] or y+int(j) >= A.shape[1]: continue\n",
    "                    score = A[x+int(i),y+int(j)]\n",
    "                    if score == 2:\n",
    "                        seq += 1\n",
    "                    elif score == 1:\n",
    "                        att += 1\n",
    "                    cnt += 1\n",
    "            if max(seq, att) < cnt/2-1: continue\n",
    "            if seq > att:\n",
    "                val = 2\n",
    "            elif seq < att:\n",
    "                val = 1\n",
    "            else:\n",
    "                val = 0\n",
    "            A[x][y] = val\n",
    "\n",
    "def polish(A,k):\n",
    "    for x in range(A.shape[0]):\n",
    "        for y in range(A.shape[1]):\n",
    "            cur = A[x,y]\n",
    "            cnt = 0\n",
    "            wrong = np.zeros(3)\n",
    "            for i in np.arange(-k,k+1,1):\n",
    "                for j in np.arange(-k,k+1,1):\n",
    "                    # Check boundary conditions\n",
    "                    if x + int(i) < 0 or y + int(j) < 0 or (x+int(i)) >= A.shape[0] or y+int(j) >= A.shape[1]: continue\n",
    "                    score = A[x+int(i),y+int(j)]\n",
    "                    if cur != score:\n",
    "                        wrong[score] += 1\n",
    "                    cnt += 1\n",
    "            if np.sum(wrong) > .6 * cnt:\n",
    "                val = np.argmax(wrong)\n",
    "            else: continue\n",
    "\n",
    "            A[x][y] = val\n",
    "            \n",
    "def generate_matrix(df, size=61):\n",
    "    ret = np.zeros((size,size), dtype='int')\n",
    "    for row in df:\n",
    "        idx1, idx2 = int(row[0]/0.1), int(row[1]/0.1)\n",
    "        if row[2]: val = 1 \n",
    "        elif row[3]: val = 2\n",
    "        else: val = 0 \n",
    "        ret[idx1, idx2] = val  \n",
    "    for i in range(5):\n",
    "        infer(ret, 1)\n",
    "    polish(ret, 1)\n",
    "    return ret"
   ]
  },
  {
   "cell_type": "code",
   "execution_count": null,
   "metadata": {},
   "outputs": [],
   "source": [
    "df = pd.read_hdf('/work/jp464/striatum-sequence/output/retrieval_speed.h5', 'data')\n",
    "pdata1 = df[df['Acb'] == .5][['Acc', 'Abc', 'seq', 'att']].to_numpy()\n",
    "pdata2 = df[df['Acb'] == 1.5][['Acc', 'Abc', 'seq', 'att']].to_numpy()\n",
    "pdata3 = df[df['Acb'] == 2.5][['Acc', 'Abc', 'seq', 'att']].to_numpy()\n",
    "\n",
    "phase1 = generate_matrix(pdata1)\n",
    "phase2 = generate_matrix(pdata2)\n",
    "phase3 = generate_matrix(pdata3)"
   ]
  },
  {
   "cell_type": "code",
   "execution_count": null,
   "metadata": {},
   "outputs": [],
   "source": [
    "fig, ax = plt.subplots(figsize=(6,6))\n",
    "# ax.contour(phase1, colors='black')\n",
    "ax.contour(phase2, colors='k')\n",
    "ax.set_xticks(np.arange(0, 61, 20), np.arange(0,6.1,2))\n",
    "ax.set_yticks(np.arange(0, 61, 20), np.arange(0,6.1,2))\n",
    "ax.set_xlabel(r'$J^{sc}, \\quad J^{cs} = 2$')\n",
    "ax.set_ylabel(r'$J^{cc} = J^{ss}$')\n",
    "# ax.contour(phase3, colors='green')\n",
    "plt.annotate('No retrieval',(19,15), weight='bold')\n",
    "plt.annotate('Sequences',(30,43), weight='bold')\n",
    "plt.annotate('Fixed points',(2,54), weight='bold')"
   ]
  },
  {
   "cell_type": "markdown",
   "metadata": {},
   "source": [
    "### Clustered Population"
   ]
  },
  {
   "cell_type": "code",
   "execution_count": null,
   "metadata": {},
   "outputs": [],
   "source": [
    "df = pd.read_excel('/work/jp464/striatum-sequence/output/data-clustered-population.xlsx')\n",
    "time = df.iloc[1:,0].to_numpy()\n",
    "time_idx = np.arange(0, len(time), 5)\n",
    "group = df.iloc[0,1:].to_numpy()\n",
    "mask1, mask2, mask3, mask4, mask5, mask6 = np.logical_and(group > 0.5, group < 1.5), np.logical_and(group > 1.5, group < 2.5), np.logical_and(group > 2.5, group < 3.5), np.logical_and(group > 3.5, group < 4.5), np.logical_and(group > 4.5, group < 5.5), np.logical_and(group > 5.5, group < 6.5)\n",
    "group[mask1] = 5\n",
    "group[mask2] = 4\n",
    "group[mask3] = 2\n",
    "group[mask4] = 1\n",
    "group[mask5] = 3\n",
    "group[mask6] = 6\n",
    "neurons_idx = np.argsort(group)\n",
    "\n",
    "data = df.iloc[1:,1:].to_numpy()\n",
    "data2 = np.transpose(data[:,neurons_idx])\n",
    "fig, ax = plt.subplots(figsize=[10,10])\n",
    "\n",
    "ax.pcolormesh(data2,\n",
    "          cmap='binary'\n",
    "          )\n",
    "ax.set_xticks(time_idx, time[time_idx])\n",
    "ax.set_xlabel(\"Time relative to reach peak time (s)\", fontsize=20, fontname=\"arial\", weight='bold')\n",
    "ax.set_ylabel(\"Neuron unit\", fontsize=20, fontname=\"arial\", weight='bold')\n",
    "plt.show()"
   ]
  },
  {
   "cell_type": "markdown",
   "metadata": {},
   "source": [
    "### Firing rate"
   ]
  },
  {
   "cell_type": "code",
   "execution_count": null,
   "metadata": {},
   "outputs": [],
   "source": [
    "df = pd.read_excel('/work/jp464/striatum-sequence/output/data-firing-rate.xlsx')\n",
    "aim = df.iloc[:,0:16].to_numpy()\n",
    "reach = df.iloc[:,16:32].to_numpy()\n",
    "lick = df.iloc[:,32:].to_numpy()\n",
    "mean = np.vstack((np.mean(aim, axis=1), \n",
    "                  np.mean(reach, axis=1),\n",
    "                  np.mean(lick, axis=1)))\n",
    "\n",
    "sem = np.vstack((stats.sem(aim, axis=1), \n",
    "                  stats.sem(reach, axis=1),\n",
    "                  stats.sem(lick, axis=1)))\n",
    "fig, ax = plt.subplots(figsize=[6,6])\n",
    "ax.errorbar([1,2,3], mean[:,0], sem[:,0], fmt='o', linewidth=3, capsize=6, label='Aim', color=colors[8])\n",
    "ax.errorbar([1,2,3], mean[:,1], sem[:,1], fmt='s', linewidth=3, capsize=6, label='Reach', color=colors[0])\n",
    "ax.errorbar([1,2,3], mean[:,2], sem[:,2], fmt='^', linewidth=3, capsize=6, label='Lick', color=colors[3])\n",
    "ax.set_xlim(0.5,3.5)\n",
    "ax.set_xticks([1,2,3], ['Aim', 'Reach', 'Lick'], weight='bold')\n",
    "ax.set_ylabel('Mean firing rate', weight='bold')\n",
    "\n",
    "plt.legend()\n",
    "plt.show()"
   ]
  }
 ],
 "metadata": {
  "kernelspec": {
   "display_name": "striatum",
   "language": "python",
   "name": "striatum"
  },
  "language_info": {
   "codemirror_mode": {
    "name": "ipython",
    "version": 3
   },
   "file_extension": ".py",
   "mimetype": "text/x-python",
   "name": "python",
   "nbconvert_exporter": "python",
   "pygments_lexer": "ipython3",
   "version": "3.8.17"
  }
 },
 "nbformat": 4,
 "nbformat_minor": 4
}
