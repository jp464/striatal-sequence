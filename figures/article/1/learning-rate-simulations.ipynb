{
 "cells": [
  {
   "cell_type": "code",
   "execution_count": null,
   "metadata": {},
   "outputs": [],
   "source": [
    "import sys\n",
    "sys.path.insert(0, '../../../network')"
   ]
  },
  {
   "cell_type": "code",
   "execution_count": null,
   "metadata": {},
   "outputs": [],
   "source": [
    "import logging\n",
    "import argparse\n",
    "import numpy as np\n",
    "import seaborn as sns\n",
    "import matplotlib.pyplot as plt\n",
    "from network import Population, RateNetwork\n",
    "from transfer_functions import ErrorFunction\n",
    "from connectivity import SparseConnectivity, LinearSynapse, ThresholdPlasticityRule\n",
    "from sequences import GaussianSequence\n",
    "\n",
    "logging.basicConfig(level=logging.INFO)"
   ]
  },
  {
   "cell_type": "code",
   "execution_count": null,
   "metadata": {},
   "outputs": [],
   "source": [
    "phi = ErrorFunction(mu=0.22, sigma=0.1).phi\n",
    "ctx = Population(N=1000, tau=1e-2, phi=phi, name='ctx')\n",
    "bg = Population(N=1000, tau=1e-2, phi=phi, name='bg')\n",
    "plasticity = ThresholdPlasticityRule(x_f=0.5, q_f=0.8) \n",
    "\n",
    "S, P = 1, 3\n",
    "sequences_ctx = [GaussianSequence(P,ctx.size, seed=5) for i in range(S)]\n",
    "patterns_ctx = np.stack([s.inputs for s in sequences_ctx])\n",
    "sequences_bg = [GaussianSequence(P,ctx.size, seed=27) for i in range(S)]\n",
    "patterns_bg = np.stack([s.inputs for s in sequences_bg])"
   ]
  },
  {
   "cell_type": "code",
   "execution_count": null,
   "metadata": {},
   "outputs": [],
   "source": [
    "As = [np.array([5, 5, 1, i]) for i in np.arange(0, 3, 0.1)]\n",
    "for A in As:\n",
    "    A_cc, A_bb, A_cb, A_bc = A[0], A[1], A[2], A[3]\n",
    "    J_cc = SparseConnectivity(source=ctx, target=ctx, p=0.05)\n",
    "    synapse_cc = LinearSynapse(J_cc.K, A=A_cc)\n",
    "    J_cc.store_attractors(patterns_ctx[0], patterns_ctx[0], synapse_cc.h_EE, \n",
    "                          plasticity.f, plasticity.g)\n",
    "    J_bb = SparseConnectivity(source=bg, target=bg, p=0.05)\n",
    "    synapse_bb = LinearSynapse(J_bb.K, A=A_bb)\n",
    "    J_bb.store_attractors(patterns_bg[0], patterns_bg[0], synapse_bb.h_EE, \n",
    "                          plasticity.f, plasticity.g)\n",
    "    J_cb  = SparseConnectivity(source=bg, target=ctx, p=0.05)\n",
    "    synapse_cb = LinearSynapse(J_cb.K, A=A_cb)\n",
    "    J_cb.store_attractors(patterns_bg[0], patterns_ctx[0], synapse_cb.h_EE, \n",
    "                          plasticity.f, plasticity.g)\n",
    "    J_bc = SparseConnectivity(source=ctx, target=bg, p=0.05)\n",
    "    synapse_bc = LinearSynapse(J_cc.K, A=0)\n",
    "    J_bc.store_sequences(patterns_ctx, patterns_bg, synapse_bc.h_EE, plasticity.f, plasticity.g)\n",
    "    J_bc.update_sequences(patterns_ctx[0][0], patterns_bg[0][1],\n",
    "                       A_bc, lamb=1,f=plasticity.f, g=plasticity.g)\n",
    "    J_bc.update_sequences(patterns_ctx[0][1], patterns_bg[0][2],\n",
    "                       A_bc, lamb=1,f=plasticity.f, g=plasticity.g)\n",
    "    J_bc.update_sequences(patterns_ctx[0][2], patterns_bg[0][0],\n",
    "                       A_bc, lamb=1,f=plasticity.f, g=plasticity.g)\n",
    "    net_ctx = RateNetwork(ctx, c_EE=J_cc, c_IE=J_bc, formulation=4)\n",
    "    net_bg = RateNetwork(bg, c_II=J_bb, c_EI=J_cb, formulation=4)\n",
    "    \n",
    "    init_input_ctx = phi(patterns_ctx[0][0])\n",
    "    init_input_bg = phi(patterns_bg[0][0])\n",
    "    T=2\n",
    "    net_ctx.simulate_euler2(net_bg, T, init_input_ctx, init_input_bg)\n",
    "    overlaps_ctx = sequences_ctx[0].overlaps(net_ctx, ctx, phi=phi)\n",
    "    overlaps_bg = sequences_bg[0].overlaps(net_bg, bg, phi=phi)\n",
    "    corr_ctx = sequences_ctx[0].overlaps(net_ctx, ctx, phi=phi, correlation=True)\n",
    "    corr_bg = sequences_ctx[0].overlaps(net_bg, bg, phi=phi, correlation=True)\n",
    "    np.savez('/Users/stanleypark/Desktop/code/hebbian_sequence_learning/figures/article/1/output/'+str(A)+'.npz', \n",
    "         overlaps_ctx=overlaps_ctx, overlaps_bg=overlaps_bg, corr_ctx=corr_ctx, corr_bg=corr_bg)"
   ]
  }
 ],
 "metadata": {
  "kernelspec": {
   "display_name": "Python 3 (ipykernel)",
   "language": "python",
   "name": "python3"
  },
  "language_info": {
   "codemirror_mode": {
    "name": "ipython",
    "version": 3
   },
   "file_extension": ".py",
   "mimetype": "text/x-python",
   "name": "python",
   "nbconvert_exporter": "python",
   "pygments_lexer": "ipython3",
   "version": "3.8.13"
  }
 },
 "nbformat": 4,
 "nbformat_minor": 4
}
