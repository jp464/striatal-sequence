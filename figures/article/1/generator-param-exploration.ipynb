{
 "cells": [
  {
   "cell_type": "code",
   "execution_count": 1,
   "id": "ad18511c-0efd-4679-9767-7ca50d4c795a",
   "metadata": {},
   "outputs": [],
   "source": [
    "import numpy as np"
   ]
  },
  {
   "cell_type": "code",
   "execution_count": 2,
   "id": "72c9d748-4ac4-4993-8edd-ee0e46343044",
   "metadata": {},
   "outputs": [
    {
     "data": {
      "text/plain": [
       "33"
      ]
     },
     "execution_count": 2,
     "metadata": {},
     "output_type": "execute_result"
    }
   ],
   "source": [
    "f = open('jobs-param-exploration.txt', 'w+')\n",
    "f.write('python generator-pd-dataframe.py\\n')"
   ]
  },
  {
   "cell_type": "code",
   "execution_count": 3,
   "id": "8ebbf88c-78a3-4e64-ad66-bfb00ef15986",
   "metadata": {},
   "outputs": [],
   "source": [
    "for i in np.arange(0.1, 6.1, 0.1):\n",
    "    for j in np.arange(0.1, 6.1, 0.1):\n",
    "        for k in np.arange(0.5, 6.1, 0.5):\n",
    "            i, j, k = round(i, 1), round(j, 1), round(k,1)\n",
    "            f.write('python code-param-exploration.py ' + 'param-exploration ' + str(i) + ' ' + str(j) + ' ' + str(k) + ' ' + str(i) + '\\n')"
   ]
  },
  {
   "cell_type": "code",
   "execution_count": 4,
   "id": "de364f10-a126-4339-a3bb-2f51f2bfacca",
   "metadata": {},
   "outputs": [],
   "source": [
    "f.close()"
   ]
  }
 ],
 "metadata": {
  "kernelspec": {
   "display_name": "Python 3",
   "language": "python",
   "name": "python3"
  },
  "language_info": {
   "codemirror_mode": {
    "name": "ipython",
    "version": 3
   },
   "file_extension": ".py",
   "mimetype": "text/x-python",
   "name": "python",
   "nbconvert_exporter": "python",
   "pygments_lexer": "ipython3",
   "version": "3.8.8"
  }
 },
 "nbformat": 4,
 "nbformat_minor": 5
}
