{
 "cells": [
  {
   "cell_type": "code",
   "execution_count": 1,
   "id": "ad18511c-0efd-4679-9767-7ca50d4c795a",
   "metadata": {},
   "outputs": [],
   "source": [
    "import numpy as np"
   ]
  },
  {
   "cell_type": "code",
   "execution_count": 2,
   "id": "01d991f2-9ca4-45b4-b472-3a920573434a",
   "metadata": {},
   "outputs": [
    {
     "data": {
      "text/plain": [
       "33"
      ]
     },
     "execution_count": 2,
     "metadata": {},
     "output_type": "execute_result"
    }
   ],
   "source": [
    "f = open('jobs-param-exploration.txt', 'w+')\n",
    "f.write('python generator-pd-dataframe.py\\n')"
   ]
  },
  {
   "cell_type": "code",
   "execution_count": 3,
   "id": "60257792-5ec0-42bf-b9ca-45449d31f9b5",
   "metadata": {},
   "outputs": [],
   "source": [
    "for i in np.arange(0.1, 6.01, 0.1):\n",
    "    for j in np.arange(0.1, 6.01, 0.1):\n",
    "        for k in np.arange(0.5, 3.1, 0.5):\n",
    "            i, j, k = round(i, 1), round(j, 1), round(k,1)\n",
    "            f.write('python code-param-exploration.py ' + 'param-exploration ' + str(i) + ' ' + str(j) + ' ' + str(k) + ' ' + str(i) + '\\n')"
   ]
  },
  {
   "cell_type": "raw",
   "id": "301b858b-f99d-427c-afca-a2573607ce13",
   "metadata": {},
   "source": [
    "f = open('jobs-learning.txt', 'w+')"
   ]
  },
  {
   "cell_type": "raw",
   "id": "8a5dbc3a-b393-40af-9205-c71567025131",
   "metadata": {},
   "source": [
    "for i in np.arange(10, 70, 10):\n",
    "    for j in np.arange(0.01, 0.08, 0.01):\n",
    "        i, j = int(i), round(j,2)\n",
    "        f.write('python code-learning.py ' + 'learning-env ' + str(i) + ' ' + str(j) + ' 800 0.6 01 30 0.016 ' + '\\n')"
   ]
  },
  {
   "cell_type": "code",
   "execution_count": 4,
   "id": "de364f10-a126-4339-a3bb-2f51f2bfacca",
   "metadata": {},
   "outputs": [],
   "source": [
    "f.close()"
   ]
  }
 ],
 "metadata": {
  "kernelspec": {
   "display_name": "Python 3",
   "language": "python",
   "name": "python3"
  },
  "language_info": {
   "codemirror_mode": {
    "name": "ipython",
    "version": 3
   },
   "file_extension": ".py",
   "mimetype": "text/x-python",
   "name": "python",
   "nbconvert_exporter": "python",
   "pygments_lexer": "ipython3",
   "version": "3.8.8"
  }
 },
 "nbformat": 4,
 "nbformat_minor": 5
}
