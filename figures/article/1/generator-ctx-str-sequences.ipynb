{
 "cells": [
  {
   "cell_type": "code",
   "execution_count": 1,
   "id": "7a6db55c-2810-4e77-b01d-778af348d590",
   "metadata": {},
   "outputs": [],
   "source": [
    "import sys\n",
    "sys.path.insert(0, '../../../network')\n",
    "import numpy as np\n",
    "from sequences import GaussianSequence\n",
    "from connectivity import cmatrix\n",
    "from transfer_functions import ErrorFunction\n",
    "from network import Population, RateNetwork"
   ]
  },
  {
   "cell_type": "markdown",
   "id": "8d61fe98-8cce-4d5f-aed8-d8bb802a39cd",
   "metadata": {},
   "source": [
    "### Population and patterns"
   ]
  },
  {
   "cell_type": "code",
   "execution_count": 2,
   "id": "6d7b7df4-011a-4b1c-9900-a2032e816d91",
   "metadata": {},
   "outputs": [],
   "source": [
    "# Pop size\n",
    "N_ctx, N_d1 = 5000, 5000\n",
    "N = [N_ctx, N_d1]\n",
    "\n",
    "# Gaussian patterns\n",
    "S_ctx, S_str, P_ctx, P_str = 1, 1, 4, 12\n",
    "sequences_ctx = [GaussianSequence(P_ctx,N_ctx, seed=945267) for i in range(S_ctx)] #945267\n",
    "patterns_ctx = np.stack([s.inputs for s in sequences_ctx])\n",
    "sequences_d1 = [GaussianSequence(P_str,N_d1, seed=873) for i in range(S_str)] #996746\n",
    "patterns_d1 = np.stack([s.inputs for s in sequences_d1])\n",
    "\n",
    "sequences = np.array([sequences_ctx, sequences_d1])\n",
    "patterns = np.array([patterns_ctx[0], patterns_d1[0]], dtype=object)"
   ]
  },
  {
   "cell_type": "markdown",
   "id": "3fa2b503-ce6a-46fd-9dda-23e0a1f17a47",
   "metadata": {},
   "source": [
    "### Synaptic connectivity rule"
   ]
  },
  {
   "cell_type": "code",
   "execution_count": 3,
   "id": "529ab0cf-4d80-46e0-86de-97c9638bc6ad",
   "metadata": {},
   "outputs": [],
   "source": [
    "M00 = np.zeros((P_ctx, P_ctx))\n",
    "M01 = np.zeros((P_ctx, P_str))\n",
    "M10 = np.zeros((P_str, P_ctx))\n",
    "M11 = np.zeros((P_str, P_str))"
   ]
  },
  {
   "cell_type": "code",
   "execution_count": 4,
   "id": "785c0e27-1dae-4990-abc9-2c7ed1144586",
   "metadata": {},
   "outputs": [],
   "source": [
    "cmatrix(M00, [[i,i] for i in range(P_ctx)], 0)\n",
    "cmatrix(M11, [[0,1,2], [3,4,5], [6,7,8], [9,10,11]], 100, loop=False)\n",
    "cmatrix(M11, [[i,i] for i in range(P_str)], 100)\n",
    "cmatrix(M01, [[0,3], [1,6], [2,9], [3,0]], 120)\n",
    "cmatrix(M10, [[2,0],[5,1],[8,2],[11,3]], 30)"
   ]
  },
  {
   "cell_type": "code",
   "execution_count": 5,
   "id": "82b267e5-9cff-4239-ac40-337d769ac3bb",
   "metadata": {},
   "outputs": [
    {
     "data": {
      "text/plain": [
       "100.0"
      ]
     },
     "execution_count": 5,
     "metadata": {},
     "output_type": "execute_result"
    }
   ],
   "source": [
    "M11[1][2]"
   ]
  },
  {
   "cell_type": "code",
   "execution_count": 6,
   "id": "c2e6b1a0-742c-4112-982b-df015787ce12",
   "metadata": {},
   "outputs": [],
   "source": [
    "# # Coupled\n",
    "# A00, A01 = cmatrix((P,P), 5, 1), cmatrix((P,P), 10, 0) #0.85\n",
    "# A10, A11, = cmatrix((P,P), 2, 1), cmatrix((P,P), 5, 1) #30\n",
    "\n",
    "# Decoupled\n",
    "A00, A01 = M00, M01\n",
    "A10, A11, = M10, M11\n",
    "A = np.array([[M00, M01],\n",
    "             [M10, M11]], dtype=object)"
   ]
  },
  {
   "cell_type": "code",
   "execution_count": 7,
   "id": "c74a1c88-0694-457e-a949-fdbc2968c0b4",
   "metadata": {},
   "outputs": [],
   "source": [
    "# Connection probabilities\n",
    "cp = np.array([[0.1, 0.1],\n",
    "               [0.1, 0.1]])\n",
    "\n",
    "cw = np.array([[0,0],\n",
    "                [0,0]])"
   ]
  },
  {
   "cell_type": "code",
   "execution_count": 8,
   "id": "a1f56e5d-7626-4c75-80e2-f27034e1d1f9",
   "metadata": {},
   "outputs": [],
   "source": [
    "np.savez('./ctx_str_params.npz', \n",
    "         N=N, sequences=sequences, patterns=patterns,\n",
    "         cp=cp, cw=cw, A=A)"
   ]
  }
 ],
 "metadata": {
  "kernelspec": {
   "display_name": "striatum",
   "language": "python",
   "name": "striatum"
  },
  "language_info": {
   "codemirror_mode": {
    "name": "ipython",
    "version": 3
   },
   "file_extension": ".py",
   "mimetype": "text/x-python",
   "name": "python",
   "nbconvert_exporter": "python",
   "pygments_lexer": "ipython3",
   "version": "3.8.17"
  }
 },
 "nbformat": 4,
 "nbformat_minor": 5
}
