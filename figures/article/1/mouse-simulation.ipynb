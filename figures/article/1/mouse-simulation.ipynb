{
 "cells": [
  {
   "cell_type": "code",
   "execution_count": 1,
   "id": "a67cd09f",
   "metadata": {},
   "outputs": [],
   "source": [
    "import cv2\n",
    "import random\n",
    "import numpy as np\n",
    "from tqdm import trange\n",
    "import matplotlib.pyplot as plt\n",
    "import logging\n",
    "from datetime import datetime\n",
    "\n",
    "logger = logging.getLogger(__name__)"
   ]
  },
  {
   "cell_type": "code",
   "execution_count": 2,
   "id": "cbf40758",
   "metadata": {},
   "outputs": [],
   "source": [
    "data = np.load('./output/learning1.npz') "
   ]
  },
  {
   "cell_type": "code",
   "execution_count": null,
   "id": "e4a30c05",
   "metadata": {},
   "outputs": [],
   "source": [
    "def read(frames, img_array):\n",
    "    for frame in frames:\n",
    "        img = cv2.imread(frame)\n",
    "        height, width, layers = img.shape\n",
    "        size = (width,height)\n",
    "        img_array.append(img)\n",
    "    return size"
   ]
  },
  {
   "cell_type": "code",
   "execution_count": null,
   "id": "04999221",
   "metadata": {},
   "outputs": [],
   "source": [
    "data = np.load('/Users/stanleypark/Desktop/code/hebbian_sequence_learning/figures/article/1/output/behaviors1.npz') \n",
    "behaviors = data['behaviors']\n",
    "# behaviors = np.random.randint(4, size=100)\n",
    "\n",
    "dir = \"/Users/stanleypark/Desktop/code/hebbian_sequence_learning/figures/article/1/images/\"\n",
    "\n",
    "img_array = []\n",
    "print('Reading images')\n",
    "for i in trange(len(correlations[0])):\n",
    "    action = behaviors[i]\n",
    "    if action == -1:\n",
    "        continue\n",
    "    if action == 0:\n",
    "        if behaviors[i-1]==0:\n",
    "            break\n",
    "        frames = [dir+str(i)+'.jpg' for i in range(5283, 5289)]\n",
    "    elif action == 1:\n",
    "        frames = [dir+str(i)+'.jpg' for i in range(5289, 5296)]\n",
    "    elif action == 2:\n",
    "        frames = [dir+str(i)+'.jpg' for i in range(5296, 5303)]\n",
    "    elif action == 3:\n",
    "        if behaviors[i-2] == 1 and behaviors[i-1] == 2:\n",
    "            frames = [dir+str(i)+'.jpg' for i in range(5303, 5323)]\n",
    "        else:\n",
    "            frames = [dir+str(i)+'.jpg' for i in range(263, 270)]\n",
    "\n",
    "    size = read(frames, img_array)\n",
    "out = cv2.VideoWriter('/Users/stanleypark/Desktop/code/hebbian_sequence_learning/figures/article/1/output/mouse-simulation1.mp4',cv2.VideoWriter_fourcc(*'DIVX'), 15, size)\n",
    " \n",
    "print('Writing video')\n",
    "for i in trange(len(img_array)):\n",
    "    out.write(img_array[i])\n",
    "out.release()"
   ]
  }
 ],
 "metadata": {
  "kernelspec": {
   "display_name": "Python 3 (ipykernel)",
   "language": "python",
   "name": "python3"
  },
  "language_info": {
   "codemirror_mode": {
    "name": "ipython",
    "version": 3
   },
   "file_extension": ".py",
   "mimetype": "text/x-python",
   "name": "python",
   "nbconvert_exporter": "python",
   "pygments_lexer": "ipython3",
   "version": "3.9.9"
  }
 },
 "nbformat": 4,
 "nbformat_minor": 5
}
