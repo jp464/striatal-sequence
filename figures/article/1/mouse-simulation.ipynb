{
 "cells": [
  {
   "cell_type": "code",
   "execution_count": 1,
   "id": "a67cd09f",
   "metadata": {},
   "outputs": [],
   "source": [
    "import cv2\n",
    "import random\n",
    "import numpy as np\n",
    "from tqdm import trange\n",
    "import logging\n",
    "logger = logging.getLogger(__name__)"
   ]
  },
  {
   "cell_type": "code",
   "execution_count": 2,
   "id": "04999221",
   "metadata": {},
   "outputs": [
    {
     "name": "stderr",
     "output_type": "stream",
     "text": [
      "100%|██████████████████████████████████████| 5000/5000 [00:35<00:00, 141.65it/s]\n",
      "OpenCV: FFMPEG: tag 0x58564944/'DIVX' is not supported with codec id 12 and format 'mp4 / MP4 (MPEG-4 Part 14)'\n",
      "OpenCV: FFMPEG: fallback to use tag 0x7634706d/'mp4v'\n",
      "100%|██████████████████████████████████████| 5000/5000 [00:23<00:00, 212.90it/s]\n"
     ]
    }
   ],
   "source": [
    "with open('/Users/stanleypark/Desktop/code/hebbian_sequence_learning/figures/article/1/output/behaviors.npy', 'rb') as f:\n",
    "    behaviors = np.load(f)\n",
    "\n",
    "dir = \"/Users/stanleypark/Desktop/code/hebbian_sequence_learning/figures/article/1/images/\"\n",
    "\n",
    "img_array = []\n",
    "print('Reading images')\n",
    "for i in trange(len(behaviors)):\n",
    "    action = behaviors[i]\n",
    "    r = str(random.randint(1, 3))\n",
    "    if action == -1:\n",
    "        behaviors[i] = behaviors[i-1]\n",
    "        action = behaviors[i]\n",
    "    if action == 0:\n",
    "        image = dir + 'aim' + r + '.png'\n",
    "    elif action == 1:\n",
    "        image = dir + 'reach' + r + '.png'\n",
    "    else:\n",
    "        image = dir + 'drink' + r + '.png'\n",
    "\n",
    "    img = cv2.imread(image)\n",
    "    height, width, layers = img.shape\n",
    "    size = (width,height)\n",
    "    img_array.append(img)\n",
    "\n",
    "out = cv2.VideoWriter('/Users/stanleypark/Desktop/code/hebbian_sequence_learning/figures/article/1/output/mouse-simulation.mp4',cv2.VideoWriter_fourcc(*'DIVX'), 15, size)\n",
    " \n",
    "print('Writing video')\n",
    "for i in trange(len(img_array)):\n",
    "    out.write(img_array[i])\n",
    "out.release()"
   ]
  }
 ],
 "metadata": {
  "kernelspec": {
   "display_name": "Python 3 (ipykernel)",
   "language": "python",
   "name": "python3"
  },
  "language_info": {
   "codemirror_mode": {
    "name": "ipython",
    "version": 3
   },
   "file_extension": ".py",
   "mimetype": "text/x-python",
   "name": "python",
   "nbconvert_exporter": "python",
   "pygments_lexer": "ipython3",
   "version": "3.8.13"
  }
 },
 "nbformat": 4,
 "nbformat_minor": 5
}
