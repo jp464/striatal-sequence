{
 "cells": [
  {
   "cell_type": "code",
   "execution_count": 1,
   "id": "00cef2a1-5511-4c83-b5b6-af59c603e5ee",
   "metadata": {},
   "outputs": [],
   "source": [
    "import numpy as np \n",
    "import matplotlib.pyplot as plt\n",
    "from scipy.signal import find_peaks\n",
    "import pandas as pd\n",
    "from tqdm import tqdm, trange"
   ]
  },
  {
   "cell_type": "code",
   "execution_count": 43,
   "id": "4ada122f-320e-45fa-8f71-95135f3068f7",
   "metadata": {},
   "outputs": [
    {
     "name": "stdout",
     "output_type": "stream",
     "text": [
      "   0.2-0.1-0.1-0.1  0.3-0.1-0.1-0.1\n",
      "0                3                1\n",
      "1               10               10\n"
     ]
    }
   ],
   "source": [
    "df = pd.read_hdf('/work/jp464/striatum-sequence/output/performance.h5', 'data')\n",
    "col = str(.3) + '-' + str(.1) + '-' + str(.1) + '-' + str(.1)\n",
    "if col in df:\n",
    "    df.at[0, col] += 1 \n",
    "    df.at[1, col] = 10\n",
    "else:\n",
    "    df[col] = pd.Series([0,0])\n",
    "    df.at[0, col], df.at[1, col] = 1, 10\n",
    "print(df)\n",
    "df.to_hdf('/work/jp464/striatum-sequence/output/performance.h5', 'data')"
   ]
  },
  {
   "cell_type": "code",
   "execution_count": 71,
   "id": "ca753451-ea04-4256-88a5-b2777728d938",
   "metadata": {},
   "outputs": [
    {
     "data": {
      "text/html": [
       "<div>\n",
       "<style scoped>\n",
       "    .dataframe tbody tr th:only-of-type {\n",
       "        vertical-align: middle;\n",
       "    }\n",
       "\n",
       "    .dataframe tbody tr th {\n",
       "        vertical-align: top;\n",
       "    }\n",
       "\n",
       "    .dataframe thead th {\n",
       "        text-align: right;\n",
       "    }\n",
       "</style>\n",
       "<table border=\"1\" class=\"dataframe\">\n",
       "  <thead>\n",
       "    <tr style=\"text-align: right;\">\n",
       "      <th></th>\n",
       "      <th>70-0.05-1500-0.6</th>\n",
       "    </tr>\n",
       "  </thead>\n",
       "  <tbody>\n",
       "    <tr>\n",
       "      <th>0</th>\n",
       "      <td>5</td>\n",
       "    </tr>\n",
       "    <tr>\n",
       "      <th>1</th>\n",
       "      <td>5959</td>\n",
       "    </tr>\n",
       "    <tr>\n",
       "      <th>2</th>\n",
       "      <td>2942</td>\n",
       "    </tr>\n",
       "  </tbody>\n",
       "</table>\n",
       "</div>"
      ],
      "text/plain": [
       "   70-0.05-1500-0.6\n",
       "0                 5\n",
       "1              5959\n",
       "2              2942"
      ]
     },
     "execution_count": 71,
     "metadata": {},
     "output_type": "execute_result"
    }
   ],
   "source": [
    "df = pd.read_hdf('/work/jp464/striatum-sequence/output/performance.h5', 'data')\n",
    "df"
   ]
  }
 ],
 "metadata": {
  "kernelspec": {
   "display_name": "striatum",
   "language": "python",
   "name": "striatum"
  },
  "language_info": {
   "codemirror_mode": {
    "name": "ipython",
    "version": 3
   },
   "file_extension": ".py",
   "mimetype": "text/x-python",
   "name": "python",
   "nbconvert_exporter": "python",
   "pygments_lexer": "ipython3",
   "version": "3.8.17"
  }
 },
 "nbformat": 4,
 "nbformat_minor": 5
}
