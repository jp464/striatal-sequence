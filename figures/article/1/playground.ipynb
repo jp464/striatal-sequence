{
 "cells": [
  {
   "cell_type": "code",
   "execution_count": 1,
   "id": "38d3d56f-46ba-4b62-ba60-6a6434f2c941",
   "metadata": {},
   "outputs": [],
   "source": [
    "import sys\n",
    "sys.path.insert(0, '../../../network')\n",
    "import numpy as np\n",
    "from scipy.integrate import odeint\n",
    "import matplotlib.pyplot as plt \n",
    "from transfer_functions import ErrorFunction\n",
    "from connectivity import ThresholdPlasticityRule\n",
    "from scipy.stats import norm\n"
   ]
  },
  {
   "cell_type": "code",
   "execution_count": 2,
   "id": "02ca8920-c3ff-4432-9a7d-0d70da957f68",
   "metadata": {},
   "outputs": [],
   "source": [
    "q_f = 0.8\n",
    "x_f = abs(norm.ppf(1-q_f))\n",
    "Acc, Asc, Ass, Acs = [5, 10, 5, 2] #Acc, Asc, Ass, Acs\n",
    "y0 = [1, 0, 0, 0, 1, 0, 0, 0] # q_c1, q_c2, q_c3, q_c4, q_s1, q_s2, q_s3, q_s4\n",
    "t = np.linspace(0, 1, 1001)\n",
    "phi = ErrorFunction(mu=0.22, sigma=0.1).phi\n",
    "plasticity = ThresholdPlasticityRule(x_f=x_f, q_f=q_f)"
   ]
  },
  {
   "cell_type": "code",
   "execution_count": 3,
   "id": "031cc58e-d19d-49d7-9fba-ef2897099f7f",
   "metadata": {},
   "outputs": [],
   "source": [
    "def ctx_dynamical_mft(q, l, Acc, Acs, x_f=x_f, tau=1e-2):\n",
    "    ret = 0\n",
    "    states = [plasticity.f(0), plasticity.f(1)]\n",
    "    for etas in [(p1, p2, p3, p4) for p1 in states for p2 in states for p3 in states for p4 in states]:\n",
    "        ret += prob(etas, x_f) * etas[l] * phi(np.sum([etas[mu] * (Acc * q[mu] + Acs * q[mu+4]) for mu in range(4)]))\n",
    "    return (-q[l] + ret)/tau\n",
    "\n",
    "def str_dynamical_mft(q, l, Ass, Asc, x_f=x_f, tau=1e-2):\n",
    "    ret = 0\n",
    "    states = [plasticity.f(0), plasticity.f(1)]\n",
    "    for etas in [(p1, p2, p3, p4) for p1 in states for p2 in states for p3 in states for p4 in states]:\n",
    "        ret += prob(etas, x_f) * etas[l%4] * phi(np.sum([Ass * etas[mu] * q[mu+4] for mu in range(4)]) + \n",
    "                                               np.sum([Asc * etas[mu+1] * q[mu] for mu in range(3)]) +  Asc * etas[0] * q[3])\n",
    "    return (-q[l] + ret)/tau "
   ]
  },
  {
   "cell_type": "code",
   "execution_count": 4,
   "id": "23c4519b-8db8-461f-acd5-cfba4f6c6c4d",
   "metadata": {},
   "outputs": [],
   "source": [
    "def prob(etas, thres):\n",
    "    ret = 1\n",
    "    for eta in etas:\n",
    "        if eta < 0: ret *= norm.cdf(thres)\n",
    "        else: ret *= (1 - norm.cdf(thres))\n",
    "    return ret \n",
    "\n",
    "def rate(y, t, Acc, Asc, Ass, Acs):\n",
    "    dydt = np.zeros(len(y))\n",
    "    for i in range(len(y)):\n",
    "        if i < 4:\n",
    "            dydt[i] = ctx_dynamical_mft(y, i, Acc, Acs)\n",
    "        else:\n",
    "            dydt[i] = str_dynamical_mft(y, i, Ass, Asc)\n",
    "    return dydt"
   ]
  },
  {
   "cell_type": "code",
   "execution_count": null,
   "id": "2558c19a-ab60-4aa6-83db-6bc23d7a6105",
   "metadata": {},
   "outputs": [],
   "source": [
    "from scipy.integrate import odeint\n",
    "sol = odeint(rate, y0, t, args=(Acc, Asc, Ass, Acs))"
   ]
  },
  {
   "cell_type": "code",
   "execution_count": null,
   "id": "cb3302c5-e0e9-44ea-86ba-d2f2dab72a6e",
   "metadata": {},
   "outputs": [],
   "source": [
    "import seaborn as sns\n",
    "sns.set_style('white') \n",
    "colors = sns.color_palette('deep')\n",
    "plt.rc('xtick', labelsize=20) \n",
    "plt.rc('ytick', labelsize=20) \n",
    "plt.rcParams['axes.linewidth'] = 0.1\n",
    "\n",
    "fig, axes = plt.subplots(2, 1, sharex=True, sharey=True, tight_layout=True, figsize=(10,10))\n",
    "axes[0].plot(sol[:,0], linestyle='solid', linewidth=3, color=colors[8], label='Aim')\n",
    "axes[0].plot(sol[:,1], linestyle='dashed', linewidth=3, color=colors[0], label='Reach')\n",
    "axes[0].plot(sol[:,2], linestyle='dotted', linewidth=3, color=colors[3], label='Lick')\n",
    "axes[0].plot(sol[:,3], linestyle='dotted', linewidth=3, color=colors[2], label='Scavenge')\n",
    "axes[0].set_yticks([0.0, 0.1, 0.2, 0.3, 0.4])\n",
    "axes[0].set_title(\"CTX\", fontsize=25)\n",
    "\n",
    "axes[1].plot(sol[:,4], linestyle='solid', linewidth=3, color=colors[8])\n",
    "axes[1].plot(sol[:,5], linestyle='dashed', linewidth=3, color=colors[0])\n",
    "axes[1].plot(sol[:,6], linestyle='dotted', linewidth=3, color=colors[3])\n",
    "axes[1].plot(sol[:,7], linestyle='dotted', linewidth=3, color=colors[2])\n",
    "axes[1].set_yticks([0.0, 0.1, 0.2, 0.3, 0.4])\n",
    "axes[1].set_title(\"STR\", fontsize=25)\n",
    "axes[1].set_xlabel('Time (ms)', fontsize=20)\n",
    "axes[1].set_xlabel('Time (ms)', fontsize=20)\n",
    "\n",
    "fig.text(-0.01, 0.5, 'Overlap', va='center', rotation='vertical', fontsize=20)\n",
    "plt.setp(axes, xlim=(0,1000))\n",
    "plt.setp(axes, ylim=(-.2, .4))\n",
    "# plt.figlegend(fontsize=20, loc='upper right')\n",
    "# plt.figlegend(labels=['Aim', 'Reach', 'Lick'], fontsize=20)\n",
    "plt.savefig('/work/jp464/striatum-sequence/output/MFT.jpg', bbox_inches = \"tight\", format='jpg')\n",
    "\n",
    "plt.show()\n"
   ]
  }
 ],
 "metadata": {
  "kernelspec": {
   "display_name": "striatum",
   "language": "python",
   "name": "striatum"
  },
  "language_info": {
   "codemirror_mode": {
    "name": "ipython",
    "version": 3
   },
   "file_extension": ".py",
   "mimetype": "text/x-python",
   "name": "python",
   "nbconvert_exporter": "python",
   "pygments_lexer": "ipython3",
   "version": "3.8.17"
  }
 },
 "nbformat": 4,
 "nbformat_minor": 5
}
