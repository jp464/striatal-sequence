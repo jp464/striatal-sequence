{
 "cells": [
  {
   "cell_type": "code",
   "execution_count": 1,
   "metadata": {},
   "outputs": [],
   "source": [
    "import sys\n",
    "sys.path.insert(0, '../../../network')"
   ]
  },
  {
   "cell_type": "code",
   "execution_count": 2,
   "metadata": {},
   "outputs": [],
   "source": [
    "import logging\n",
    "import argparse\n",
    "import numpy as np\n",
    "from network import Population, RateNetwork\n",
    "from learning import ReachingTask\n",
    "from transfer_functions import ErrorFunction\n",
    "from connectivity import SparseConnectivity, LinearSynapse, ThresholdPlasticityRule, set_connectivity \n",
    "from sequences import GaussianSequence\n",
    "import matplotlib.pyplot as plt\n",
    "import seaborn as sns\n",
    "logging.basicConfig(level=logging.INFO)"
   ]
  },
  {
   "cell_type": "markdown",
   "metadata": {},
   "source": [
    "### Initialization"
   ]
  },
  {
   "cell_type": "code",
   "execution_count": 3,
   "metadata": {},
   "outputs": [],
   "source": [
    "params = np.load(\"./params.npz\", allow_pickle=True) \n",
    "N, sequences, cp, cw, A = params['N'], params['sequences'], params['cp'], params['cw'], params['A']\n",
    "patterns_ctx = np.stack([s.inputs for s in sequences[0]])\n",
    "patterns_d1 = np.stack([s.inputs for s in sequences[1]])\n",
    "patterns = [patterns_ctx, patterns_d1]"
   ]
  },
  {
   "cell_type": "code",
   "execution_count": 4,
   "metadata": {},
   "outputs": [
    {
     "name": "stderr",
     "output_type": "stream",
     "text": [
      "INFO:connectivity:Building connections from ctx to ctx\n",
      "INFO:connectivity:Building connections from ctx to d1\n",
      "INFO:connectivity:Building connections from d1 to ctx\n",
      "INFO:connectivity:Building connections from d1 to d1\n"
     ]
    },
    {
     "name": "stdout",
     "output_type": "stream",
     "text": [
      "\n"
     ]
    }
   ],
   "source": [
    "phi = ErrorFunction(mu=0.22, sigma=0.1).phi\n",
    "plasticity = ThresholdPlasticityRule(x_f=0.5, q_f=0.8)\n",
    "\n",
    "# populations\n",
    "ctx = Population(N=N[0], tau=1e-2, phi=phi, name='ctx')\n",
    "d1 = Population(N=N[1], tau=1e-2, phi=phi, name='d1')\n",
    "# d2 = Population(N=N[2], tau=1e-2, phi=phi, name='d2')\n",
    "\n",
    "J = set_connectivity([ctx, d1], cp, cw, A, patterns, plasticity)\n",
    "network = RateNetwork([ctx, d1], J, formulation=4, disable_pbar=False)"
   ]
  },
  {
   "cell_type": "markdown",
   "metadata": {},
   "source": [
    "### Simulation"
   ]
  },
  {
   "cell_type": "code",
   "execution_count": null,
   "metadata": {},
   "outputs": [
    {
     "name": "stderr",
     "output_type": "stream",
     "text": [
      "INFO:network:Integrating network dynamics\n",
      " 38%|███▊      | 1921/4999 [00:18<00:25, 121.92it/s]"
     ]
    }
   ],
   "source": [
    "init_inputs = [patterns[0][0][3],\n",
    "               np.zeros(d1.size)]\n",
    "input_patterns = [p[0] for p in patterns]\n",
    "\n",
    "T=5 #ms\n",
    "mouse = ReachingTask()\n",
    "network.simulate_learning(mouse, T, init_inputs, input_patterns, plasticity, \n",
    "                          delta_t=800, eta=0.008, tau_e=2500, lamb=0.5, \n",
    "                          noise=[0.13,0.13,0.13], a_cf=0, e_bl = [0.05,0.012,0.05,0.05], etrace=False, \n",
    "                          hyper=False, r_ext=[lambda t:0, lambda t: .5, lambda t: 0], print_output=False)"
   ]
  },
  {
   "cell_type": "markdown",
   "metadata": {},
   "source": [
    "### Results"
   ]
  },
  {
   "cell_type": "code",
   "execution_count": null,
   "metadata": {},
   "outputs": [],
   "source": [
    "overlaps_ctx = sequences[0][0].overlaps(network.pops[0])\n",
    "overlaps_d1 = sequences[1][0].overlaps(network.pops[1])\n",
    "# overlaps_d2 = sequences[2][0].overlaps(network.pops[2])\n",
    "# filename = 'learning-0005-1600-600-5-1000-v0'\n",
    "# np.savez('./data/' + filename + '.npz', \n",
    "#          overlaps_ctx=overlaps_ctx, overlaps_bg=overlaps_bg, \n",
    "#          correlations_ctx=correlations_ctx, correlations_bg=correlations_bg, \n",
    "#          state_ctx=net_ctx.exc.state, state_bg=net_bg.exc.state)"
   ]
  },
  {
   "cell_type": "code",
   "execution_count": null,
   "metadata": {},
   "outputs": [],
   "source": [
    "sns.set_style('white') \n",
    "colors = sns.color_palette('deep')\n",
    "\n",
    "fig, axes = plt.subplots(2, 1, sharex=True, sharey=True, tight_layout=True, figsize=(20,10))\n",
    "axes[0].plot(overlaps_ctx[0], linestyle='solid', linewidth=3, color=colors[8], label='Aim')\n",
    "axes[0].plot(overlaps_ctx[1], linestyle='dashed', linewidth=3, color=colors[0], label='Reach')\n",
    "axes[0].plot(overlaps_ctx[2], linestyle='dotted', linewidth=3, color=colors[3], label='Lick')\n",
    "axes[0].plot(overlaps_ctx[3], linestyle='dotted', linewidth=3, color=colors[2], label='Scavenge')\n",
    "# axes[0].set_yticks([0.0, 0.1, 0.2, 0.3, 0.4])\n",
    "axes[0].set_title(\"CTX\", fontsize=25)\n",
    "# axes.set_xlabel('Time (ms)', fontsize=20)\n",
    "axes[1].plot(overlaps_d1[0], linestyle='solid', linewidth=3, color=colors[8])\n",
    "axes[1].plot(overlaps_d1[1], linestyle='dashed', linewidth=3, color=colors[0])\n",
    "axes[1].plot(overlaps_d1[2], linestyle='dotted', linewidth=3, color=colors[3])\n",
    "axes[1].plot(overlaps_d1[3], linestyle='dotted', linewidth=3, color=colors[2])\n",
    "# axes[1].set_yticks([0.0, 0.1, 0.2, 0.3, 0.4])\n",
    "axes[1].set_title(\"D1\", fontsize=25)\n",
    "axes[1].set_xlabel('Time (ms)', fontsize=20)\n",
    "axes[1].set_xlabel('Time (ms)', fontsize=20)\n",
    "# axes[2].plot(overlaps_d2[0], linestyle='solid', linewidth=3, color=colors[8])\n",
    "# axes[2].plot(overlaps_d2[1], linestyle='dashed', linewidth=3, color=colors[0])\n",
    "# axes[2].plot(overlaps_d2[2], linestyle='dotted', linewidth=3, color=colors[3])\n",
    "# axes[2].set_yticks([0.0, 0.1, 0.2, 0.3, 0.4])\n",
    "# axes[2].set_title(\"D2\", fontsize=25)\n",
    "# axes[2].set_xlabel('Time (ms)', fontsize=20)\n",
    "# axes[3].plot(np.average(network.pops[1].depression, axis=0), label='y')\n",
    "# axes[3].plot(np.average(network.pops[1].state, axis=0), label='r')\n",
    "# axes[3].plot(np.average(network.pops[1].depression * network.pops[1].state, axis=0), label='yr')\n",
    "# axes[4].plot(np.average(network.pops[2].depression, axis=0))\n",
    "# axes[4].plot(np.average(network.pops[2].state, axis=0))\n",
    "# axes[4].plot(np.average(network.pops[2].depression * network.pops[2].state, axis=0))\n",
    "fig.text(-0.01, 0.5, 'Overlap', va='center', rotation='vertical', fontsize=20)\n",
    "plt.setp(axes, xlim=(0, 5000))\n",
    "plt.setp(axes, ylim=(-.2, .4))\n",
    "plt.figlegend(fontsize=20, loc='upper right')\n",
    "# plt.figlegend(labels=['Aim', 'Reach', 'Lick'], fontsize=20)\n",
    "plt.savefig('/work/jp464/striatum-sequence/output/simulation-pre-learning-dynamic-env.jpg', bbox_inches = \"tight\", format='jpg')\n",
    "\n",
    "plt.show()\n"
   ]
  },
  {
   "cell_type": "code",
   "execution_count": null,
   "metadata": {},
   "outputs": [],
   "source": [
    "def temporal_diff(A, B, max_iter):\n",
    "    sum = 0\n",
    "    cnt = 0\n",
    "    for i in range(len(A)):\n",
    "        if i == 0: continue\n",
    "        if B[i+1] == None:\n",
    "            break\n",
    "        diff = B[i+1][1] - A[i][1]\n",
    "        sum += (diff)\n",
    "        cnt += 1\n",
    "    return sum / cnt\n",
    "\n",
    "temporal_diff(mouse.behaviors[0], mouse.behaviors[1], 100)"
   ]
  },
  {
   "cell_type": "code",
   "execution_count": null,
   "metadata": {},
   "outputs": [],
   "source": [
    "print(mouse.behaviors[0][0:10])\n",
    "print(mouse.behaviors[1][0:10])"
   ]
  }
 ],
 "metadata": {
  "kernelspec": {
   "display_name": "striatum",
   "language": "python",
   "name": "striatum"
  },
  "language_info": {
   "codemirror_mode": {
    "name": "ipython",
    "version": 3
   },
   "file_extension": ".py",
   "mimetype": "text/x-python",
   "name": "python",
   "nbconvert_exporter": "python",
   "pygments_lexer": "ipython3",
   "version": "3.8.17"
  }
 },
 "nbformat": 4,
 "nbformat_minor": 4
}
