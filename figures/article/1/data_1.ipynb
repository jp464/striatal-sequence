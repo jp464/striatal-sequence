{
 "cells": [
  {
   "cell_type": "code",
   "execution_count": 4,
   "metadata": {},
   "outputs": [],
   "source": [
    "import sys\n",
    "sys.path.insert(0, '../../../network')"
   ]
  },
  {
   "cell_type": "code",
   "execution_count": 5,
   "metadata": {},
   "outputs": [],
   "source": [
    "import logging\n",
    "import argparse\n",
    "import numpy as np\n",
    "\n",
    "from network import Population, RateNetwork\n",
    "from transfer_functions import ErrorFunction\n",
    "from connectivity import SparseConnectivity, LinearSynapse\n",
    "from sequences import GaussianSequence\n",
    "\n",
    "logging.basicConfig(level=logging.INFO)"
   ]
  },
  {
   "cell_type": "code",
   "execution_count": 7,
   "metadata": {},
   "outputs": [
    {
     "name": "stderr",
     "output_type": "stream",
     "text": [
      "INFO:connectivity:Building connections from exc to exc\n",
      "INFO:connectivity:Storing sequences\n",
      "  0%|          | 0/1 [00:00<?, ?it/s]\n",
      "  0%|          | 0/40000 [00:00<?, ?it/s]\u001b[A\n",
      "  6%|▌         | 2225/40000 [00:00<00:01, 22243.66it/s]\u001b[A\n",
      " 11%|█         | 4344/40000 [00:00<00:01, 21914.75it/s]\u001b[A\n",
      " 17%|█▋        | 6619/40000 [00:00<00:01, 22156.64it/s]\u001b[A\n",
      " 22%|██▏       | 8782/40000 [00:00<00:01, 21994.29it/s]\u001b[A\n",
      " 27%|██▋       | 10922/40000 [00:00<00:01, 21812.03it/s]\u001b[A\n",
      " 33%|███▎      | 13228/40000 [00:00<00:01, 22169.69it/s]\u001b[A\n",
      " 38%|███▊      | 15348/40000 [00:00<00:01, 21868.09it/s]\u001b[A\n",
      " 44%|████▍     | 17538/40000 [00:00<00:01, 21876.72it/s]\u001b[A\n",
      " 50%|████▉     | 19890/40000 [00:00<00:00, 22344.72it/s]\u001b[A\n",
      " 55%|█████▌    | 22039/40000 [00:01<00:00, 22024.50it/s]\u001b[A\n",
      " 61%|██████    | 24425/40000 [00:01<00:00, 22403.92it/s]\u001b[A\n",
      " 67%|██████▋   | 26922/40000 [00:01<00:00, 23114.95it/s]\u001b[A\n",
      " 73%|███████▎  | 29212/40000 [00:01<00:00, 22249.04it/s]\u001b[A\n",
      " 79%|███████▉  | 31687/40000 [00:01<00:00, 22944.01it/s]\u001b[A\n",
      " 85%|████████▌ | 34180/40000 [00:01<00:00, 23505.30it/s]\u001b[A\n",
      " 91%|█████████▏| 36534/40000 [00:01<00:00, 23405.13it/s]\u001b[A\n",
      " 97%|█████████▋| 38930/40000 [00:01<00:00, 23566.48it/s]\u001b[A\n",
      "100%|██████████| 1/1 [00:01<00:00,  1.79s/it]414.99it/s]\u001b[A\n",
      "INFO:connectivity:Applying synaptic transfer function\n",
      "INFO:connectivity:Building sparse matrix\n",
      "INFO:root:Simulating normal retrieval\n",
      "INFO:network:Integrating network dynamics\n",
      "[========================================================================] 100%\n",
      "INFO:sequences:Computing overlaps\n",
      "100%|██████████| 16/16 [00:00<00:00, 162.84it/s]\n",
      "INFO:sequences:Computing correlations\n",
      "100%|██████████| 16/16 [00:07<00:00,  2.09it/s]\n",
      "INFO:root:Simulating perturbed retrieval\n",
      "INFO:network:Integrating network dynamics\n",
      "[========================================================================] 100%\n",
      "INFO:sequences:Computing overlaps\n",
      "100%|██████████| 16/16 [00:00<00:00, 142.96it/s]\n",
      "INFO:sequences:Computing correlations\n",
      "100%|██████████| 16/16 [00:07<00:00,  2.13it/s]\n"
     ]
    }
   ],
   "source": [
    "T = 0.35\n",
    "\n",
    "phi = ErrorFunction(mu=0.22, sigma=0.1).phi\n",
    "exc = Population(N=40000, tau=1e-2, phi=phi)\n",
    "\n",
    "S, P = 1, 16\n",
    "sequences = [GaussianSequence(P,exc.size,seed=i) for i in range(S)]\n",
    "patterns = np.stack([s.inputs for s in sequences])\n",
    "\n",
    "conn_EE = SparseConnectivity(source=exc, target=exc, p=0.005)\n",
    "synapse = LinearSynapse(conn_EE.K, A=1)\n",
    "conn_EE.store_sequences(patterns, synapse.h_EE)\n",
    "\n",
    "net = RateNetwork(exc, c_EE=conn_EE, formulation=1)\n",
    "\n",
    "logging.info(\"Simulating normal retrieval\")\n",
    "r0 = exc.phi(patterns[0,0,:])\n",
    "net.simulate(T, r0=r0)\n",
    "M = np.mean(net.exc.state**2, axis=0)\n",
    "overlaps = sequences[0].overlaps(net, exc)\n",
    "correlations = sequences[0].overlaps(net, exc, correlation=True)\n",
    "phi_patterns = phi(patterns)\n",
    "state = np.copy(net.exc.state)\n",
    "\n",
    "net.clear_state()\n",
    "logging.info(\"Simulating perturbed retrieval\")\n",
    "sigma_pert = 0.75\n",
    "r0 = exc.phi(patterns[0,0,:] + sigma_pert*np.random.randn(exc.size))\n",
    "net.simulate(T, r0=r0)\n",
    "M_pert = np.mean(net.exc.state**2, axis=0)\n",
    "overlaps_pert = sequences[0].overlaps(net, exc)\n",
    "correlations_pert = sequences[0].overlaps(net, exc, correlation=True)\n",
    "state_pert = net.exc.state\n",
    "\n",
    "np.save(\n",
    "    open(\"data/data.npy\", \"wb\"),\n",
    "    [M, overlaps, correlations, state.astype(np.float32),\n",
    "     M_pert, overlaps_pert, correlations_pert, state_pert.astype(np.float32),\n",
    "     phi_patterns.astype(np.float32)])"
   ]
  },
  {
   "cell_type": "code",
   "execution_count": null,
   "metadata": {},
   "outputs": [],
   "source": []
  }
 ],
 "metadata": {
  "kernelspec": {
   "display_name": "Python 3",
   "language": "python",
   "name": "python3"
  },
  "language_info": {
   "codemirror_mode": {
    "name": "ipython",
    "version": 3
   },
   "file_extension": ".py",
   "mimetype": "text/x-python",
   "name": "python",
   "nbconvert_exporter": "python",
   "pygments_lexer": "ipython3",
   "version": "3.7.5"
  }
 },
 "nbformat": 4,
 "nbformat_minor": 4
}
