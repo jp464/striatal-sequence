{
 "cells": [
  {
   "cell_type": "code",
   "execution_count": 1,
   "id": "7a6db55c-2810-4e77-b01d-778af348d590",
   "metadata": {},
   "outputs": [],
   "source": [
    "import sys\n",
    "sys.path.insert(0, '../../../network')\n",
    "import numpy as np\n",
    "from sequences import GaussianSequence\n",
    "from transfer_functions import ErrorFunction\n",
    "from network import Population, RateNetwork"
   ]
  },
  {
   "cell_type": "code",
   "execution_count": 2,
   "id": "1a1a4f37-e8c2-4899-96eb-403eef454c21",
   "metadata": {},
   "outputs": [],
   "source": [
    "def zeros(size):\n",
    "    return np.zeros(size, dtype=int)\n",
    "\n",
    "def symmetric(size, val):\n",
    "    M = np.zeros(size)\n",
    "    for i in range(size[0]):\n",
    "        for j in range(size[1]):\n",
    "            if i == j:\n",
    "                M[i][j] = val\n",
    "    return M\n",
    "\n",
    "def asymmetric(size, val):\n",
    "    M = np.zeros(size)\n",
    "    M[-1][0] = val\n",
    "    for i in range(size[0]):\n",
    "        for j in range(size[1]):\n",
    "            if i+1 == j:\n",
    "                M[i][j] = val\n",
    "    return M"
   ]
  },
  {
   "cell_type": "code",
   "execution_count": 3,
   "id": "6d7b7df4-011a-4b1c-9900-a2032e816d91",
   "metadata": {},
   "outputs": [],
   "source": [
    "N_ctx, N_d1, N_d2 = 1000, 1000, 1000\n",
    "N = [N_ctx, N_d1, N_d2]\n",
    "# patterns \n",
    "S, P = 1,3\n",
    "sequences_ctx = [GaussianSequence(P,N_ctx, seed=114) for i in range(S)]\n",
    "patterns_ctx = np.stack([s.inputs for s in sequences_ctx])\n",
    "sequences_d1 = [GaussianSequence(P,N_d1, seed=29) for i in range(S)]\n",
    "patterns_d1 = np.stack([s.inputs for s in sequences_d1])\n",
    "sequences_d2 = [GaussianSequence(P,N_d2, seed=35) for i in range(S)]\n",
    "patterns_d2 = np.stack([s.inputs for s in sequences_d2])\n",
    "\n",
    "sequences = np.array([sequences_ctx, sequences_d1, sequences_d2], dtype=object)\n",
    "patterns = np.array([patterns_ctx, patterns_d1, patterns_d2], dtype=object)"
   ]
  },
  {
   "cell_type": "code",
   "execution_count": 4,
   "id": "8a8ae92e-ed0a-467b-95e0-d4c423c68d06",
   "metadata": {},
   "outputs": [],
   "source": [
    "A00, A01, A02 = symmetric((P,P),5), symmetric((P,P), 3), zeros((P,P))\n",
    "A0 = np.array([A00,A01,A02])\n",
    "\n",
    "A10, A11, A12 = asymmetric((P,P),0), symmetric((P,P),5), zeros((P,P))\n",
    "A1 = np.array([A10,A11,A12])\n",
    "\n",
    "A20, A21, A22 = zeros((P,P)), zeros((P,P)), symmetric((P,P),4)\n",
    "A2 = np.array([A20,A21,A22])\n",
    "\n",
    "A = np.array([A0,A1,A2])"
   ]
  },
  {
   "cell_type": "code",
   "execution_count": 5,
   "id": "c74a1c88-0694-457e-a949-fdbc2968c0b4",
   "metadata": {},
   "outputs": [],
   "source": [
    "# connectivity probabilities\n",
    "cp = np.array([[0.05,0.05,0.05], \n",
    "               [0.05,0.05,0.05],\n",
    "               [0.05,0.05,0.05]])\n",
    "cw = np.array([[0,0,0],\n",
    "               [0,-1,0],\n",
    "               [0,0,0]])\n",
    "\n",
    "plasticity_rule = np.array([[0,2,1],\n",
    "                            [0,0,0],\n",
    "                            [0,0,0]])\n",
    "np.savez('./params.npz', \n",
    "         N=N, sequences=sequences, patterns=patterns,\n",
    "         cp=cp, cw=cw, A=A, plasticity_rule=plasticity_rule)"
   ]
  }
 ],
 "metadata": {
  "kernelspec": {
   "display_name": "striatum",
   "language": "python",
   "name": "striatum"
  },
  "language_info": {
   "codemirror_mode": {
    "name": "ipython",
    "version": 3
   },
   "file_extension": ".py",
   "mimetype": "text/x-python",
   "name": "python",
   "nbconvert_exporter": "python",
   "pygments_lexer": "ipython3",
   "version": "3.8.17"
  }
 },
 "nbformat": 4,
 "nbformat_minor": 5
}
