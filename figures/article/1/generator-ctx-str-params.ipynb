{
 "cells": [
  {
   "cell_type": "code",
   "execution_count": 1,
   "id": "7a6db55c-2810-4e77-b01d-778af348d590",
   "metadata": {},
   "outputs": [],
   "source": [
    "import sys\n",
    "sys.path.insert(0, '../../../network')\n",
    "import numpy as np\n",
    "from sequences import GaussianSequence\n",
    "from connectivity import cmatrix\n",
    "from transfer_functions import ErrorFunction\n",
    "from network import Population, RateNetwork"
   ]
  },
  {
   "cell_type": "markdown",
   "id": "8d61fe98-8cce-4d5f-aed8-d8bb802a39cd",
   "metadata": {},
   "source": [
    "### Population and patterns"
   ]
  },
  {
   "cell_type": "code",
   "execution_count": 2,
   "id": "6d7b7df4-011a-4b1c-9900-a2032e816d91",
   "metadata": {},
   "outputs": [],
   "source": [
    "# Pop size\n",
    "N_ctx, N_d1, N_d2 = 3000, 3000, 3000\n",
    "N = [N_ctx, N_d1, N_d2]\n",
    "\n",
    "# Gaussian patterns\n",
    "S, P = 1, 4\n",
    "sequences_ctx = [GaussianSequence(P,N_ctx, seed=945267) for i in range(S)] #945267\n",
    "patterns_ctx = np.stack([s.inputs for s in sequences_ctx])\n",
    "sequences_d1 = [GaussianSequence(P,N_d1, seed=996746) for i in range(S)] #996746\n",
    "patterns_d1 = np.stack([s.inputs for s in sequences_d1])\n",
    "sequences_d2 = [GaussianSequence(P,N_d1, seed=996749) for i in range(S)] #996746\n",
    "patterns_d2 = np.stack([s.inputs for s in sequences_d2])\n",
    "\n",
    "sequences = np.array([sequences_ctx, sequences_d1, sequences_d2])\n",
    "patterns = np.array([patterns_ctx, patterns_d1, patterns_d2])"
   ]
  },
  {
   "cell_type": "markdown",
   "id": "3fa2b503-ce6a-46fd-9dda-23e0a1f17a47",
   "metadata": {},
   "source": [
    "### Synaptic connectivity rule"
   ]
  },
  {
   "cell_type": "code",
   "execution_count": null,
   "id": "6e639d41-e3fa-4e5d-8ef9-a947d33223f9",
   "metadata": {},
   "outputs": [],
   "source": [
    "M00 = np.zeros((P_ctx, P_ctx))\n"
   ]
  },
  {
   "cell_type": "code",
   "execution_count": 3,
   "id": "6bf41d52-09d1-4f0f-880b-116da969e370",
   "metadata": {},
   "outputs": [
    {
     "ename": "TypeError",
     "evalue": "cmatrix() missing 1 required positional argument: 'z'",
     "output_type": "error",
     "traceback": [
      "\u001b[0;31m---------------------------------------------------------------------------\u001b[0m",
      "\u001b[0;31mTypeError\u001b[0m                                 Traceback (most recent call last)",
      "Cell \u001b[0;32mIn[3], line 2\u001b[0m\n\u001b[1;32m      1\u001b[0m \u001b[38;5;66;03m# Coupled\u001b[39;00m\n\u001b[0;32m----> 2\u001b[0m A00, A01, A02 \u001b[38;5;241m=\u001b[39m \u001b[43mcmatrix\u001b[49m\u001b[43m(\u001b[49m\u001b[43m(\u001b[49m\u001b[43mP\u001b[49m\u001b[43m,\u001b[49m\u001b[43mP\u001b[49m\u001b[43m)\u001b[49m\u001b[43m,\u001b[49m\u001b[43m \u001b[49m\u001b[38;5;241;43m10\u001b[39;49m\u001b[43m,\u001b[49m\u001b[43m \u001b[49m\u001b[38;5;241;43m1\u001b[39;49m\u001b[43m)\u001b[49m, cmatrix((P,P), \u001b[38;5;241m50\u001b[39m, \u001b[38;5;241m0.5\u001b[39m), cmatrix((P,P), \u001b[38;5;241m50\u001b[39m, \u001b[38;5;241m1\u001b[39m) \u001b[38;5;66;03m#0.85\u001b[39;00m\n\u001b[1;32m      3\u001b[0m A10, A11, A12 \u001b[38;5;241m=\u001b[39m cmatrix((P,P), \u001b[38;5;241m0.5\u001b[39m, \u001b[38;5;241m1\u001b[39m), cmatrix((P,P), \u001b[38;5;241m50\u001b[39m, \u001b[38;5;241m1\u001b[39m), cmatrix((P,P), \u001b[38;5;241m0\u001b[39m, \u001b[38;5;241m1\u001b[39m) \u001b[38;5;66;03m#30\u001b[39;00m\n\u001b[1;32m      4\u001b[0m A20, A21, A22 \u001b[38;5;241m=\u001b[39m cmatrix((P,P), \u001b[38;5;241m0.5\u001b[39m, \u001b[38;5;241m1\u001b[39m), cmatrix((P,P), \u001b[38;5;241m0\u001b[39m, \u001b[38;5;241m0\u001b[39m), cmatrix((P,P), \u001b[38;5;241m50\u001b[39m, \u001b[38;5;241m1\u001b[39m)\n",
      "\u001b[0;31mTypeError\u001b[0m: cmatrix() missing 1 required positional argument: 'z'"
     ]
    }
   ],
   "source": [
    "# Coupled\n",
    "A00, A01, A02 = cmatrix((P,P), 10, 1), cmatrix((P,P), 50, 0.5), cmatrix((P,P), 50, 1) #0.85\n",
    "A10, A11, A12 = cmatrix((P,P), 0.5, 1), cmatrix((P,P), 50, 1), cmatrix((P,P), 0, 1) #30\n",
    "A20, A21, A22 = cmatrix((P,P), 0.5, 1), cmatrix((P,P), 0, 0), cmatrix((P,P), 50, 1)\n",
    "\n",
    "A0 = np.array([A00,A01,A02])\n",
    "A1 = np.array([A10,A11,A12])\n",
    "A2 = np.array([A20,A21,A22])\n",
    "A = np.array([A0,A1,A2])"
   ]
  },
  {
   "cell_type": "code",
   "execution_count": 4,
   "id": "c74a1c88-0694-457e-a949-fdbc2968c0b4",
   "metadata": {},
   "outputs": [],
   "source": [
    "# Connection probabilities\n",
    "cp = np.array([[0.05, 0.05, 0.05],\n",
    "               [0.05, 0.05, 0.05],\n",
    "               [0.05, 0.05, 0.05]])\n",
    "\n",
    "cw = np.array([[0, 0, 0],\n",
    "               [1, -1, -1],\n",
    "               [-1, -1, -1]])"
   ]
  },
  {
   "cell_type": "code",
   "execution_count": 5,
   "id": "a1f56e5d-7626-4c75-80e2-f27034e1d1f9",
   "metadata": {},
   "outputs": [],
   "source": [
    "np.savez('./ctx_d1_d2_params.npz', \n",
    "         N=N, sequences=sequences, patterns=patterns,\n",
    "         cp=cp, cw=cw, A=A)"
   ]
  }
 ],
 "metadata": {
  "kernelspec": {
   "display_name": "striatum",
   "language": "python",
   "name": "striatum"
  },
  "language_info": {
   "codemirror_mode": {
    "name": "ipython",
    "version": 3
   },
   "file_extension": ".py",
   "mimetype": "text/x-python",
   "name": "python",
   "nbconvert_exporter": "python",
   "pygments_lexer": "ipython3",
   "version": "3.8.17"
  }
 },
 "nbformat": 4,
 "nbformat_minor": 5
}
