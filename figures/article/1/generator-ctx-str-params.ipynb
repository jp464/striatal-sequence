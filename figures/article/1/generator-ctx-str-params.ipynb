{
 "cells": [
  {
   "cell_type": "code",
   "execution_count": 1,
   "id": "7a6db55c-2810-4e77-b01d-778af348d590",
   "metadata": {},
   "outputs": [],
   "source": [
    "import sys\n",
    "sys.path.insert(0, '../../../network')\n",
    "import numpy as np\n",
    "from sequences import GaussianSequence\n",
    "from connectivity import cmatrix\n",
    "from transfer_functions import ErrorFunction\n",
    "from network import Population, RateNetwork"
   ]
  },
  {
   "cell_type": "markdown",
   "id": "8d61fe98-8cce-4d5f-aed8-d8bb802a39cd",
   "metadata": {},
   "source": [
    "### Population and patterns"
   ]
  },
  {
   "cell_type": "code",
   "execution_count": 2,
   "id": "6d7b7df4-011a-4b1c-9900-a2032e816d91",
   "metadata": {},
   "outputs": [],
   "source": [
    "# Pop size\n",
    "N_ctx, N_str = 3000, 3000\n",
    "N = [N_ctx, N_str]\n",
    "\n",
    "# Gaussian patterns\n",
    "S_ctx, S_str, P_ctx, P_str = 1, 1, 4, 4\n",
    "sequences_ctx = [GaussianSequence(P_ctx,N_ctx, seed=945267) for i in range(S_ctx)] #945267\n",
    "patterns_ctx = np.stack([s.inputs for s in sequences_ctx])\n",
    "sequences_str = [GaussianSequence(P_str,N_str, seed=996746) for i in range(S_str)] #996746\n",
    "patterns_str = np.stack([s.inputs for s in sequences_str])\n",
    "\n",
    "sequences = np.array([sequences_ctx, sequences_str])\n",
    "patterns = np.array([patterns_ctx[0], patterns_str[0]], dtype=object)"
   ]
  },
  {
   "cell_type": "markdown",
   "id": "3fa2b503-ce6a-46fd-9dda-23e0a1f17a47",
   "metadata": {},
   "source": [
    "### Synaptic connectivity rule"
   ]
  },
  {
   "cell_type": "code",
   "execution_count": 3,
   "id": "6e639d41-e3fa-4e5d-8ef9-a947d33223f9",
   "metadata": {},
   "outputs": [],
   "source": [
    "M00 = np.zeros((P_ctx, P_ctx))\n",
    "M01 = np.zeros((P_ctx, P_str))\n",
    "M10 = np.zeros((P_str, P_ctx))\n",
    "M11 = np.zeros((P_str, P_str))"
   ]
  },
  {
   "cell_type": "code",
   "execution_count": 4,
   "id": "0ba1af06-d4fd-4a7a-a0d0-ac5cc8afa37f",
   "metadata": {},
   "outputs": [],
   "source": [
    "cmatrix(M00, [[i,i] for i in range(P_ctx)], 10)\n",
    "cmatrix(M11, [[i,i] for i in range(P_str)], 10)\n",
    "cmatrix(M01, [[0,1,2,3]], 10, loop=True)\n",
    "cmatrix(M10, [[i,i] for i in range(P_str)], 2)"
   ]
  },
  {
   "cell_type": "code",
   "execution_count": 5,
   "id": "6bf41d52-09d1-4f0f-880b-116da969e370",
   "metadata": {},
   "outputs": [],
   "source": [
    "A = np.array([[M00, M01],\n",
    "             [M10, M11]], dtype=object)"
   ]
  },
  {
   "cell_type": "code",
   "execution_count": 6,
   "id": "c74a1c88-0694-457e-a949-fdbc2968c0b4",
   "metadata": {},
   "outputs": [],
   "source": [
    "# Connection probabilities\n",
    "cp = np.array([[0.05, 0.05],\n",
    "               [0.05, 0.05]])\n",
    "\n",
    "cw = np.array([[0,0],\n",
    "                [0,0]])"
   ]
  },
  {
   "cell_type": "code",
   "execution_count": 7,
   "id": "a1f56e5d-7626-4c75-80e2-f27034e1d1f9",
   "metadata": {},
   "outputs": [],
   "source": [
    "np.savez('./ctx-str-params.npz', \n",
    "         N=N, sequences=sequences, patterns=patterns,\n",
    "         cp=cp, cw=cw, A=A)"
   ]
  }
 ],
 "metadata": {
  "kernelspec": {
   "display_name": "striatum",
   "language": "python",
   "name": "striatum"
  },
  "language_info": {
   "codemirror_mode": {
    "name": "ipython",
    "version": 3
   },
   "file_extension": ".py",
   "mimetype": "text/x-python",
   "name": "python",
   "nbconvert_exporter": "python",
   "pygments_lexer": "ipython3",
   "version": "3.8.17"
  }
 },
 "nbformat": 4,
 "nbformat_minor": 5
}
