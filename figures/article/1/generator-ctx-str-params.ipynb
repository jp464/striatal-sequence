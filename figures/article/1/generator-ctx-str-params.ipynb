{
 "cells": [
  {
   "cell_type": "code",
   "execution_count": 1,
   "id": "7a6db55c-2810-4e77-b01d-778af348d590",
   "metadata": {},
   "outputs": [],
   "source": [
    "import sys\n",
    "sys.path.insert(0, '../../../network')\n",
    "import numpy as np\n",
    "from sequences import GaussianSequence\n",
    "from connectivity import cmatrix\n",
    "from transfer_functions import ErrorFunction\n",
    "from network import Population, RateNetwork"
   ]
  },
  {
   "cell_type": "markdown",
   "id": "8d61fe98-8cce-4d5f-aed8-d8bb802a39cd",
   "metadata": {},
   "source": [
    "### Population and patterns"
   ]
  },
  {
   "cell_type": "code",
   "execution_count": 2,
   "id": "6d7b7df4-011a-4b1c-9900-a2032e816d91",
   "metadata": {},
   "outputs": [],
   "source": [
    "# Pop size\n",
    "N_ctx, N_d1 = 3000, 3000\n",
    "N = [N_ctx, N_d1]\n",
    "\n",
    "# Gaussian patterns\n",
    "S, P = 1, 4\n",
    "sequences_ctx = [GaussianSequence(P,N_ctx, seed=123) for i in range(S)]\n",
    "patterns_ctx = np.stack([s.inputs for s in sequences_ctx])\n",
    "sequences_d1 = [GaussianSequence(P,N_d1, seed=199) for i in range(S)]\n",
    "patterns_d1 = np.stack([s.inputs for s in sequences_d1])\n",
    "\n",
    "sequences = np.array([sequences_ctx, sequences_d1])\n",
    "patterns = np.array([patterns_ctx, patterns_d1])"
   ]
  },
  {
   "cell_type": "markdown",
   "id": "3fa2b503-ce6a-46fd-9dda-23e0a1f17a47",
   "metadata": {},
   "source": [
    "### Synaptic connectivity rule"
   ]
  },
  {
   "cell_type": "code",
   "execution_count": 3,
   "id": "6bf41d52-09d1-4f0f-880b-116da969e370",
   "metadata": {},
   "outputs": [],
   "source": [
    "###### Learning rule: \n",
    "# Type 0: zeros; 1: symmetric; 2: asymmetric\n",
    "# A00, A01 = cmatrix((P,P), 4.5, 1), cmatrix((P,P), 8, 1)\n",
    "A00, A01 = cmatrix((P,P), 6.5, 1), cmatrix((P,P), 9, 0.6)\n",
    "A0 = np.array([A00,A01])\n",
    "\n",
    "\n",
    "A10, A11, = cmatrix((P,P), 1.5, 1), cmatrix((P,P), 4, 1) #.15\n",
    "A1 = np.array([A10,A11])\n",
    "\n",
    "\n",
    "A = np.array([A0,A1])"
   ]
  },
  {
   "cell_type": "code",
   "execution_count": 4,
   "id": "c74a1c88-0694-457e-a949-fdbc2968c0b4",
   "metadata": {},
   "outputs": [],
   "source": [
    "# Connection probabilities\n",
    "cp = np.array([[0.05, 0.05],\n",
    "               [0.05, 0.05]])\n",
    "\n",
    "cw = np.array([[0,1],\n",
    "                [0,-1]])"
   ]
  },
  {
   "cell_type": "code",
   "execution_count": 5,
   "id": "a1f56e5d-7626-4c75-80e2-f27034e1d1f9",
   "metadata": {},
   "outputs": [],
   "source": [
    "np.savez('./ctx_str_params.npz', \n",
    "         N=N, sequences=sequences, patterns=patterns,\n",
    "         cp=cp, cw=cw, A=A)"
   ]
  }
 ],
 "metadata": {
  "kernelspec": {
   "display_name": "striatum",
   "language": "python",
   "name": "striatum"
  },
  "language_info": {
   "codemirror_mode": {
    "name": "ipython",
    "version": 3
   },
   "file_extension": ".py",
   "mimetype": "text/x-python",
   "name": "python",
   "nbconvert_exporter": "python",
   "pygments_lexer": "ipython3",
   "version": "3.8.17"
  }
 },
 "nbformat": 4,
 "nbformat_minor": 5
}
