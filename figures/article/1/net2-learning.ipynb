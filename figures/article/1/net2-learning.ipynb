{
 "cells": [
  {
   "cell_type": "code",
   "execution_count": null,
   "metadata": {},
   "outputs": [],
   "source": [
    "import sys\n",
    "sys.path.insert(0, '../../../network')"
   ]
  },
  {
   "cell_type": "code",
   "execution_count": null,
   "metadata": {},
   "outputs": [],
   "source": [
    "import logging\n",
    "import argparse\n",
    "import numpy as np\n",
    "from network import Population, RateNetwork\n",
    "from learning import ReachingTask\n",
    "from transfer_functions import ErrorFunction\n",
    "from connectivity import SparseConnectivity, LinearSynapse, ThresholdPlasticityRule\n",
    "from sequences import GaussianSequence\n",
    "import matplotlib.pyplot as plt\n",
    "import seaborn as sns\n",
    "logging.basicConfig(level=logging.INFO)"
   ]
  },
  {
   "cell_type": "code",
   "execution_count": null,
   "metadata": {},
   "outputs": [],
   "source": [
    "phi = ErrorFunction(mu=0.22, sigma=0.1).phi\n",
    "ctx = Population(N=1000, tau=1e-2, phi=phi, name='ctx')\n",
    "bg = Population(N=1000, tau=1e-2, phi=phi, name='bg')\n",
    "plasticity = ThresholdPlasticityRule(x_f=0.5, q_f=0.8) \n",
    "\n",
    "S, P = 1, 3\n",
    "sequences_ctx = [GaussianSequence(P,ctx.size, seed=114) for i in range(S)]\n",
    "patterns_ctx = np.stack([s.inputs for s in sequences_ctx])\n",
    "sequences_bg = [GaussianSequence(P,ctx.size, seed=29) for i in range(S)]\n",
    "patterns_bg = np.stack([s.inputs for s in sequences_bg])\n",
    "\n",
    "J_cc = SparseConnectivity(source=ctx, target=ctx, p=0.05)\n",
    "synapse_cc = LinearSynapse(J_cc.K, A=5)\n",
    "J_cc.store_attractors(patterns_ctx[0], patterns_ctx[0], synapse_cc.h_EE, \n",
    "                      plasticity.f, plasticity.g)\n",
    "J_bb = SparseConnectivity(source=bg, target=bg, p=0.05)\n",
    "synapse_bb = LinearSynapse(J_bb.K, A=5)\n",
    "J_bb.store_attractors(patterns_bg[0], patterns_bg[0], synapse_bb.h_EE, \n",
    "                      plasticity.f, plasticity.g)\n",
    "J_cb  = SparseConnectivity(source=bg, target=ctx, p=0.05)\n",
    "synapse_cb = LinearSynapse(J_cb.K, A=1)\n",
    "J_cb.store_attractors(patterns_bg[0], patterns_ctx[0], synapse_cb.h_EE, \n",
    "                      plasticity.f, plasticity.g)\n",
    "\n",
    "J_bc = SparseConnectivity(source=ctx, target=bg, p=0.05)\n",
    "synapse_bc = LinearSynapse(J_bc.K, A=0)\n",
    "J_bc.store_sequences(patterns_ctx, patterns_bg, synapse_bc.h_EE, plasticity.f, plasticity.g)\n",
    "\n",
    "net_ctx = RateNetwork(ctx, c_EE=J_cc, c_IE=J_bc, formulation=4)\n",
    "net_bg = RateNetwork(bg, c_II=J_bb, c_EI=J_cb, formulation=4)"
   ]
  },
  {
   "cell_type": "raw",
   "metadata": {},
   "source": [
    "phi = ErrorFunction(mu=0.22, sigma=0.1).phi\n",
    "ctx = Population(N=10000, tau=1e-2, phi=phi, name='ctx')\n",
    "bg = Population(N=10000, tau=1e-2, phi=phi, name='bg')\n",
    "plasticity = ThresholdPlasticityRule(x_f=0.5, q_f=0.8) \n",
    "\n",
    "S, P = 1, 10\n",
    "sequences_ctx = [GaussianSequence(P,ctx.size, seed=11) for i in range(S)]\n",
    "patterns_ctx = np.stack([s.inputs for s in sequences_ctx])\n",
    "sequences_bg = [GaussianSequence(P,ctx.size, seed=367) for i in range(S)]\n",
    "patterns_bg = np.stack([s.inputs for s in sequences_bg])\n",
    "\n",
    "J_cc = SparseConnectivity(source=ctx, target=ctx, p=0.05)\n",
    "synapse_cc = LinearSynapse(J_cc.K, A=5)\n",
    "J_cc.store_attractors(patterns_ctx[0], patterns_ctx[0], synapse_cc.h_EE, \n",
    "                      plasticity.f, plasticity.g)\n",
    "J_bb = SparseConnectivity(source=bg, target=bg, p=0.05)\n",
    "synapse_bb = LinearSynapse(J_bb.K, A=5)\n",
    "J_bb.store_attractors(patterns_bg[0], patterns_bg[0], synapse_bb.h_EE, \n",
    "                      plasticity.f, plasticity.g)\n",
    "J_cb  = SparseConnectivity(source=bg, target=ctx, p=0.05)\n",
    "synapse_cb = LinearSynapse(J_cb.K, A=3.5)\n",
    "J_cb.store_attractors(patterns_bg[0], patterns_ctx[0], synapse_cb.h_EE, \n",
    "                      plasticity.f, plasticity.g)\n",
    "\n",
    "J_bc = SparseConnectivity(source=ctx, target=bg, p=0.05)\n",
    "synapse_bc = LinearSynapse(J_bc.K, A=0)\n",
    "J_bc.store_sequences(patterns_ctx, patterns_bg, synapse_bc.h_EE, plasticity.f, plasticity.g)\n",
    "# J_bc.update_sequences(patterns_ctx[0][1], patterns_bg[0][2],\n",
    "#                    3.5, lamb=1,f=plasticity.f, g=plasticity.g)\n",
    "net_ctx = RateNetwork(ctx, c_EE=J_cc, c_IE=J_bc, formulation=4)\n",
    "net_bg = RateNetwork(bg, c_II=J_bb, c_EI=J_cb, formulation=4)"
   ]
  },
  {
   "cell_type": "code",
   "execution_count": null,
   "metadata": {
    "scrolled": true
   },
   "outputs": [],
   "source": [
    "init_input_ctx = np.random.RandomState().normal(0,1,size=patterns_ctx[0][0].shape)\n",
    "init_input_bg = np.random.RandomState().normal(0,1,size=patterns_bg[0][0].shape)\n",
    "# init_input_ctx = patterns_ctx[0][0]\n",
    "# init_input_bg = patterns_bg[0][0]\n",
    "T=1000\n",
    "mouse = ReachingTask(3, alpha=0.5)\n",
    "# net_ctx.simulate_learning(mouse, net_bg, T, init_input_ctx, init_input_bg, \n",
    "#                           phi(patterns_ctx[0]), phi(patterns_bg[0]), plasticity, detection_thres=.23)\n",
    "net_ctx.simulate_learning(mouse, net_bg, T, init_input_ctx, init_input_bg, \n",
    "                          patterns_ctx[0], patterns_bg[0], plasticity, detection_thres=.23)"
   ]
  },
  {
   "cell_type": "code",
   "execution_count": null,
   "metadata": {},
   "outputs": [],
   "source": [
    "overlaps_ctx = sequences_ctx[0].overlaps(net_ctx, ctx)\n",
    "correlations_ctx = sequences_ctx[0].overlaps(net_ctx, ctx, correlation=True)\n",
    "overlaps_bg = sequences_bg[0].overlaps(net_bg, bg)\n",
    "correlations_bg = sequences_bg[0].overlaps(net_bg, bg, correlation=True)"
   ]
  },
  {
   "cell_type": "code",
   "execution_count": null,
   "metadata": {},
   "outputs": [],
   "source": [
    "np.savez('./learning-0005-1600-600-5-1000-v0.npz', \n",
    "         overlaps_ctx=overlaps_ctx, overlaps_bg=overlaps_bg, \n",
    "         correlations_ctx=correlations_ctx, correlations_bg=correlations_bg, \n",
    "         state_ctx=net_ctx.exc.state, state_bg=net_bg.exc.state)"
   ]
  }
 ],
 "metadata": {
  "kernelspec": {
   "display_name": "Python 3 (ipykernel)",
   "language": "python",
   "name": "python3"
  },
  "language_info": {
   "codemirror_mode": {
    "name": "ipython",
    "version": 3
   },
   "file_extension": ".py",
   "mimetype": "text/x-python",
   "name": "python",
   "nbconvert_exporter": "python",
   "pygments_lexer": "ipython3",
   "version": "3.8.13"
  }
 },
 "nbformat": 4,
 "nbformat_minor": 4
}
