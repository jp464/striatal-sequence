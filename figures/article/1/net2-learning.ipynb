{
 "cells": [
  {
   "cell_type": "code",
   "execution_count": 1,
   "metadata": {},
   "outputs": [],
   "source": [
    "import sys\n",
    "sys.path.insert(0, '../../../network')"
   ]
  },
  {
   "cell_type": "code",
   "execution_count": 2,
   "metadata": {},
   "outputs": [],
   "source": [
    "import logging\n",
    "import argparse\n",
    "import numpy as np\n",
    "from network import Population, RateNetwork\n",
    "from learning import ReachingTask\n",
    "from transfer_functions import ErrorFunction\n",
    "from connectivity import SparseConnectivity, LinearSynapse, ThresholdPlasticityRule\n",
    "from sequences import GaussianSequence\n",
    "import matplotlib.pyplot as plt\n",
    "# np.set_printoptions(threshold=sys.maxsize)\n",
    "logging.basicConfig(level=logging.INFO)"
   ]
  },
  {
   "cell_type": "code",
   "execution_count": null,
   "metadata": {},
   "outputs": [],
   "source": [
    "phi = ErrorFunction(mu=0.22, sigma=0.1).phi\n",
    "ctx = Population(N=1000, tau=1e-2, phi=phi, name='ctx')\n",
    "bg = Population(N=1000, tau=1e-2, phi=phi, name='bg')\n",
    "plasticity = ThresholdPlasticityRule(x_f=0.5, q_f=0.8) \n",
    "\n",
    "S, P = 1, 3\n",
    "sequences_ctx = [GaussianSequence(P,ctx.size, seed=11) for i in range(S)]\n",
    "patterns_ctx = np.stack([s.inputs for s in sequences_ctx])\n",
    "sequences_bg = [GaussianSequence(P,ctx.size, seed=367) for i in range(S)]\n",
    "patterns_bg = np.stack([s.inputs for s in sequences_bg])\n",
    "\n",
    "J_cc = SparseConnectivity(source=ctx, target=ctx, p=0.5)\n",
    "synapse_cc = LinearSynapse(J_cc.K, A=6)\n",
    "J_cc.store_attractors(patterns_ctx[0], patterns_ctx[0], synapse_cc.h_EE, plasticity.f, plasticity.g)\n",
    "J_bb = SparseConnectivity(source=bg, target=bg, p=0.5)\n",
    "synapse_bb = LinearSynapse(J_bb.K, A=6)\n",
    "J_bb.store_attractors(patterns_bg[0], patterns_bg[0], synapse_bb.h_EE, plasticity.f, plasticity.g)\n",
    "J_cb  = SparseConnectivity(source=bg, target=ctx, p=0.5)\n",
    "synapse_cb = LinearSynapse(J_cb.K, A=3)\n",
    "J_cb.store_attractors(patterns_bg[0], patterns_ctx[0], synapse_cb.h_EE, plasticity.f, plasticity.g)\n",
    "\n",
    "J_bc = SparseConnectivity(source=ctx, target=bg, p=0.5)\n",
    "synapse_bc = LinearSynapse(J_bc.K, A=0)\n",
    "J_bc.store_sequences(patterns_ctx, patterns_bg, synapse_bc.h_EE, plasticity.f, plasticity.g)\n",
    "\n",
    "net_ctx = RateNetwork(ctx, c_EE=J_cc, c_IE=J_bc, formulation=4)\n",
    "net_bg = RateNetwork(bg, c_II=J_bb, c_EI=J_cb, formulation=4)"
   ]
  },
  {
   "cell_type": "raw",
   "metadata": {},
   "source": [
    "test = np.array([0, 1, 2, 0, 1, 2])\n",
    "for i in range(len(test)):\n",
    "    if i == 0: continue\n",
    "    pre = patterns_ctx[0][test[i-1]]\n",
    "    post = patterns_bg[0][test[i]]\n",
    "    J_bc.update_sequences(pre, post, 1.5, 1, f = plasticity.f, g = plasticity.g)\n",
    "    net_ctx = RateNetwork(ctx, c_EE=J_cc, c_IE=J_bc, formulation=4)"
   ]
  },
  {
   "cell_type": "code",
   "execution_count": null,
   "metadata": {},
   "outputs": [],
   "source": [
    "init_input_ctx = np.random.RandomState().normal(0,1,size=patterns_ctx[0][0].shape)\n",
    "init_input_bg = np.random.RandomState().normal(0,1,size=patterns_bg[0][0].shape)\n",
    "# init_input_ctx = patterns_ctx[0][0]\n",
    "# init_input_bg = patterns_bg[0][0]\n",
    "T=5\n",
    "behaviors = net_ctx.simulate_learning(net_bg, T, init_input_ctx, init_input_bg, patterns_ctx[0], noise=13)"
   ]
  },
  {
   "cell_type": "code",
   "execution_count": null,
   "metadata": {},
   "outputs": [],
   "source": [
    "overlaps = sequences_ctx[0].overlaps(net_ctx, ctx, phi=phi)\n",
    "correlations = sequences_ctx[0].overlaps(net_ctx, ctx, phi=phi, correlation=True)"
   ]
  },
  {
   "cell_type": "code",
   "execution_count": null,
   "metadata": {},
   "outputs": [],
   "source": [
    "for i, row in enumerate(correlations):\n",
    "    plt.plot(row, label=str(i))\n",
    "plt.legend()"
   ]
  },
  {
   "cell_type": "code",
   "execution_count": null,
   "metadata": {},
   "outputs": [],
   "source": [
    "np.save('/Users/stanleypark/Desktop/code/hebbian_sequence_learning/figures/article/1/output/behaviors.npy', \n",
    "       behaviors)"
   ]
  },
  {
   "cell_type": "code",
   "execution_count": 20,
   "metadata": {},
   "outputs": [],
   "source": [
    "# behavior = np.array([0, 0, 1, 1, 2, 1, 2, 3, 0, 1, 1, 0, 2, 0, 1, 2])\n",
    "behavior = np.random.randint(4, size=1000)"
   ]
  },
  {
   "cell_type": "code",
   "execution_count": 22,
   "metadata": {},
   "outputs": [
    {
     "name": "stdout",
     "output_type": "stream",
     "text": [
      "[[[-0.32038344 -0.24919736 -0.62480946 -0.42317768]\n",
      "  [-0.11438328  0.2551558  -0.5654098  -0.25738157]]\n",
      "\n",
      " [[-0.03481723 -0.21374299  0.67378942 -0.04914785]\n",
      "  [ 0.0499738   0.22073229  0.79670358 -0.06371064]]]\n"
     ]
    }
   ],
   "source": [
    "mouse = ReachingTask(2)\n",
    "\n",
    "for i in range(len(behavior)):\n",
    "    if i == 0:\n",
    "        s1 = 'out'\n",
    "        w1 = 0\n",
    "        prev = None\n",
    "    else:\n",
    "        s0, w0 = s1, w1\n",
    "        a0, a1 = behavior[i-1], behavior[i]\n",
    "        mouse.detect_reward(s0, a0, w0)\n",
    "        s1, w1 = mouse.state_transition(s0, a0, w0)\n",
    "        mouse.td_learning(s0, a0, w0, s1, a1, w1)\n",
    "#         if i > 1:\n",
    "#             print(\"actions: \" + str((prev[0][1], prev[1][1])) + \"; Qvals:: \" + str((mouse.Qvalues[prev[0][2], mouse.states.index(prev[0][0]), prev[0][1]], mouse.Qvalues[prev[1][2], mouse.states.index(prev[1][0]), prev[1][1]])))\n",
    "        prev = [(s0, a0, w0), (s1, a1, w1)]\n",
    "print(mouse.Qvalues)"
   ]
  },
  {
   "cell_type": "code",
   "execution_count": null,
   "metadata": {},
   "outputs": [],
   "source": [
    "np.zeros((2,2,4))[False]"
   ]
  }
 ],
 "metadata": {
  "kernelspec": {
   "display_name": "Python 3 (ipykernel)",
   "language": "python",
   "name": "python3"
  },
  "language_info": {
   "codemirror_mode": {
    "name": "ipython",
    "version": 3
   },
   "file_extension": ".py",
   "mimetype": "text/x-python",
   "name": "python",
   "nbconvert_exporter": "python",
   "pygments_lexer": "ipython3",
   "version": "3.8.13"
  }
 },
 "nbformat": 4,
 "nbformat_minor": 4
}
