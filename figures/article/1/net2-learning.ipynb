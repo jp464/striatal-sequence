{
 "cells": [
  {
   "cell_type": "code",
   "execution_count": 1,
   "metadata": {},
   "outputs": [],
   "source": [
    "import sys\n",
    "sys.path.insert(0, '../../../network')"
   ]
  },
  {
   "cell_type": "code",
   "execution_count": 2,
   "metadata": {},
   "outputs": [],
   "source": [
    "import logging\n",
    "import argparse\n",
    "import numpy as np\n",
    "from network import Population, RateNetwork\n",
    "from learning import ReachingTask\n",
    "from transfer_functions import ErrorFunction\n",
    "from connectivity import SparseConnectivity, LinearSynapse, ThresholdPlasticityRule\n",
    "from sequences import GaussianSequence\n",
    "import matplotlib.pyplot as plt\n",
    "import seaborn as sns\n",
    "logging.basicConfig(level=logging.INFO)"
   ]
  },
  {
   "cell_type": "raw",
   "metadata": {},
   "source": [
    "phi = ErrorFunction(mu=0.22, sigma=0.1).phi\n",
    "ctx = Population(N=1000, tau=1e-2, phi=phi, name='ctx')\n",
    "bg = Population(N=1000, tau=1e-2, phi=phi, name='bg')\n",
    "plasticity = ThresholdPlasticityRule(x_f=0.5, q_f=0.8) \n",
    "\n",
    "S, P = 1, 3\n",
    "sequences_ctx = [GaussianSequence(P,ctx.size, seed=114) for i in range(S)]\n",
    "patterns_ctx = np.stack([s.inputs for s in sequences_ctx])\n",
    "sequences_bg = [GaussianSequence(P,ctx.size, seed=29) for i in range(S)]\n",
    "patterns_bg = np.stack([s.inputs for s in sequences_bg])\n",
    "\n",
    "J_cc = SparseConnectivity(source=ctx, target=ctx, p=0.05)\n",
    "synapse_cc = LinearSynapse(J_cc.K, A=5)\n",
    "J_cc.store_attractors(patterns_ctx[0], patterns_ctx[0], synapse_cc.h_EE, \n",
    "                      plasticity.f, plasticity.g)\n",
    "J_bb = SparseConnectivity(source=bg, target=bg, p=0.05)\n",
    "synapse_bb = LinearSynapse(J_bb.K, A=5)\n",
    "J_bb.store_attractors(patterns_bg[0], patterns_bg[0], synapse_bb.h_EE, \n",
    "                      plasticity.f, plasticity.g)\n",
    "J_cb  = SparseConnectivity(source=bg, target=ctx, p=0.05)\n",
    "synapse_cb = LinearSynapse(J_cb.K, A=1)\n",
    "J_cb.store_attractors(patterns_bg[0], patterns_ctx[0], synapse_cb.h_EE, \n",
    "                      plasticity.f, plasticity.g)\n",
    "\n",
    "J_bc = SparseConnectivity(source=ctx, target=bg, p=0.05)\n",
    "synapse_bc = LinearSynapse(J_bc.K, A=0.3)\n",
    "J_bc.store_sequences(patterns_ctx, patterns_bg, synapse_bc.h_EE, plasticity.f, plasticity.g)\n",
    "# J_bc.update_sequences(patterns_ctx[0][0], patterns_bg[0][1],\n",
    "#                    .1, lamb=1,f=plasticity.f, g=plasticity.g)\n",
    "# J_bc.update_sequences(patterns_ctx[0][1], patterns_bg[0][2],\n",
    "#                    .1, lamb=1,f=plasticity.f, g=plasticity.g)\n",
    "# J_bc.update_sequences(patterns_ctx[0][2], patterns_bg[0][0],\n",
    "#                    .1, lamb=1,f=plasticity.f, g=plasticity.g)\n",
    "\n",
    "net_ctx = RateNetwork(ctx, c_EE=J_cc, c_IE=J_bc, formulation=4)\n",
    "net_bg = RateNetwork(bg, c_II=J_bb, c_EI=J_cb, formulation=4)"
   ]
  },
  {
   "cell_type": "code",
   "execution_count": 3,
   "metadata": {},
   "outputs": [
    {
     "name": "stderr",
     "output_type": "stream",
     "text": [
      "INFO:connectivity:Building connections from ctx to ctx\n",
      "INFO:connectivity:Storing attractors\n",
      "100%|█████████████████████████████████| 10000/10000 [00:01<00:00, 6999.18it/s]\n",
      "INFO:connectivity:Building connections from bg to bg\n",
      "INFO:connectivity:Storing attractors\n",
      "100%|█████████████████████████████████| 10000/10000 [00:01<00:00, 7106.84it/s]\n",
      "INFO:connectivity:Building connections from bg to ctx\n",
      "INFO:connectivity:Storing attractors\n",
      "100%|█████████████████████████████████| 10000/10000 [00:01<00:00, 6995.81it/s]\n",
      "INFO:connectivity:Building connections from ctx to bg\n",
      "INFO:connectivity:Storing sequences\n",
      "  0%|                                                   | 0/1 [00:00<?, ?it/s]\n",
      "  0%|                                               | 0/10000 [00:00<?, ?it/s]\u001b[A\n",
      "  5%|█▉                                 | 544/10000 [00:00<00:01, 5438.37it/s]\u001b[A\n",
      " 12%|████▏                             | 1243/10000 [00:00<00:01, 6349.04it/s]\u001b[A\n",
      " 20%|██████▋                           | 1962/10000 [00:00<00:01, 6732.79it/s]\u001b[A\n",
      " 26%|████████▉                         | 2636/10000 [00:00<00:01, 6704.93it/s]\u001b[A\n",
      " 33%|███████████▏                      | 3307/10000 [00:00<00:01, 6585.27it/s]\u001b[A\n",
      " 40%|█████████████▌                    | 3995/10000 [00:00<00:00, 6683.38it/s]\u001b[A\n",
      " 47%|███████████████▊                  | 4664/10000 [00:00<00:00, 6611.27it/s]\u001b[A\n",
      " 54%|██████████████████▏               | 5366/10000 [00:00<00:00, 6739.28it/s]\u001b[A\n",
      " 61%|████████████████████▌             | 6055/10000 [00:00<00:00, 6785.47it/s]\u001b[A\n",
      " 67%|██████████████████████▉           | 6748/10000 [00:01<00:00, 6828.79it/s]\u001b[A\n",
      " 74%|█████████████████████████▎        | 7450/10000 [00:01<00:00, 6886.25it/s]\u001b[A\n",
      " 81%|███████████████████████████▋      | 8144/10000 [00:01<00:00, 6900.70it/s]\u001b[A\n",
      " 88%|██████████████████████████████    | 8840/10000 [00:01<00:00, 6917.41it/s]\u001b[A\n",
      "100%|█████████████████████████████████| 10000/10000 [00:01<00:00, 6767.43it/s]\u001b[A\n",
      "100%|███████████████████████████████████████████| 1/1 [00:01<00:00,  1.48s/it]\n",
      "INFO:connectivity:Applying synaptic transfer function\n",
      "INFO:connectivity:Building sparse matrix\n"
     ]
    }
   ],
   "source": [
    "phi = ErrorFunction(mu=0.22, sigma=0.1).phi\n",
    "ctx = Population(N=10000, tau=1e-2, phi=phi, name='ctx')\n",
    "bg = Population(N=10000, tau=1e-2, phi=phi, name='bg')\n",
    "plasticity = ThresholdPlasticityRule(x_f=0.5, q_f=0.8) \n",
    "\n",
    "S, P = 1, 10\n",
    "sequences_ctx = [GaussianSequence(P,ctx.size, seed=11) for i in range(S)]\n",
    "patterns_ctx = np.stack([s.inputs for s in sequences_ctx])\n",
    "sequences_bg = [GaussianSequence(P,ctx.size, seed=367) for i in range(S)]\n",
    "patterns_bg = np.stack([s.inputs for s in sequences_bg])\n",
    "\n",
    "J_cc = SparseConnectivity(source=ctx, target=ctx, p=0.05)\n",
    "synapse_cc = LinearSynapse(J_cc.K, A=5)\n",
    "J_cc.store_attractors(patterns_ctx[0], patterns_ctx[0], synapse_cc.h_EE, \n",
    "                      plasticity.f, plasticity.g)\n",
    "J_bb = SparseConnectivity(source=bg, target=bg, p=0.05)\n",
    "synapse_bb = LinearSynapse(J_bb.K, A=5)\n",
    "J_bb.store_attractors(patterns_bg[0], patterns_bg[0], synapse_bb.h_EE, \n",
    "                      plasticity.f, plasticity.g)\n",
    "J_cb  = SparseConnectivity(source=bg, target=ctx, p=0.05)\n",
    "synapse_cb = LinearSynapse(J_cb.K, A=3.5)\n",
    "J_cb.store_attractors(patterns_bg[0], patterns_ctx[0], synapse_cb.h_EE, \n",
    "                      plasticity.f, plasticity.g)\n",
    "\n",
    "J_bc = SparseConnectivity(source=ctx, target=bg, p=0.05)\n",
    "synapse_bc = LinearSynapse(J_bc.K, A=0)\n",
    "J_bc.store_sequences(patterns_ctx, patterns_bg, synapse_bc.h_EE, plasticity.f, plasticity.g)\n",
    "# J_bc.update_sequences(patterns_ctx[0][1], patterns_bg[0][2],\n",
    "#                    3.5, lamb=1,f=plasticity.f, g=plasticity.g)\n",
    "net_ctx = RateNetwork(ctx, c_EE=J_cc, c_IE=J_bc, formulation=4)\n",
    "net_bg = RateNetwork(bg, c_II=J_bb, c_EI=J_cb, formulation=4)"
   ]
  },
  {
   "cell_type": "code",
   "execution_count": 4,
   "metadata": {
    "scrolled": true
   },
   "outputs": [
    {
     "name": "stderr",
     "output_type": "stream",
     "text": [
      "INFO:network:Integrating network dynamics\n",
      " 21%|████████                               | 208/999 [00:47<02:03,  6.42it/s]"
     ]
    },
    {
     "ename": "IndexError",
     "evalue": "list index out of range",
     "output_type": "error",
     "traceback": [
      "\u001b[0;31m---------------------------------------------------------------------------\u001b[0m",
      "\u001b[0;31mIndexError\u001b[0m                                Traceback (most recent call last)",
      "Cell \u001b[0;32mIn[4], line 9\u001b[0m\n\u001b[1;32m      6\u001b[0m mouse \u001b[38;5;241m=\u001b[39m ReachingTask(\u001b[38;5;241m3\u001b[39m, alpha\u001b[38;5;241m=\u001b[39m\u001b[38;5;241m0.5\u001b[39m)\n\u001b[1;32m      7\u001b[0m \u001b[38;5;66;03m# net_ctx.simulate_learning(mouse, net_bg, T, init_input_ctx, init_input_bg, \u001b[39;00m\n\u001b[1;32m      8\u001b[0m \u001b[38;5;66;03m#                           phi(patterns_ctx[0]), phi(patterns_bg[0]), plasticity, detection_thres=.23)\u001b[39;00m\n\u001b[0;32m----> 9\u001b[0m \u001b[43mnet_ctx\u001b[49m\u001b[38;5;241;43m.\u001b[39;49m\u001b[43msimulate_learning\u001b[49m\u001b[43m(\u001b[49m\u001b[43mmouse\u001b[49m\u001b[43m,\u001b[49m\u001b[43m \u001b[49m\u001b[43mnet_bg\u001b[49m\u001b[43m,\u001b[49m\u001b[43m \u001b[49m\u001b[43mT\u001b[49m\u001b[43m,\u001b[49m\u001b[43m \u001b[49m\u001b[43minit_input_ctx\u001b[49m\u001b[43m,\u001b[49m\u001b[43m \u001b[49m\u001b[43minit_input_bg\u001b[49m\u001b[43m,\u001b[49m\u001b[43m \u001b[49m\n\u001b[1;32m     10\u001b[0m \u001b[43m                          \u001b[49m\u001b[43mpatterns_ctx\u001b[49m\u001b[43m[\u001b[49m\u001b[38;5;241;43m0\u001b[39;49m\u001b[43m]\u001b[49m\u001b[43m,\u001b[49m\u001b[43m \u001b[49m\u001b[43mpatterns_bg\u001b[49m\u001b[43m[\u001b[49m\u001b[38;5;241;43m0\u001b[39;49m\u001b[43m]\u001b[49m\u001b[43m,\u001b[49m\u001b[43m \u001b[49m\u001b[43mplasticity\u001b[49m\u001b[43m,\u001b[49m\u001b[43m \u001b[49m\u001b[43mdetection_thres\u001b[49m\u001b[38;5;241;43m=\u001b[39;49m\u001b[38;5;241;43m.23\u001b[39;49m\u001b[43m)\u001b[49m\n",
      "File \u001b[0;32m~/Desktop/code/hebbian_sequence_learning/figures/article/1/../../../network/network.py:167\u001b[0m, in \u001b[0;36mRateNetwork.simulate_learning\u001b[0;34m(self, mouse, net2, t, r1, r2, patterns_ctx, patterns_bg, plasticity, lamb, t0, dt, r_ext, detection_thres)\u001b[0m\n\u001b[1;32m    165\u001b[0m \u001b[38;5;28;01mif\u001b[39;00m transition1: \n\u001b[1;32m    166\u001b[0m     mouse\u001b[38;5;241m.\u001b[39mbehaviors1[prev_idx1] \u001b[38;5;241m=\u001b[39m prev_action1\n\u001b[0;32m--> 167\u001b[0m     \u001b[38;5;28mprint\u001b[39m(mouse\u001b[38;5;241m.\u001b[39mget_action(mouse\u001b[38;5;241m.\u001b[39mbehaviors1[prev_idx1\u001b[38;5;241m-\u001b[39m\u001b[38;5;241m1\u001b[39m]) \u001b[38;5;241m+\u001b[39m \u001b[38;5;124m\"\u001b[39m\u001b[38;5;124m-->\u001b[39m\u001b[38;5;124m\"\u001b[39m \u001b[38;5;241m+\u001b[39m \u001b[43mmouse\u001b[49m\u001b[38;5;241;43m.\u001b[39;49m\u001b[43mget_action\u001b[49m\u001b[43m(\u001b[49m\u001b[43mmouse\u001b[49m\u001b[38;5;241;43m.\u001b[39;49m\u001b[43mbehaviors1\u001b[49m\u001b[43m[\u001b[49m\u001b[43mprev_idx1\u001b[49m\u001b[43m]\u001b[49m\u001b[43m)\u001b[49m)\n\u001b[1;32m    168\u001b[0m     mouse\u001b[38;5;241m.\u001b[39mw \u001b[38;5;241m=\u001b[39m mouse\u001b[38;5;241m.\u001b[39mwater(mouse\u001b[38;5;241m.\u001b[39mget_action(mouse\u001b[38;5;241m.\u001b[39mbehaviors1[prev_idx1\u001b[38;5;241m-\u001b[39m\u001b[38;5;241m1\u001b[39m]),\n\u001b[1;32m    169\u001b[0m                           mouse\u001b[38;5;241m.\u001b[39mget_action(mouse\u001b[38;5;241m.\u001b[39mbehaviors1[prev_idx1])) \n\u001b[1;32m    170\u001b[0m \u001b[38;5;28;01mif\u001b[39;00m transition2:\n",
      "File \u001b[0;32m~/Desktop/code/hebbian_sequence_learning/figures/article/1/../../../network/learning.py:25\u001b[0m, in \u001b[0;36mLearning.get_action\u001b[0;34m(self, s)\u001b[0m\n\u001b[1;32m     24\u001b[0m \u001b[38;5;28;01mdef\u001b[39;00m \u001b[38;5;21mget_action\u001b[39m(\u001b[38;5;28mself\u001b[39m, s):\n\u001b[0;32m---> 25\u001b[0m     \u001b[38;5;28;01mreturn\u001b[39;00m \u001b[38;5;28;43mself\u001b[39;49m\u001b[38;5;241;43m.\u001b[39;49m\u001b[43mactions\u001b[49m\u001b[43m[\u001b[49m\u001b[43ms\u001b[49m\u001b[43m]\u001b[49m\n",
      "\u001b[0;31mIndexError\u001b[0m: list index out of range"
     ]
    }
   ],
   "source": [
    "# init_input_ctx = np.random.RandomState().normal(0,1,size=patterns_ctx[0][0].shape)\n",
    "# init_input_bg = np.random.RandomState().normal(0,1,size=patterns_bg[0][0].shape)\n",
    "init_input_ctx = patterns_ctx[0][0]\n",
    "init_input_bg = patterns_bg[0][0]\n",
    "T=1\n",
    "mouse = ReachingTask(3, alpha=0.5)\n",
    "# net_ctx.simulate_learning(mouse, net_bg, T, init_input_ctx, init_input_bg, \n",
    "#                           phi(patterns_ctx[0]), phi(patterns_bg[0]), plasticity, detection_thres=.23)\n",
    "net_ctx.simulate_learning(mouse, net_bg, T, init_input_ctx, init_input_bg, \n",
    "                          patterns_ctx[0], patterns_bg[0], plasticity, detection_thres=.23)"
   ]
  },
  {
   "cell_type": "code",
   "execution_count": null,
   "metadata": {},
   "outputs": [],
   "source": [
    "overlaps_ctx = sequences_ctx[0].overlaps(net_ctx, ctx, phi=phi)\n",
    "# correlations_ctx = sequences_ctx[0].overlaps(net_ctx, ctx, phi=phi, correlation=True)\n",
    "overlaps_bg = sequences_bg[0].overlaps(net_bg, bg, phi=phi)\n",
    "# correlations_bg = sequences_bg[0].overlaps(net_bg, bg, phi=phi, correlation=True)"
   ]
  },
  {
   "cell_type": "code",
   "execution_count": null,
   "metadata": {},
   "outputs": [],
   "source": [
    "sns.set_style('dark') \n",
    "plt.rcParams[\"font.family\"] = \"Trebuchet MS\"\n",
    "colors = sns.color_palette('deep')"
   ]
  },
  {
   "cell_type": "code",
   "execution_count": null,
   "metadata": {},
   "outputs": [],
   "source": [
    "fig, axes = plt.subplots(2,1, sharex=True, sharey=True, tight_layout=True, figsize=(20,13))\n",
    "axes[0].plot(overlaps_ctx[0], linestyle='solid', linewidth=4, color=colors[8])\n",
    "axes[0].plot(overlaps_ctx[1], linestyle='dashed', linewidth=4, color=colors[0])\n",
    "axes[0].plot(overlaps_ctx[2], linestyle='dotted', linewidth=4, color=colors[3])\n",
    "axes[0].set_yticks([0.0, 0.1, 0.2, 0.3, 0.4])\n",
    "axes[0].set_title(\"CTX\", fontsize=25)\n",
    "axes[1].plot(overlaps_bg[0], linestyle='solid', linewidth=4, color=colors[8])\n",
    "axes[1].plot(overlaps_bg[1], linestyle='dashed', linewidth=4, color=colors[0])\n",
    "axes[1].plot(overlaps_bg[2], linestyle='dotted', linewidth=4, color=colors[3])\n",
    "axes[1].set_yticks([0.0, 0.1, 0.2, 0.3, 0.4])\n",
    "axes[1].set_title(\"BG\", fontsize=25)\n",
    "axes[1].set_xlabel('Time (ms)', fontsize=20)\n",
    "fig.text(-0.01, 0.5, 'Overlap', va='center', rotation='vertical', fontsize=20)\n",
    "plt.setp(axes, xlim=(0, 40000))\n",
    "plt.figlegend(labels=['Aim', 'Reach', 'Lick'], fontsize=20)\n",
    "plt.show()\n",
    "\n"
   ]
  },
  {
   "cell_type": "raw",
   "metadata": {},
   "source": [
    "np.savez('./output/learning-0005-1600-5-v1.npz', \n",
    "         overlaps_ctx=overlaps_ctx, overlaps_bg=overlaps_bg, \n",
    "         correlations_ctx=correlations_ctx, correlations_bg=correlations_bg, \n",
    "         state_ctx=net_ctx.exc.state, state_bg=net_bg.exc.state)"
   ]
  }
 ],
 "metadata": {
  "kernelspec": {
   "display_name": "Python 3 (ipykernel)",
   "language": "python",
   "name": "python3"
  },
  "language_info": {
   "codemirror_mode": {
    "name": "ipython",
    "version": 3
   },
   "file_extension": ".py",
   "mimetype": "text/x-python",
   "name": "python",
   "nbconvert_exporter": "python",
   "pygments_lexer": "ipython3",
   "version": "3.8.13"
  }
 },
 "nbformat": 4,
 "nbformat_minor": 4
}
