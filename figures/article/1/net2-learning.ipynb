{
 "cells": [
  {
   "cell_type": "code",
   "execution_count": 1,
   "metadata": {},
   "outputs": [],
   "source": [
    "import sys\n",
    "sys.path.insert(0, '../../../network')"
   ]
  },
  {
   "cell_type": "code",
   "execution_count": 2,
   "metadata": {},
   "outputs": [],
   "source": [
    "import logging\n",
    "import argparse\n",
    "import numpy as np\n",
    "from network import Population, RateNetwork\n",
    "from learning import ReachingTask\n",
    "from transfer_functions import ErrorFunction\n",
    "from connectivity import SparseConnectivity, LinearSynapse, ThresholdPlasticityRule\n",
    "from sequences import GaussianSequence\n",
    "import matplotlib.pyplot as plt\n",
    "# np.set_printoptions(threshold=sys.maxsize)\n",
    "logging.basicConfig(level=logging.INFO)"
   ]
  },
  {
   "cell_type": "code",
   "execution_count": 3,
   "metadata": {},
   "outputs": [
    {
     "name": "stderr",
     "output_type": "stream",
     "text": [
      "INFO:connectivity:Building connections from ctx to ctx\n",
      "INFO:connectivity:Storing attractors\n",
      "100%|█████████████████████████████████████| 3000/3000 [00:01<00:00, 1788.71it/s]\n",
      "INFO:connectivity:Building connections from bg to bg\n",
      "INFO:connectivity:Storing attractors\n",
      "100%|█████████████████████████████████████| 3000/3000 [00:01<00:00, 1824.53it/s]\n",
      "INFO:connectivity:Building connections from bg to ctx\n",
      "INFO:connectivity:Storing attractors\n",
      "100%|█████████████████████████████████████| 3000/3000 [00:01<00:00, 1812.25it/s]\n",
      "INFO:connectivity:Building connections from ctx to bg\n",
      "INFO:connectivity:Storing sequences\n",
      "  0%|                                                     | 0/1 [00:00<?, ?it/s]\n",
      "  0%|                                                  | 0/3000 [00:00<?, ?it/s]\u001b[A\n",
      "  4%|█▎                                    | 108/3000 [00:00<00:02, 1074.52it/s]\u001b[A\n",
      "  8%|███▏                                  | 250/3000 [00:00<00:02, 1276.08it/s]\u001b[A\n",
      " 14%|█████▍                                | 427/3000 [00:00<00:01, 1500.82it/s]\u001b[A\n",
      " 20%|███████▋                              | 604/3000 [00:00<00:01, 1606.66it/s]\u001b[A\n",
      " 26%|█████████▉                            | 783/3000 [00:00<00:01, 1672.15it/s]\u001b[A\n",
      " 32%|████████████▏                         | 961/3000 [00:00<00:01, 1707.00it/s]\u001b[A\n",
      " 38%|██████████████                       | 1139/3000 [00:00<00:01, 1729.04it/s]\u001b[A\n",
      " 44%|████████████████▏                    | 1317/3000 [00:00<00:00, 1743.49it/s]\u001b[A\n",
      " 50%|██████████████████▍                  | 1494/3000 [00:00<00:00, 1749.05it/s]\u001b[A\n",
      " 56%|████████████████████▌                | 1669/3000 [00:01<00:00, 1748.43it/s]\u001b[A\n",
      " 62%|██████████████████████▊              | 1845/3000 [00:01<00:00, 1750.18it/s]\u001b[A\n",
      " 67%|████████████████████████▉            | 2022/3000 [00:01<00:00, 1755.82it/s]\u001b[A\n",
      " 73%|███████████████████████████          | 2199/3000 [00:01<00:00, 1758.05it/s]\u001b[A\n",
      " 79%|█████████████████████████████▎       | 2375/3000 [00:01<00:00, 1756.57it/s]\u001b[A\n",
      " 85%|███████████████████████████████▌     | 2555/3000 [00:01<00:00, 1767.21it/s]\u001b[A\n",
      " 91%|█████████████████████████████████▋   | 2732/3000 [00:01<00:00, 1727.25it/s]\u001b[A\n",
      "100%|█████████████████████████████████████| 3000/3000 [00:01<00:00, 1687.42it/s]\u001b[A\n",
      "100%|█████████████████████████████████████████████| 1/1 [00:01<00:00,  1.79s/it]\n",
      "INFO:connectivity:Applying synaptic transfer function\n",
      "INFO:connectivity:Building sparse matrix\n"
     ]
    }
   ],
   "source": [
    "phi = ErrorFunction(mu=0.22, sigma=0.1).phi\n",
    "ctx = Population(N=3000, tau=1e-2, phi=phi, name='ctx')\n",
    "bg = Population(N=3000, tau=1e-2, phi=phi, name='bg')\n",
    "plasticity = ThresholdPlasticityRule(x_f=0.5, q_f=0.8) \n",
    "\n",
    "S, P = 1, 4\n",
    "sequences_ctx = [GaussianSequence(P,ctx.size, seed=11) for i in range(S)]\n",
    "patterns_ctx = np.stack([s.inputs for s in sequences_ctx])\n",
    "sequences_bg = [GaussianSequence(P,ctx.size, seed=367) for i in range(S)]\n",
    "patterns_bg = np.stack([s.inputs for s in sequences_bg])\n",
    "\n",
    "J_cc = SparseConnectivity(source=ctx, target=ctx, p=0.5)\n",
    "synapse_cc = LinearSynapse(J_cc.K, A=6)\n",
    "J_cc.store_attractors(patterns_ctx[0], patterns_ctx[0], synapse_cc.h_EE, plasticity.f, plasticity.g)\n",
    "J_bb = SparseConnectivity(source=bg, target=bg, p=0.5)\n",
    "synapse_bb = LinearSynapse(J_bb.K, A=6)\n",
    "J_bb.store_attractors(patterns_bg[0], patterns_bg[0], synapse_bb.h_EE, plasticity.f, plasticity.g)\n",
    "J_cb  = SparseConnectivity(source=bg, target=ctx, p=0.5)\n",
    "synapse_cb = LinearSynapse(J_cb.K, A=5.5)\n",
    "J_cb.store_attractors(patterns_bg[0], patterns_ctx[0], synapse_cb.h_EE, plasticity.f, plasticity.g)\n",
    "\n",
    "J_bc = SparseConnectivity(source=ctx, target=bg, p=0.5)\n",
    "synapse_bc = LinearSynapse(J_bc.K, A=0)\n",
    "J_bc.store_sequences(patterns_ctx, patterns_bg, synapse_bc.h_EE, plasticity.f, plasticity.g)\n",
    "\n",
    "net_ctx = RateNetwork(ctx, c_EE=J_cc, c_IE=J_bc, formulation=4, disable_pbar=False)\n",
    "net_bg = RateNetwork(bg, c_II=J_bb, c_EI=J_cb, formulation=4)"
   ]
  },
  {
   "cell_type": "raw",
   "metadata": {},
   "source": [
    "for k in range(3):\n",
    "    print(\"updating\")\n",
    "    J_bc.update_sequences(patterns_ctx[0][k], patterns_bg[0][k+1],\n",
    "                       5.5, lamb=1,f=plasticity.f, g=plasticity.g)\n",
    "    net_ctx = RateNetwork(ctx, c_EE=J_cc, c_IE=J_bc, formulation=4, disable_pbar=True)\n",
    "    \n",
    "J_bc.update_sequences(patterns_ctx[0][3], patterns_bg[0][0],\n",
    "                       5.5, lamb=1,f=plasticity.f, g=plasticity.g)\n",
    "net_ctx = RateNetwork(ctx, c_EE=J_cc, c_IE=J_bc, formulation=4, disable_pbar=True)"
   ]
  },
  {
   "cell_type": "code",
   "execution_count": null,
   "metadata": {},
   "outputs": [
    {
     "name": "stderr",
     "output_type": "stream",
     "text": [
      "INFO:network:Integrating network dynamics\n",
      "  0%|                                                  | 0/2999 [00:00<?, ?it/s]"
     ]
    },
    {
     "name": "stdout",
     "output_type": "stream",
     "text": [
      "updating\n",
      "updating\n",
      "updating\n"
     ]
    },
    {
     "name": "stderr",
     "output_type": "stream",
     "text": [
      "  2%|▊                                        | 58/2999 [01:23<33:10,  1.48it/s]"
     ]
    }
   ],
   "source": [
    "init_input_ctx = np.random.RandomState().normal(0,1,size=patterns_ctx[0][0].shape)\n",
    "init_input_bg = np.random.RandomState().normal(0,1,size=patterns_bg[0][0].shape)\n",
    "# init_input_ctx = patterns_ctx[0][2]\n",
    "# init_input_bg = patterns_bg[0][2]\n",
    "T=3\n",
    "mouse = ReachingTask(2, alpha=0.2)\n",
    "behaviors = net_ctx.simulate_learning(mouse, net_bg, T, init_input_ctx, init_input_bg, patterns_ctx[0], patterns_bg[0], plasticity, noise=20)"
   ]
  },
  {
   "cell_type": "code",
   "execution_count": null,
   "metadata": {},
   "outputs": [],
   "source": [
    "init_input_ctx = np.random.RandomState().normal(0,1,size=patterns_ctx[0][0].shape)\n",
    "init_input_bg = np.random.RandomState().normal(0,1,size=patterns_bg[0][0].shape)\n",
    "T=10\n",
    "net_ctx.simulate_euler2(net_bg, T, init_input_ctx, init_input_bg, noise=10)"
   ]
  },
  {
   "cell_type": "code",
   "execution_count": null,
   "metadata": {},
   "outputs": [],
   "source": [
    "overlaps = sequences_ctx[0].overlaps(net_ctx, ctx, phi=phi)\n",
    "correlations = sequences_ctx[0].overlaps(net_ctx, ctx, phi=phi, correlation=True)"
   ]
  },
  {
   "cell_type": "code",
   "execution_count": null,
   "metadata": {},
   "outputs": [],
   "source": [
    "for i, row in enumerate(correlations):\n",
    "    plt.plot(row, label=str(i))\n",
    "    plt.xlim(25000, 35000)\n",
    "plt.legend()"
   ]
  },
  {
   "cell_type": "raw",
   "metadata": {},
   "source": [
    "np.save('/Users/stanleypark/Desktop/code/hebbian_sequence_learning/figures/article/1/output/behaviors.npy', \n",
    "       behaviors)"
   ]
  },
  {
   "cell_type": "code",
   "execution_count": null,
   "metadata": {},
   "outputs": [],
   "source": [
    "net_ctx.W.toarray().shape\n"
   ]
  }
 ],
 "metadata": {
  "kernelspec": {
   "display_name": "Python 3 (ipykernel)",
   "language": "python",
   "name": "python3"
  },
  "language_info": {
   "codemirror_mode": {
    "name": "ipython",
    "version": 3
   },
   "file_extension": ".py",
   "mimetype": "text/x-python",
   "name": "python",
   "nbconvert_exporter": "python",
   "pygments_lexer": "ipython3",
   "version": "3.8.13"
  }
 },
 "nbformat": 4,
 "nbformat_minor": 4
}
