{
 "cells": [
  {
   "cell_type": "code",
   "execution_count": 1,
   "metadata": {},
   "outputs": [],
   "source": [
    "import sys\n",
    "sys.path.insert(0, '../../../network')"
   ]
  },
  {
   "cell_type": "code",
   "execution_count": 2,
   "metadata": {},
   "outputs": [],
   "source": [
    "import logging\n",
    "import argparse\n",
    "import numpy as np\n",
    "from network import Population, RateNetwork\n",
    "from learning import ReachingTask\n",
    "from transfer_functions import ErrorFunction\n",
    "from connectivity import SparseConnectivity, LinearSynapse, ThresholdPlasticityRule\n",
    "from sequences import GaussianSequence\n",
    "import matplotlib.pyplot as plt\n",
    "# np.set_printoptions(threshold=sys.maxsize)\n",
    "logging.basicConfig(level=logging.INFO)"
   ]
  },
  {
   "cell_type": "code",
   "execution_count": 3,
   "metadata": {},
   "outputs": [
    {
     "name": "stderr",
     "output_type": "stream",
     "text": [
      "INFO:connectivity:Building connections from ctx to ctx\n",
      "INFO:connectivity:Storing attractors\n",
      "100%|█████████████████████████████████████| 3000/3000 [00:00<00:00, 3473.25it/s]\n",
      "INFO:connectivity:Building connections from bg to bg\n",
      "INFO:connectivity:Storing attractors\n",
      "100%|█████████████████████████████████████| 3000/3000 [00:00<00:00, 3518.24it/s]\n",
      "INFO:connectivity:Building connections from bg to ctx\n",
      "INFO:connectivity:Storing attractors\n",
      "100%|█████████████████████████████████████| 3000/3000 [00:00<00:00, 3430.86it/s]\n",
      "INFO:connectivity:Building connections from ctx to bg\n",
      "INFO:connectivity:Storing sequences\n",
      "  0%|                                                     | 0/1 [00:00<?, ?it/s]\n",
      "  0%|                                                  | 0/3000 [00:00<?, ?it/s]\u001b[A\n",
      "  9%|███▎                                  | 259/3000 [00:00<00:01, 2583.34it/s]\u001b[A\n",
      " 20%|███████▋                              | 611/3000 [00:00<00:00, 3133.47it/s]\u001b[A\n",
      " 32%|████████████▏                         | 966/3000 [00:00<00:00, 3321.82it/s]\u001b[A\n",
      " 43%|████████████████                     | 1304/3000 [00:00<00:00, 3344.00it/s]\u001b[A\n",
      " 55%|████████████████████▏                | 1639/3000 [00:00<00:00, 2928.79it/s]\u001b[A\n",
      " 66%|████████████████████████▍            | 1978/3000 [00:00<00:00, 3069.69it/s]\u001b[A\n",
      " 77%|████████████████████████████▋        | 2321/3000 [00:00<00:00, 3179.57it/s]\u001b[A\n",
      "100%|█████████████████████████████████████| 3000/3000 [00:00<00:00, 3197.14it/s]\u001b[A\n",
      "100%|█████████████████████████████████████████████| 1/1 [00:00<00:00,  1.06it/s]\n",
      "INFO:connectivity:Applying synaptic transfer function\n",
      "INFO:connectivity:Building sparse matrix\n"
     ]
    }
   ],
   "source": [
    "phi = ErrorFunction(mu=0.22, sigma=0.1).phi\n",
    "ctx = Population(N=3000, tau=1e-2, phi=phi, name='ctx')\n",
    "bg = Population(N=3000, tau=1e-2, phi=phi, name='bg')\n",
    "plasticity = ThresholdPlasticityRule(x_f=0.5, q_f=0.8) \n",
    "\n",
    "S, P = 1, 4\n",
    "sequences_ctx = [GaussianSequence(P,ctx.size, seed=11) for i in range(S)]\n",
    "patterns_ctx = np.stack([s.inputs for s in sequences_ctx])\n",
    "sequences_bg = [GaussianSequence(P,ctx.size, seed=367) for i in range(S)]\n",
    "patterns_bg = np.stack([s.inputs for s in sequences_bg])\n",
    "\n",
    "J_cc = SparseConnectivity(source=ctx, target=ctx, p=0.5)\n",
    "synapse_cc = LinearSynapse(J_cc.K, A=6)\n",
    "J_cc.store_attractors(patterns_ctx[0], patterns_ctx[0], synapse_cc.h_EE, plasticity.f, plasticity.g)\n",
    "J_bb = SparseConnectivity(source=bg, target=bg, p=0.5)\n",
    "synapse_bb = LinearSynapse(J_bb.K, A=6)\n",
    "J_bb.store_attractors(patterns_bg[0], patterns_bg[0], synapse_bb.h_EE, plasticity.f, plasticity.g)\n",
    "J_cb  = SparseConnectivity(source=bg, target=ctx, p=0.5)\n",
    "synapse_cb = LinearSynapse(J_cb.K, A=5.5)\n",
    "J_cb.store_attractors(patterns_bg[0], patterns_ctx[0], synapse_cb.h_EE, plasticity.f, plasticity.g)\n",
    "\n",
    "J_bc = SparseConnectivity(source=ctx, target=bg, p=0.5)\n",
    "synapse_bc = LinearSynapse(J_bc.K, A=0)\n",
    "J_bc.store_sequences(patterns_ctx, patterns_bg, synapse_bc.h_EE, plasticity.f, plasticity.g)\n",
    "\n",
    "net_ctx = RateNetwork(ctx, c_EE=J_cc, c_IE=J_bc, formulation=4, disable_pbar=True)\n",
    "net_bg = RateNetwork(bg, c_II=J_bb, c_EI=J_cb, formulation=4)"
   ]
  },
  {
   "cell_type": "raw",
   "metadata": {},
   "source": [
    "for k in range(3):\n",
    "    print(\"updating\")\n",
    "    J_bc.update_sequences(patterns_ctx[0][k], patterns_bg[0][k+1],\n",
    "                       5.5, lamb=1,f=plasticity.f, g=plasticity.g)\n",
    "    net_ctx = RateNetwork(ctx, c_EE=J_cc, c_IE=J_bc, formulation=4, disable_pbar=True)\n",
    "    \n",
    "J_bc.update_sequences(patterns_ctx[0][3], patterns_bg[0][0],\n",
    "                       5.5, lamb=1,f=plasticity.f, g=plasticity.g)\n",
    "net_ctx = RateNetwork(ctx, c_EE=J_cc, c_IE=J_bc, formulation=4, disable_pbar=True)"
   ]
  },
  {
   "cell_type": "code",
   "execution_count": null,
   "metadata": {},
   "outputs": [
    {
     "name": "stderr",
     "output_type": "stream",
     "text": [
      "INFO:network:Integrating network dynamics\n"
     ]
    },
    {
     "name": "stdout",
     "output_type": "stream",
     "text": [
      "updating\n"
     ]
    },
    {
     "name": "stderr",
     "output_type": "stream",
     "text": [
      "/Users/stanleypark/.pyenv/versions/3.8.13/lib/python3.8/site-packages/scipy/sparse/_index.py:137: SparseEfficiencyWarning: Changing the sparsity structure of a csr_matrix is expensive. lil_matrix is more efficient.\n",
      "  self._set_arrayXarray_sparse(i, j, x)\n"
     ]
    },
    {
     "name": "stdout",
     "output_type": "stream",
     "text": [
      "updating\n",
      "updating\n",
      "lick-->back out 0 0\n",
      "back-->aim out 0 0\n",
      "aim-->reach in 0 0\n",
      "reach-->lick in 1 0.199998\n",
      "lick-->aim in 0 0.019976400000000005\n",
      "aim-->reach in 0 0.03596164000000001\n",
      "reach-->lick in 1 0.36359640000000004\n",
      "lick-->back in 0 0.035976400000000006\n",
      "back-->aim out 0 0.006435160000000001\n",
      "aim-->reach in 0 0.09419495200000003\n",
      "reach-->lick in 1 0.497350872\n",
      "lick-->back in 0 0.0499194488\n",
      "back-->aim out 0 0.022081219360000008\n",
      "aim-->reach in 0 0.16485711856000004\n",
      "reach-->lick in 1 0.6068641983840001\n",
      "lick-->back in 0 0.0638901785248\n",
      "back-->aim out 0 0.047317256828800024\n",
      "aim-->reach in 0 0.13479157836448005\n",
      "reach-->back in 1 0.012990815628800006\n",
      "back-->reach out 1 0\n",
      "reach-->lick out 0 0\n",
      "lick-->back out 0 0\n",
      "back-->aim out 0 0.06170626071744642\n",
      "aim-->reach in 0 0.11014960950476803\n",
      "reach-->back in 1 0.010370292503040003\n",
      "back-->aim out 1 0.01870772650547201\n",
      "aim-->reach in 0 0.19140914486750724\n",
      "reach-->lick in 1 0.692301809215296\n"
     ]
    }
   ],
   "source": [
    "init_input_ctx = np.random.RandomState().normal(0,1,size=patterns_ctx[0][0].shape)\n",
    "init_input_bg = np.random.RandomState().normal(0,1,size=patterns_bg[0][0].shape)\n",
    "# init_input_ctx = patterns_ctx[0][2]\n",
    "# init_input_bg = patterns_bg[0][2]\n",
    "T=50\n",
    "mouse = ReachingTask(2, alpha=0.2)\n",
    "behaviors = net_ctx.simulate_learning(mouse, net_bg, T, init_input_ctx, init_input_bg, patterns_ctx[0], patterns_bg[0], plasticity, noise=20)"
   ]
  },
  {
   "cell_type": "code",
   "execution_count": null,
   "metadata": {},
   "outputs": [],
   "source": [
    "init_input_ctx = np.random.RandomState().normal(0,1,size=patterns_ctx[0][0].shape)\n",
    "init_input_bg = np.random.RandomState().normal(0,1,size=patterns_bg[0][0].shape)\n",
    "T=10\n",
    "net_ctx.simulate_euler2(net_bg, T, init_input_ctx, init_input_bg, noise=10)"
   ]
  },
  {
   "cell_type": "code",
   "execution_count": null,
   "metadata": {},
   "outputs": [],
   "source": [
    "overlaps = sequences_ctx[0].overlaps(net_ctx, ctx, phi=phi)\n",
    "correlations = sequences_ctx[0].overlaps(net_ctx, ctx, phi=phi, correlation=True)"
   ]
  },
  {
   "cell_type": "code",
   "execution_count": null,
   "metadata": {},
   "outputs": [],
   "source": [
    "for i, row in enumerate(correlations):\n",
    "    plt.plot(row, label=str(i))\n",
    "    plt.xlim(25000, 35000)\n",
    "plt.legend()"
   ]
  },
  {
   "cell_type": "raw",
   "metadata": {},
   "source": [
    "np.save('/Users/stanleypark/Desktop/code/hebbian_sequence_learning/figures/article/1/output/behaviors.npy', \n",
    "       behaviors)"
   ]
  },
  {
   "cell_type": "code",
   "execution_count": null,
   "metadata": {},
   "outputs": [],
   "source": [
    "net_ctx.W.toarray().shape\n"
   ]
  }
 ],
 "metadata": {
  "kernelspec": {
   "display_name": "Python 3 (ipykernel)",
   "language": "python",
   "name": "python3"
  },
  "language_info": {
   "codemirror_mode": {
    "name": "ipython",
    "version": 3
   },
   "file_extension": ".py",
   "mimetype": "text/x-python",
   "name": "python",
   "nbconvert_exporter": "python",
   "pygments_lexer": "ipython3",
   "version": "3.8.13"
  }
 },
 "nbformat": 4,
 "nbformat_minor": 4
}
