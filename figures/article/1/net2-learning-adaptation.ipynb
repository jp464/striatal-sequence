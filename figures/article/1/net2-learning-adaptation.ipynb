{
 "cells": [
  {
   "cell_type": "code",
   "execution_count": 1,
   "metadata": {},
   "outputs": [],
   "source": [
    "import sys\n",
    "sys.path.insert(0, '../../../network')"
   ]
  },
  {
   "cell_type": "code",
   "execution_count": 2,
   "metadata": {},
   "outputs": [],
   "source": [
    "import logging\n",
    "import argparse\n",
    "import numpy as np\n",
    "from network import Population, RateNetwork\n",
    "from learning import ReachingTask\n",
    "from transfer_functions import ErrorFunction\n",
    "from connectivity import SparseConnectivity, LinearSynapse, ThresholdPlasticityRule, set_connectivity \n",
    "from sequences import GaussianSequence\n",
    "import matplotlib.pyplot as plt\n",
    "import seaborn as sns\n",
    "logging.basicConfig(level=logging.INFO)"
   ]
  },
  {
   "cell_type": "code",
   "execution_count": 3,
   "metadata": {},
   "outputs": [],
   "source": [
    "params = np.load(\"./params.npz\", allow_pickle=True) \n",
    "N, sequences, patterns, cp, cw, A, plasticity_rule = params['N'], params['sequences'], params['patterns'], params['cp'], params['cw'], params['A'], params['plasticity_rule']"
   ]
  },
  {
   "cell_type": "code",
   "execution_count": 4,
   "metadata": {},
   "outputs": [
    {
     "name": "stderr",
     "output_type": "stream",
     "text": [
      "INFO:connectivity:Building connections from ctx to ctx\n",
      "INFO:connectivity:Building connections from ctx to d1\n",
      "INFO:connectivity:Building connections from ctx to d2\n",
      "INFO:connectivity:Building connections from d1 to ctx\n",
      "INFO:connectivity:Building connections from d1 to d1\n",
      "INFO:connectivity:Building connections from d1 to d2\n",
      "INFO:connectivity:Building connections from d2 to ctx\n",
      "INFO:connectivity:Building connections from d2 to d1\n",
      "INFO:connectivity:Building connections from d2 to d2\n"
     ]
    }
   ],
   "source": [
    "phi = ErrorFunction(mu=0.22, sigma=0.1).phi\n",
    "plasticity = ThresholdPlasticityRule(x_f=0.5, q_f=0.8)\n",
    "\n",
    "# populations\n",
    "ctx = Population(N=N[0], tau=1e-2, phi=phi, name='ctx')\n",
    "d1 = Population(N=N[1], tau=1e-2, phi=phi, name='d1')\n",
    "d2 = Population(N=N[2], tau=1e-2, phi=phi, name='d2')\n",
    "\n",
    "J = set_connectivity([ctx, d1, d2], cp, cw, A, plasticity_rule, patterns, plasticity)\n",
    "network = RateNetwork([ctx, d1, d2], J, formulation=4, disable_pbar=False)"
   ]
  },
  {
   "cell_type": "code",
   "execution_count": null,
   "metadata": {},
   "outputs": [
    {
     "name": "stderr",
     "output_type": "stream",
     "text": [
      "INFO:network:Integrating network dynamics\n",
      "  0%|          | 84/499999 [00:03<3:13:25, 43.08it/s] "
     ]
    },
    {
     "name": "stdout",
     "output_type": "stream",
     "text": [
      "lick-->lick\n",
      "lick-->aim\n",
      "None 0\n"
     ]
    },
    {
     "name": "stderr",
     "output_type": "stream",
     "text": [
      "  0%|          | 112/499999 [00:03<2:48:22, 49.48it/s]"
     ]
    },
    {
     "name": "stdout",
     "output_type": "stream",
     "text": [
      "[-1, 0] 16\n"
     ]
    },
    {
     "name": "stderr",
     "output_type": "stream",
     "text": [
      "  0%|          | 253/499999 [00:09<5:06:24, 27.18it/s]"
     ]
    },
    {
     "name": "stdout",
     "output_type": "stream",
     "text": [
      "[2, 0] 129\n"
     ]
    },
    {
     "name": "stderr",
     "output_type": "stream",
     "text": [
      "  0%|          | 268/499999 [00:09<5:07:00, 27.13it/s]"
     ]
    },
    {
     "name": "stdout",
     "output_type": "stream",
     "text": [
      "[2, -1] 14\n"
     ]
    },
    {
     "name": "stderr",
     "output_type": "stream",
     "text": [
      "  0%|          | 277/499999 [00:09<5:05:24, 27.27it/s]"
     ]
    },
    {
     "name": "stdout",
     "output_type": "stream",
     "text": [
      "[-1, -1] 8\n",
      "[0, -1] 4\n"
     ]
    },
    {
     "name": "stderr",
     "output_type": "stream",
     "text": [
      "  0%|          | 283/499999 [00:10<5:03:45, 27.42it/s]"
     ]
    },
    {
     "name": "stdout",
     "output_type": "stream",
     "text": [
      "aim-->reach\n"
     ]
    },
    {
     "name": "stderr",
     "output_type": "stream",
     "text": [
      "  0%|          | 739/499999 [00:26<5:04:52, 27.29it/s]"
     ]
    },
    {
     "name": "stdout",
     "output_type": "stream",
     "text": [
      "[0, 1] 455\n",
      "[0, -1] 2\n"
     ]
    },
    {
     "name": "stderr",
     "output_type": "stream",
     "text": [
      "  0%|          | 763/499999 [00:27<5:04:42, 27.31it/s]"
     ]
    },
    {
     "name": "stdout",
     "output_type": "stream",
     "text": [
      "[-1, -1] 22\n",
      "[1, -1] 1\n",
      "reach-->lick\n"
     ]
    },
    {
     "name": "stderr",
     "output_type": "stream",
     "text": [
      "  0%|          | 943/499999 [00:34<5:07:28, 27.05it/s]"
     ]
    },
    {
     "name": "stdout",
     "output_type": "stream",
     "text": [
      "[1, 2] 176\n",
      "[1, -1] 0\n",
      "lick-->lick\n"
     ]
    },
    {
     "name": "stderr",
     "output_type": "stream",
     "text": [
      "  0%|          | 952/499999 [00:34<5:06:43, 27.12it/s]"
     ]
    },
    {
     "name": "stdout",
     "output_type": "stream",
     "text": [
      "[1, 2] 6\n",
      "[1, -1] 0\n",
      "lick-->lick\n",
      "[1, 2] 3\n"
     ]
    },
    {
     "name": "stderr",
     "output_type": "stream",
     "text": [
      "  0%|          | 976/499999 [00:35<5:08:05, 27.00it/s]"
     ]
    },
    {
     "name": "stdout",
     "output_type": "stream",
     "text": [
      "[1, -1] 20\n",
      "[-1, -1] 0\n",
      "lick-->aim\n"
     ]
    },
    {
     "name": "stderr",
     "output_type": "stream",
     "text": [
      "  0%|          | 988/499999 [00:36<5:07:49, 27.02it/s]"
     ]
    },
    {
     "name": "stdout",
     "output_type": "stream",
     "text": [
      "[-1, 0] 8\n"
     ]
    },
    {
     "name": "stderr",
     "output_type": "stream",
     "text": [
      "  0%|          | 1321/499999 [00:48<5:12:03, 26.63it/s]"
     ]
    },
    {
     "name": "stdout",
     "output_type": "stream",
     "text": [
      "[2, 0] 334\n",
      "[2, -1] 0\n",
      "[2, 0] 0\n",
      "aim-->aim\n",
      "[2, -1] 1\n"
     ]
    },
    {
     "name": "stderr",
     "output_type": "stream",
     "text": [
      "  0%|          | 1336/499999 [00:48<5:08:25, 26.95it/s]"
     ]
    },
    {
     "name": "stdout",
     "output_type": "stream",
     "text": [
      "[-1, -1] 10\n"
     ]
    },
    {
     "name": "stderr",
     "output_type": "stream",
     "text": [
      "  0%|          | 1354/499999 [00:49<5:08:17, 26.96it/s]"
     ]
    },
    {
     "name": "stdout",
     "output_type": "stream",
     "text": [
      "[0, -1] 16\n",
      "aim-->reach\n"
     ]
    },
    {
     "name": "stderr",
     "output_type": "stream",
     "text": [
      "  0%|          | 1804/499999 [01:06<5:03:26, 27.36it/s]"
     ]
    },
    {
     "name": "stdout",
     "output_type": "stream",
     "text": [
      "[0, 1] 449\n",
      "[0, -1] 2\n"
     ]
    },
    {
     "name": "stderr",
     "output_type": "stream",
     "text": [
      "  0%|          | 1816/499999 [01:06<5:02:24, 27.46it/s]"
     ]
    },
    {
     "name": "stdout",
     "output_type": "stream",
     "text": [
      "[-1, -1] 8\n"
     ]
    },
    {
     "name": "stderr",
     "output_type": "stream",
     "text": [
      "  0%|          | 1828/499999 [01:07<5:03:30, 27.36it/s]"
     ]
    },
    {
     "name": "stdout",
     "output_type": "stream",
     "text": [
      "[1, -1] 10\n",
      "reach-->lick\n"
     ]
    },
    {
     "name": "stderr",
     "output_type": "stream",
     "text": [
      "  0%|          | 1987/499999 [01:12<5:07:26, 27.00it/s]"
     ]
    },
    {
     "name": "stdout",
     "output_type": "stream",
     "text": [
      "[1, 2] 160\n"
     ]
    },
    {
     "name": "stderr",
     "output_type": "stream",
     "text": [
      "  0%|          | 1999/499999 [01:13<5:07:40, 26.98it/s]"
     ]
    },
    {
     "name": "stdout",
     "output_type": "stream",
     "text": [
      "[1, -1] 11\n"
     ]
    },
    {
     "name": "stderr",
     "output_type": "stream",
     "text": [
      "  0%|          | 2005/499999 [01:13<5:05:17, 27.19it/s]"
     ]
    },
    {
     "name": "stdout",
     "output_type": "stream",
     "text": [
      "[-1, -1] 5\n",
      "lick-->aim\n"
     ]
    },
    {
     "name": "stderr",
     "output_type": "stream",
     "text": [
      "  0%|          | 2014/499999 [01:13<5:05:13, 27.19it/s]"
     ]
    },
    {
     "name": "stdout",
     "output_type": "stream",
     "text": [
      "[-1, 0] 7\n"
     ]
    },
    {
     "name": "stderr",
     "output_type": "stream",
     "text": [
      "  0%|          | 2437/499999 [01:29<5:10:12, 26.73it/s]"
     ]
    },
    {
     "name": "stdout",
     "output_type": "stream",
     "text": [
      "[2, 0] 422\n"
     ]
    },
    {
     "name": "stderr",
     "output_type": "stream",
     "text": [
      "  0%|          | 2461/499999 [01:30<5:21:09, 25.82it/s]"
     ]
    },
    {
     "name": "stdout",
     "output_type": "stream",
     "text": [
      "[2, -1] 24\n",
      "[-1, -1] 0\n",
      "aim-->reach\n"
     ]
    },
    {
     "name": "stderr",
     "output_type": "stream",
     "text": [
      "  0%|          | 2479/499999 [01:31<5:15:41, 26.27it/s]"
     ]
    },
    {
     "name": "stdout",
     "output_type": "stream",
     "text": [
      "[-1, 1] 14\n"
     ]
    },
    {
     "name": "stderr",
     "output_type": "stream",
     "text": [
      "  1%|          | 2968/499999 [01:49<5:06:23, 27.04it/s]"
     ]
    },
    {
     "name": "stdout",
     "output_type": "stream",
     "text": [
      "[0, 1] 490\n"
     ]
    },
    {
     "name": "stderr",
     "output_type": "stream",
     "text": [
      "  1%|          | 2992/499999 [01:50<5:03:26, 27.30it/s]"
     ]
    },
    {
     "name": "stdout",
     "output_type": "stream",
     "text": [
      "[0, -1] 23\n",
      "[-1, -1] 3\n"
     ]
    },
    {
     "name": "stderr",
     "output_type": "stream",
     "text": [
      "  1%|          | 2998/499999 [01:50<5:03:27, 27.30it/s]"
     ]
    },
    {
     "name": "stdout",
     "output_type": "stream",
     "text": [
      "reach-->lick\n",
      "[-1, 2] 6\n"
     ]
    },
    {
     "name": "stderr",
     "output_type": "stream",
     "text": [
      "  1%|          | 3298/499999 [02:01<5:12:51, 26.46it/s]"
     ]
    },
    {
     "name": "stdout",
     "output_type": "stream",
     "text": [
      "Mouse received reward\n"
     ]
    },
    {
     "name": "stderr",
     "output_type": "stream",
     "text": [
      "  1%|          | 3334/499999 [02:02<5:05:35, 27.09it/s]"
     ]
    },
    {
     "name": "stdout",
     "output_type": "stream",
     "text": [
      "[1, 2] 328\n"
     ]
    },
    {
     "name": "stderr",
     "output_type": "stream",
     "text": [
      "  1%|          | 3355/499999 [02:03<5:05:44, 27.07it/s]"
     ]
    },
    {
     "name": "stdout",
     "output_type": "stream",
     "text": [
      "[1, -1] 20\n",
      "lick-->aim\n"
     ]
    },
    {
     "name": "stderr",
     "output_type": "stream",
     "text": [
      "  1%|          | 3364/499999 [02:03<5:05:52, 27.06it/s]"
     ]
    },
    {
     "name": "stdout",
     "output_type": "stream",
     "text": [
      "[-1, 0] 9\n"
     ]
    },
    {
     "name": "stderr",
     "output_type": "stream",
     "text": [
      "  1%|          | 3793/499999 [02:19<5:03:54, 27.21it/s]"
     ]
    },
    {
     "name": "stdout",
     "output_type": "stream",
     "text": [
      "[2, 0] 428\n"
     ]
    },
    {
     "name": "stderr",
     "output_type": "stream",
     "text": [
      "  1%|          | 3802/499999 [02:19<5:02:19, 27.35it/s]"
     ]
    },
    {
     "name": "stdout",
     "output_type": "stream",
     "text": [
      "[2, -1] 9\n"
     ]
    },
    {
     "name": "stderr",
     "output_type": "stream",
     "text": [
      "  1%|          | 3814/499999 [02:20<5:02:57, 27.30it/s]"
     ]
    },
    {
     "name": "stdout",
     "output_type": "stream",
     "text": [
      "[-1, -1] 11\n",
      "[0, -1] 1\n",
      "aim-->reach\n"
     ]
    },
    {
     "name": "stderr",
     "output_type": "stream",
     "text": [
      "  1%|          | 4312/499999 [02:38<5:04:13, 27.16it/s]"
     ]
    },
    {
     "name": "stdout",
     "output_type": "stream",
     "text": [
      "[0, 1] 493\n"
     ]
    },
    {
     "name": "stderr",
     "output_type": "stream",
     "text": [
      "  1%|          | 4318/499999 [02:38<5:10:12, 26.63it/s]"
     ]
    },
    {
     "name": "stdout",
     "output_type": "stream",
     "text": [
      "[0, -1] 5\n"
     ]
    },
    {
     "name": "stderr",
     "output_type": "stream",
     "text": [
      "  1%|          | 4339/499999 [02:39<5:07:41, 26.85it/s]"
     ]
    },
    {
     "name": "stdout",
     "output_type": "stream",
     "text": [
      "[-1, -1] 21\n",
      "[1, -1] 4\n"
     ]
    },
    {
     "name": "stderr",
     "output_type": "stream",
     "text": [
      "  1%|          | 4345/499999 [02:40<5:07:00, 26.91it/s]"
     ]
    },
    {
     "name": "stdout",
     "output_type": "stream",
     "text": [
      "reach-->lick\n"
     ]
    },
    {
     "name": "stderr",
     "output_type": "stream",
     "text": [
      "  1%|          | 4576/499999 [02:48<5:05:05, 27.06it/s]"
     ]
    },
    {
     "name": "stdout",
     "output_type": "stream",
     "text": [
      "[1, 2] 230\n"
     ]
    },
    {
     "name": "stderr",
     "output_type": "stream",
     "text": [
      "  1%|          | 4591/499999 [02:49<5:14:58, 26.21it/s]"
     ]
    },
    {
     "name": "stdout",
     "output_type": "stream",
     "text": [
      "[1, -1] 16\n",
      "lick-->aim\n"
     ]
    },
    {
     "name": "stderr",
     "output_type": "stream",
     "text": [
      "  1%|          | 4621/499999 [02:50<5:02:17, 27.31it/s]"
     ]
    },
    {
     "name": "stdout",
     "output_type": "stream",
     "text": [
      "[1, 0] 27\n"
     ]
    },
    {
     "name": "stderr",
     "output_type": "stream",
     "text": [
      "  1%|          | 4630/499999 [02:50<5:04:12, 27.14it/s]"
     ]
    },
    {
     "name": "stdout",
     "output_type": "stream",
     "text": [
      "[-1, 0] 8\n"
     ]
    },
    {
     "name": "stderr",
     "output_type": "stream",
     "text": [
      "  1%|          | 4939/499999 [03:01<5:10:44, 26.55it/s]"
     ]
    },
    {
     "name": "stdout",
     "output_type": "stream",
     "text": [
      "[2, 0] 309\n"
     ]
    },
    {
     "name": "stderr",
     "output_type": "stream",
     "text": [
      "  1%|          | 4951/499999 [03:02<5:06:49, 26.89it/s]"
     ]
    },
    {
     "name": "stdout",
     "output_type": "stream",
     "text": [
      "[-1, 0] 11\n"
     ]
    },
    {
     "name": "stderr",
     "output_type": "stream",
     "text": [
      "  1%|          | 4966/499999 [03:02<5:05:32, 27.00it/s]"
     ]
    },
    {
     "name": "stdout",
     "output_type": "stream",
     "text": [
      "[0, 0] 14\n"
     ]
    },
    {
     "name": "stderr",
     "output_type": "stream",
     "text": [
      "  1%|          | 4984/499999 [03:03<5:04:03, 27.13it/s]"
     ]
    },
    {
     "name": "stdout",
     "output_type": "stream",
     "text": [
      "[0, -1] 18\n",
      "aim-->reach\n"
     ]
    },
    {
     "name": "stderr",
     "output_type": "stream",
     "text": [
      "  1%|          | 5374/499999 [03:17<5:05:00, 27.03it/s]"
     ]
    },
    {
     "name": "stdout",
     "output_type": "stream",
     "text": [
      "[0, 1] 389\n"
     ]
    },
    {
     "name": "stderr",
     "output_type": "stream",
     "text": [
      "  1%|          | 5392/499999 [03:18<5:03:48, 27.13it/s]"
     ]
    },
    {
     "name": "stdout",
     "output_type": "stream",
     "text": [
      "[0, -1] 16\n"
     ]
    },
    {
     "name": "stderr",
     "output_type": "stream",
     "text": [
      "  1%|          | 5407/499999 [03:19<5:08:21, 26.73it/s]"
     ]
    },
    {
     "name": "stdout",
     "output_type": "stream",
     "text": [
      "[-1, -1] 15\n",
      "reach-->lick\n"
     ]
    },
    {
     "name": "stderr",
     "output_type": "stream",
     "text": [
      "  1%|          | 5422/499999 [03:19<5:05:43, 26.96it/s]"
     ]
    },
    {
     "name": "stdout",
     "output_type": "stream",
     "text": [
      "[-1, 2] 12\n"
     ]
    },
    {
     "name": "stderr",
     "output_type": "stream",
     "text": [
      "  1%|          | 5701/499999 [03:30<5:01:37, 27.31it/s]"
     ]
    },
    {
     "name": "stdout",
     "output_type": "stream",
     "text": [
      "[1, 2] 279\n"
     ]
    },
    {
     "name": "stderr",
     "output_type": "stream",
     "text": [
      "  1%|          | 5710/499999 [03:30<5:01:26, 27.33it/s]"
     ]
    },
    {
     "name": "stdout",
     "output_type": "stream",
     "text": [
      "Mouse received reward\n",
      "[1, -1] 10\n",
      "lick-->aim\n"
     ]
    },
    {
     "name": "stderr",
     "output_type": "stream",
     "text": [
      "  1%|          | 5737/499999 [03:31<5:02:39, 27.22it/s]"
     ]
    },
    {
     "name": "stdout",
     "output_type": "stream",
     "text": [
      "[1, 0] 23\n"
     ]
    },
    {
     "name": "stderr",
     "output_type": "stream",
     "text": [
      "  1%|          | 5743/499999 [03:31<5:06:33, 26.87it/s]"
     ]
    },
    {
     "name": "stdout",
     "output_type": "stream",
     "text": [
      "[-1, 0] 5\n"
     ]
    },
    {
     "name": "stderr",
     "output_type": "stream",
     "text": [
      "  1%|          | 5989/499999 [03:40<5:04:09, 27.07it/s]"
     ]
    }
   ],
   "source": [
    "# init_input_ctx = np.random.RandomState().normal(0,1,size=patterns_ctx[0][0].shape)\n",
    "# init_input_d1 = np.random.RandomState().normal(0,1,size=patterns_d1[0][0].shape)\n",
    "\n",
    "# init_input_ctx = phi(patterns_ctx[0][0])\n",
    "# init_input_d1 = phi(patterns_d1[0][1])\n",
    "# init_input_d2 = np.random.RandomState().normal(0,1,size=patterns_d1[0][0].shape)\n",
    "init_inputs = [np.zeros(ctx.size),\n",
    "               patterns[1][0][2],\n",
    "               np.zeros(d2.size)]\n",
    "input_patterns = [p[0] for p in patterns]\n",
    "\n",
    "T=500 #ms\n",
    "mouse = ReachingTask()\n",
    "network.simulate_learning(mouse, T, init_inputs, input_patterns, plasticity, \n",
    "                          delta_t=100, eta=0.001, tau_e=500, lamb=0.8, \n",
    "                          noise=[.13, 0.13, 0.13], etrace=True, hyper=False,\n",
    "                          r_ext=[lambda t:0, lambda t:1, lambda t:1], print_output=True)"
   ]
  },
  {
   "cell_type": "code",
   "execution_count": null,
   "metadata": {},
   "outputs": [],
   "source": [
    "overlaps_ctx = sequences[0][0].overlaps(network.pops[0])\n",
    "overlaps_d1 = sequences[1][0].overlaps(network.pops[1])\n",
    "overlaps_d2 = sequences[2][0].overlaps(network.pops[2])\n",
    "# filename = 'learning-0005-1600-600-5-1000-v0'\n",
    "# np.savez('./data/' + filename + '.npz', \n",
    "#          overlaps_ctx=overlaps_ctx, overlaps_bg=overlaps_bg, \n",
    "#          correlations_ctx=correlations_ctx, correlations_bg=correlations_bg, \n",
    "#          state_ctx=net_ctx.exc.state, state_bg=net_bg.exc.state)"
   ]
  },
  {
   "cell_type": "code",
   "execution_count": null,
   "metadata": {},
   "outputs": [],
   "source": [
    "sns.set_style('white') \n",
    "colors = sns.color_palette('deep')\n",
    "\n",
    "fig, axes = plt.subplots(3,1, sharex=True, sharey=True, tight_layout=True, figsize=(20,20))\n",
    "axes[0].plot(overlaps_ctx[0], linestyle='solid', linewidth=3, color=colors[8], label='Aim')\n",
    "axes[0].plot(overlaps_ctx[1], linestyle='dashed', linewidth=3, color=colors[0], label='Reach')\n",
    "axes[0].plot(overlaps_ctx[2], linestyle='dotted', linewidth=3, color=colors[3], label='Lick')\n",
    "axes[0].set_yticks([0.0, 0.1, 0.2, 0.3, 0.4])\n",
    "axes[0].set_title(\"CTX\", fontsize=25)\n",
    "axes[1].plot(overlaps_d1[0], linestyle='solid', linewidth=3, color=colors[8])\n",
    "axes[1].plot(overlaps_d1[1], linestyle='dashed', linewidth=3, color=colors[0])\n",
    "axes[1].plot(overlaps_d1[2], linestyle='dotted', linewidth=3, color=colors[3])\n",
    "axes[1].set_yticks([0.0, 0.1, 0.2, 0.3, 0.4])\n",
    "axes[1].set_title(\"D1\", fontsize=25)\n",
    "# axes[1].set_xlabel('Time (ms)', fontsize=20)\n",
    "axes[2].plot(overlaps_d2[0], linestyle='solid', linewidth=3, color=colors[8])\n",
    "axes[2].plot(overlaps_d2[1], linestyle='dashed', linewidth=3, color=colors[0])\n",
    "axes[2].plot(overlaps_d2[2], linestyle='dotted', linewidth=3, color=colors[3])\n",
    "axes[2].set_yticks([0.0, 0.1, 0.2, 0.3, 0.4])\n",
    "axes[2].set_title(\"D2\", fontsize=25)\n",
    "axes[2].set_xlabel('Time (ms)', fontsize=20)\n",
    "# axes[3].plot(np.average(network.pops[1].depression, axis=0), label='y')\n",
    "# axes[3].plot(np.average(network.pops[1].state, axis=0), label='r')\n",
    "# axes[3].plot(np.average(network.pops[1].depression * network.pops[1].state, axis=0), label='yr')\n",
    "# axes[4].plot(np.average(network.pops[2].depression, axis=0))\n",
    "# axes[4].plot(np.average(network.pops[2].state, axis=0))\n",
    "# axes[4].plot(np.average(network.pops[2].depression * network.pops[2].state, axis=0))\n",
    "fig.text(-0.01, 0.5, 'Overlap', va='center', rotation='vertical', fontsize=20)\n",
    "plt.setp(axes, xlim=(0, 1000))\n",
    "plt.setp(axes, ylim=(-.2, .4))\n",
    "plt.figlegend(fontsize=20)\n",
    "# plt.figlegend(labels=['Aim', 'Reach', 'Lick'], fontsize=20)\n",
    "plt.savefig('/work/jp464/striatum-sequence/output/adaptation-symmetric.jpg', bbox_inches = \"tight\", format='jpg')\n",
    "\n",
    "plt.show()\n"
   ]
  }
 ],
 "metadata": {
  "kernelspec": {
   "display_name": "striatum",
   "language": "python",
   "name": "striatum"
  },
  "language_info": {
   "codemirror_mode": {
    "name": "ipython",
    "version": 3
   },
   "file_extension": ".py",
   "mimetype": "text/x-python",
   "name": "python",
   "nbconvert_exporter": "python",
   "pygments_lexer": "ipython3",
   "version": "3.8.17"
  }
 },
 "nbformat": 4,
 "nbformat_minor": 4
}
