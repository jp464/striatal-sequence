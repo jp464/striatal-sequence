{
 "cells": [
  {
   "cell_type": "code",
   "execution_count": 1,
   "metadata": {},
   "outputs": [],
   "source": [
    "import sys\n",
    "sys.path.insert(0, '../../../network')\n",
    "sys.path.insert(0, '../../../figures')\n",
    "from sequences import GaussianSequence\n",
    "from transfer_functions import ErrorFunction\n",
    "import color_scheme as cs\n",
    "import plot_utils as pu"
   ]
  },
  {
   "cell_type": "code",
   "execution_count": 2,
   "metadata": {},
   "outputs": [],
   "source": [
    "import itertools\n",
    "import numpy as np\n",
    "import matplotlib.pyplot as plt"
   ]
  },
  {
   "cell_type": "code",
   "execution_count": 3,
   "metadata": {},
   "outputs": [
    {
     "ename": "FileNotFoundError",
     "evalue": "[Errno 2] No such file or directory: 'data/data.npy'",
     "output_type": "error",
     "traceback": [
      "\u001b[0;31m---------------------------------------------------------------------------\u001b[0m",
      "\u001b[0;31mFileNotFoundError\u001b[0m                         Traceback (most recent call last)",
      "\u001b[0;32m<ipython-input-3-22286f32a9a4>\u001b[0m in \u001b[0;36m<module>\u001b[0;34m\u001b[0m\n\u001b[0;32m----> 1\u001b[0;31m \u001b[0mdata\u001b[0m \u001b[0;34m=\u001b[0m \u001b[0mnp\u001b[0m\u001b[0;34m.\u001b[0m\u001b[0mload\u001b[0m\u001b[0;34m(\u001b[0m\u001b[0;34m\"data/data.npy\"\u001b[0m\u001b[0;34m,\u001b[0m \u001b[0mallow_pickle\u001b[0m\u001b[0;34m=\u001b[0m\u001b[0;32mTrue\u001b[0m\u001b[0;34m)\u001b[0m\u001b[0;34m\u001b[0m\u001b[0;34m\u001b[0m\u001b[0m\n\u001b[0m\u001b[1;32m      2\u001b[0m \u001b[0mM\u001b[0m\u001b[0;34m,\u001b[0m \u001b[0moverlaps\u001b[0m\u001b[0;34m,\u001b[0m \u001b[0mcorrelations\u001b[0m\u001b[0;34m,\u001b[0m \u001b[0mstate\u001b[0m\u001b[0;34m,\u001b[0m\u001b[0;31m \u001b[0m\u001b[0;31m\\\u001b[0m\u001b[0;34m\u001b[0m\u001b[0;34m\u001b[0m\u001b[0m\n\u001b[1;32m      3\u001b[0m \u001b[0mM2\u001b[0m\u001b[0;34m,\u001b[0m \u001b[0moverlaps2\u001b[0m\u001b[0;34m,\u001b[0m \u001b[0mcorrelations2\u001b[0m\u001b[0;34m,\u001b[0m \u001b[0mstate2\u001b[0m\u001b[0;34m,\u001b[0m\u001b[0;31m \u001b[0m\u001b[0;31m\\\u001b[0m\u001b[0;34m\u001b[0m\u001b[0;34m\u001b[0m\u001b[0m\n\u001b[1;32m      4\u001b[0m \u001b[0mphi_xi\u001b[0m \u001b[0;34m=\u001b[0m \u001b[0mdata\u001b[0m\u001b[0;34m\u001b[0m\u001b[0;34m\u001b[0m\u001b[0m\n",
      "\u001b[0;32m/opt/anaconda3/lib/python3.8/site-packages/numpy/lib/npyio.py\u001b[0m in \u001b[0;36mload\u001b[0;34m(file, mmap_mode, allow_pickle, fix_imports, encoding)\u001b[0m\n\u001b[1;32m    415\u001b[0m             \u001b[0mown_fid\u001b[0m \u001b[0;34m=\u001b[0m \u001b[0;32mFalse\u001b[0m\u001b[0;34m\u001b[0m\u001b[0;34m\u001b[0m\u001b[0m\n\u001b[1;32m    416\u001b[0m         \u001b[0;32melse\u001b[0m\u001b[0;34m:\u001b[0m\u001b[0;34m\u001b[0m\u001b[0;34m\u001b[0m\u001b[0m\n\u001b[0;32m--> 417\u001b[0;31m             \u001b[0mfid\u001b[0m \u001b[0;34m=\u001b[0m \u001b[0mstack\u001b[0m\u001b[0;34m.\u001b[0m\u001b[0menter_context\u001b[0m\u001b[0;34m(\u001b[0m\u001b[0mopen\u001b[0m\u001b[0;34m(\u001b[0m\u001b[0mos_fspath\u001b[0m\u001b[0;34m(\u001b[0m\u001b[0mfile\u001b[0m\u001b[0;34m)\u001b[0m\u001b[0;34m,\u001b[0m \u001b[0;34m\"rb\"\u001b[0m\u001b[0;34m)\u001b[0m\u001b[0;34m)\u001b[0m\u001b[0;34m\u001b[0m\u001b[0;34m\u001b[0m\u001b[0m\n\u001b[0m\u001b[1;32m    418\u001b[0m             \u001b[0mown_fid\u001b[0m \u001b[0;34m=\u001b[0m \u001b[0;32mTrue\u001b[0m\u001b[0;34m\u001b[0m\u001b[0;34m\u001b[0m\u001b[0m\n\u001b[1;32m    419\u001b[0m \u001b[0;34m\u001b[0m\u001b[0m\n",
      "\u001b[0;31mFileNotFoundError\u001b[0m: [Errno 2] No such file or directory: 'data/data.npy'"
     ]
    }
   ],
   "source": [
    "data = np.load(\"data/data.npy\", allow_pickle=True) \n",
    "M, overlaps, correlations, state, \\\n",
    "M2, overlaps2, correlations2, state2, \\\n",
    "phi_xi = data"
   ]
  },
  {
   "cell_type": "markdown",
   "metadata": {},
   "source": [
    "Transfer function"
   ]
  },
  {
   "cell_type": "code",
   "execution_count": null,
   "metadata": {},
   "outputs": [],
   "source": [
    "phi = ErrorFunction(mu=0.22, sigma=0.1).phi"
   ]
  },
  {
   "cell_type": "markdown",
   "metadata": {},
   "source": [
    "Step-function input"
   ]
  },
  {
   "cell_type": "code",
   "execution_count": null,
   "metadata": {},
   "outputs": [],
   "source": [
    "dt = 1e-3\n",
    "Delta_t = 10e-3\n",
    "T = 300\n",
    "P = 16\n",
    "S = 1\n",
    "N = 40000\n",
    "p_input = np.zeros((T,N))\n",
    "sequences = [GaussianSequence(P, N, seed=i) for i in range(P)]\n",
    "patterns = np.stack([s.inputs for s in sequences])\n",
    "rng = np.random.RandomState(seed=5)\n",
    "for n in range(160-1):\n",
    "    p_input[n,:] = patterns[0,int(n/int(Delta_t/dt)),:]"
   ]
  },
  {
   "cell_type": "code",
   "execution_count": null,
   "metadata": {},
   "outputs": [],
   "source": [
    "t_max = overlaps[-1,:].argmax()\n",
    "lambda_ = 0.2\n",
    "t = np.rint(np.linspace(0,range(overlaps.shape[1])[t_max], overlaps.shape[0]))\n",
    "a = np.mean((state[:,t.astype(int)] - phi_xi[0].T)**2, axis=1)\n",
    "b = lambda_*state.var(axis=1)\n",
    "c = np.zeros(state.shape[0])\n",
    "for i, row in enumerate(state):\n",
    "    d = np.histogram(row, bins=100)[0].astype(float)\n",
    "    d += np.finfo(float).eps\n",
    "    d /= d.sum()\n",
    "    c[i] = -np.nansum(np.log2(d)*d)\n",
    "idxs = np.argsort(a - lambda_*c)\n",
    "n_idx, t_max = idxs[11], overlaps[-1, :].argmax()"
   ]
  },
  {
   "cell_type": "code",
   "execution_count": null,
   "metadata": {},
   "outputs": [],
   "source": [
    "pu.figure_setup()\n",
    "#fig_size = pu.get_fig_size(6,8.7)\n",
    "fig_size = pu.get_fig_size(6,8.7)\n",
    "fig, ax = plt.subplots(5,1, figsize=fig_size, dpi=300)\n",
    "\n",
    "ax[0].annotate(\"a\", xy=(0.00,0.92), xycoords='figure fraction', fontsize=10)\n",
    "ax[1].annotate(\"b\", xy=(0.00,0.72), xycoords='figure fraction', fontsize=10)\n",
    "ax[1].annotate(\"c\", xy=(0.00,0.57), xycoords='figure fraction', fontsize=10)\n",
    "ax[1].annotate(\"d\", xy=(0.00,0.42), xycoords='figure fraction', fontsize=10)\n",
    "ax[1].annotate(\"e\", xy=(0.00,0.27), xycoords='figure fraction', fontsize=10)\n",
    "\n",
    "# Panel a\n",
    "ax[0].plot(np.arange(0,T,0.1), np.repeat(p_input[:,n_idx],10), color='k', linewidth=1); \n",
    "ax[0].axhline(0, linestyle='dashed', color='grey', linewidth=1)\n",
    "ax[0].set_xlim([0,300])\n",
    "ax[0].set_yticks([-2,0,2])\n",
    "ax[0].set_yticklabels([-2,0,2])\n",
    "ax[0].set_ylim([-2.5,2.5])\n",
    "ax[0].annotate(r\"$\\xi^1$\", xy=(2,-2.75), xycoords='data', fontsize=6)\n",
    "ax[0].annotate(r\"$\\xi^{16}$\", xy=(142,1.60), xycoords='data', fontsize=6)\n",
    "\n",
    "# Panel b\n",
    "ax[1].plot(state[n_idx], color=cs.single_unit_colors()[0])\n",
    "ax[1].plot(state2[n_idx], linestyle='solid', alpha=0.5, color=cs.single_unit_colors()[0])\n",
    "ax[1].plot(phi(p_input[:,n_idx]), color='k', alpha=0.25)\n",
    "ax[1].set_ylim([-0.05,1.05]);\n",
    "ax[1].set_xlim([0,300]);\n",
    "ax[1].set_yticks([0,1])\n",
    "ax[1].set_yticklabels([0,1])\n",
    "\n",
    "# Panel c\n",
    "unit_idxs = [n_idx]+list(range(10, 14))\n",
    "colors = cs.single_unit_colors()\n",
    "for i, color in zip(unit_idxs, itertools.cycle(colors)):\n",
    "    ax[2].plot(state[i], color=color)\n",
    "ax[2].set_ylim([0,1]);\n",
    "ax[2].set_xlim([0,300]);\n",
    "ax[2].set_yticks([0,1])\n",
    "ax[2].set_yticklabels([0,1])\n",
    "\n",
    "# Panel d\n",
    "for overlap, color in zip(overlaps, cs.overlap_colors(len(overlaps))):\n",
    "    ax[3].plot(overlap, color=color)\n",
    "ax[3].plot(M, color='k', alpha=0.5, linestyle='dashed')\n",
    "ax[3].set_ylim([0,0.2]);\n",
    "ax[3].set_xlim([0,300]);\n",
    "ax[3].set_yticks([0,0.2])\n",
    "ax[3].set_yticklabels([0,0.2])\n",
    "\n",
    "# Panel e\n",
    "for overlap, color in zip(correlations, cs.overlap_colors(len(correlations))):\n",
    "    ax[4].plot(overlap, color=color)\n",
    "ax[4].set_ylim([0,0.8]);\n",
    "ax[4].set_xlim([0,300]);\n",
    "ax[4].set_yticks([0,0.5])\n",
    "ax[4].set_yticklabels([0,0.5])\n",
    "ax[4].set_xticks([0,100,200,300])\n",
    "ax[4].set_xticklabels([0,100,200,300])\n",
    "\n",
    "for i in range(4):\n",
    "    ax[i].set_xticks([]);\n",
    "plt.subplots_adjust(hspace=0.25, wspace=0.35)\n",
    "ax[4].set_xlabel(\"Time (ms)\") \n",
    "\n",
    "ax[0].set_ylabel(\"Input (a.u.)\", labelpad=7)\n",
    "ax[1].set_ylabel(\"Rate\", labelpad=10);\n",
    "ax[2].set_ylabel(\"Rate\", labelpad=10);\n",
    "ax[3].set_ylabel(\"Overlap\");\n",
    "ax[4].set_ylabel(\"Correlation\");\n",
    "\n",
    "ax[4].set_xticks([0,100,200,300])\n",
    "ax[0].set_yticks([-2,0,2]);\n",
    "ax[0].set_ylim([-3.5,3.5]);\n",
    "\n",
    "plt.subplots_adjust(left=0.20)\n",
    "plt.savefig(\"../output/1.pdf\", bbox_inches='tight', dpi=300)"
   ]
  },
  {
   "cell_type": "code",
   "execution_count": null,
   "metadata": {},
   "outputs": [],
   "source": []
  }
 ],
 "metadata": {
  "kernelspec": {
   "display_name": "Python 3 (ipykernel)",
   "language": "python",
   "name": "python3"
  },
  "language_info": {
   "codemirror_mode": {
    "name": "ipython",
    "version": 3
   },
   "file_extension": ".py",
   "mimetype": "text/x-python",
   "name": "python",
   "nbconvert_exporter": "python",
   "pygments_lexer": "ipython3",
   "version": "3.8.13"
  }
 },
 "nbformat": 4,
 "nbformat_minor": 4
}
