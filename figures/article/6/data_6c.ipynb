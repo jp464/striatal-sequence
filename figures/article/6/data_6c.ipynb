{
 "cells": [
  {
   "cell_type": "code",
   "execution_count": 4,
   "metadata": {},
   "outputs": [],
   "source": [
    "import argparse\n",
    "import sys\n",
    "import os\n",
    "import pickle\n",
    "import logging\n",
    "import copy\n",
    "import signal\n",
    "import pathos.multiprocessing\n",
    "import numpy as np\n",
    "import scipy\n",
    "from tqdm import trange\n",
    "\n",
    "sys.path.insert(0, '../../../network')\n",
    "from network import Population, RateNetwork\n",
    "from connectivity import SparseConnectivity, LinearSynapse, ThresholdPlasticityRule\n",
    "from sequences import GaussianSequence\n",
    "\n",
    "import matplotlib.pyplot as plt\n",
    "from brokenaxes import brokenaxes"
   ]
  },
  {
   "cell_type": "markdown",
   "metadata": {},
   "source": [
    "Load data"
   ]
  },
  {
   "cell_type": "code",
   "execution_count": 5,
   "metadata": {},
   "outputs": [],
   "source": [
    "datapath = \"data/data_ab.npy\"\n",
    "state, _ = np.load(datapath, allow_pickle=True)"
   ]
  },
  {
   "cell_type": "markdown",
   "metadata": {},
   "source": [
    "Compute correlations across days"
   ]
  },
  {
   "cell_type": "code",
   "execution_count": 7,
   "metadata": {},
   "outputs": [
    {
     "name": "stderr",
     "output_type": "stream",
     "text": [
      "100%|██████████| 30/30 [02:33<00:00,  5.10s/it]\n"
     ]
    }
   ],
   "source": [
    "n_realizations = 1\n",
    "n_days = 30\n",
    "\n",
    "def active_idxs(state, threshold=0.0, t=0):\n",
    "    return np.any(state.T[:,t:] > threshold, axis=1).nonzero()[0]\n",
    "\n",
    "idxs = active_idxs(state[0][0])\n",
    "idxs2 = active_idxs(state[0][-1])\n",
    "corr = np.zeros((n_realizations, n_days, idxs.size))\n",
    "corr_reverse = np.zeros((n_realizations, n_days, idxs2.size))\n",
    "for m in range(n_realizations):\n",
    "    for n in trange(n_days):\n",
    "        #print(\"Computing correlation for day\", n, \"realization\", m)\n",
    "        corr[m, n,:] = np.asarray([\n",
    "            scipy.stats.pearsonr(state[m][0].T[i], state[m][n].T[i])[0] for i in idxs])\n",
    "        corr_reverse[m, n,:] = np.asarray([\n",
    "            scipy.stats.pearsonr(state[m][-1].T[i], state[m][n].T[i])[0] for i in idxs2])\n",
    "\n",
    "np.save(open(\"data/data_c1.npy\", \"wb\"), corr)\n",
    "np.save(open(\"data/data_c2.npy\", \"wb\"), corr_reverse)"
   ]
  },
  {
   "cell_type": "code",
   "execution_count": null,
   "metadata": {},
   "outputs": [],
   "source": []
  }
 ],
 "metadata": {
  "kernelspec": {
   "display_name": "Python 3",
   "language": "python",
   "name": "python3"
  },
  "language_info": {
   "codemirror_mode": {
    "name": "ipython",
    "version": 3
   },
   "file_extension": ".py",
   "mimetype": "text/x-python",
   "name": "python",
   "nbconvert_exporter": "python",
   "pygments_lexer": "ipython3",
   "version": "3.7.5"
  }
 },
 "nbformat": 4,
 "nbformat_minor": 4
}
