{
 "cells": [
  {
   "cell_type": "code",
   "execution_count": 1,
   "metadata": {},
   "outputs": [],
   "source": [
    "import sys\n",
    "sys.path.insert(0, '../../../network')\n",
    "\n",
    "import logging\n",
    "import argparse\n",
    "import itertools\n",
    "\n",
    "import numpy as np\n",
    "from scipy.stats import norm\n",
    "from numba import jit, njit\n",
    "\n",
    "from network import Population, RateNetwork\n",
    "from transfer_functions import ErrorFunction\n",
    "from connectivity import SparseConnectivity, LinearSynapse\n",
    "from sequences import GaussianSequence\n",
    "\n",
    "logging.basicConfig(level=logging.INFO)"
   ]
  },
  {
   "cell_type": "markdown",
   "metadata": {},
   "source": [
    "Load data from figure 1"
   ]
  },
  {
   "cell_type": "code",
   "execution_count": 3,
   "metadata": {},
   "outputs": [],
   "source": [
    "datapath = \"../1/data/data.npy\"\n",
    "state = np.load(datapath, allow_pickle=True)[3]"
   ]
  },
  {
   "cell_type": "markdown",
   "metadata": {},
   "source": [
    "Compute peak information"
   ]
  },
  {
   "cell_type": "code",
   "execution_count": 9,
   "metadata": {
    "collapsed": true,
    "jupyter": {
     "outputs_hidden": true
    }
   },
   "outputs": [
    {
     "name": "stderr",
     "output_type": "stream",
     "text": [
      "<ipython-input-9-34d18e1f4455>:1: NumbaWarning: \u001b[1m\n",
      "Compilation is falling back to object mode WITH looplifting enabled because Function \"func\" failed type inference due to: \u001b[1m\u001b[1m\u001b[1mUndecided type $118load_method.3 := <undecided>\u001b[0m\n",
      "\u001b[0m\u001b[1m[1] During: resolving caller type: $118load_method.3\u001b[0m\n",
      "\u001b[0m\u001b[1m[2] During: typing of call at <ipython-input-9-34d18e1f4455> (14)\n",
      "\u001b[0m\n",
      "\u001b[1m\n",
      "File \"<ipython-input-9-34d18e1f4455>\", line 14:\u001b[0m\n",
      "\u001b[1mdef func(state):\n",
      "    <source elided>\n",
      "                if prev_value == False and i:\n",
      "\u001b[1m                    peaks.append(np.array([n]))\n",
      "\u001b[0m                    \u001b[1m^\u001b[0m\u001b[0m\n",
      "\u001b[0m\n",
      "  @jit\n",
      "INFO:numba.transforms:finding looplift candidates\n",
      "<ipython-input-9-34d18e1f4455>:1: NumbaWarning: \u001b[1m\n",
      "Compilation is falling back to object mode WITHOUT looplifting enabled because Function \"func\" failed type inference due to: \u001b[1m\u001b[1mcannot determine Numba type of <class 'numba.dispatcher.LiftedLoop'>\u001b[0m\n",
      "\u001b[1m\n",
      "File \"<ipython-input-9-34d18e1f4455>\", line 4:\u001b[0m\n",
      "\u001b[1mdef func(state):\n",
      "    <source elided>\n",
      "    all_peaks = [[]]*40000\n",
      "\u001b[1m    for n, row in enumerate(state):\n",
      "\u001b[0m    \u001b[1m^\u001b[0m\u001b[0m\n",
      "\u001b[0m\u001b[0m\n",
      "  @jit\n",
      "/home/mhg19/Manuscripts/PNAS19/sci/lib64/python3.7/site-packages/numba/object_mode_passes.py:178: NumbaWarning: \u001b[1mFunction \"func\" was compiled in object mode without forceobj=True, but has lifted loops.\n",
      "\u001b[1m\n",
      "File \"<ipython-input-9-34d18e1f4455>\", line 3:\u001b[0m\n",
      "\u001b[1mdef func(state):\n",
      "\u001b[1m    all_peaks = [[]]*40000\n",
      "\u001b[0m    \u001b[1m^\u001b[0m\u001b[0m\n",
      "\u001b[0m\n",
      "  state.func_ir.loc))\n",
      "/home/mhg19/Manuscripts/PNAS19/sci/lib64/python3.7/site-packages/numba/object_mode_passes.py:188: NumbaDeprecationWarning: \u001b[1m\n",
      "Fall-back from the nopython compilation path to the object mode compilation path has been detected, this is deprecated behaviour.\n",
      "\n",
      "For more information visit http://numba.pydata.org/numba-doc/latest/reference/deprecation.html#deprecation-of-object-mode-fall-back-behaviour-when-using-jit\n",
      "\u001b[1m\n",
      "File \"<ipython-input-9-34d18e1f4455>\", line 3:\u001b[0m\n",
      "\u001b[1mdef func(state):\n",
      "\u001b[1m    all_peaks = [[]]*40000\n",
      "\u001b[0m    \u001b[1m^\u001b[0m\u001b[0m\n",
      "\u001b[0m\n",
      "  state.func_ir.loc))\n",
      "<ipython-input-9-34d18e1f4455>:1: NumbaWarning: \u001b[1m\n",
      "Compilation is falling back to object mode WITHOUT looplifting enabled because Function \"func\" failed type inference due to: \u001b[1m\u001b[1mnon-precise type pyobject\u001b[0m\n",
      "\u001b[0m\u001b[1m[1] During: typing of argument at <ipython-input-9-34d18e1f4455> (4)\u001b[0m\n",
      "\u001b[1m\n",
      "File \"<ipython-input-9-34d18e1f4455>\", line 4:\u001b[0m\n",
      "\u001b[1mdef func(state):\n",
      "    <source elided>\n",
      "    all_peaks = [[]]*40000\n",
      "\u001b[1m    for n, row in enumerate(state):\n",
      "\u001b[0m    \u001b[1m^\u001b[0m\u001b[0m\n",
      "\u001b[0m\n",
      "  @jit\n",
      "/home/mhg19/Manuscripts/PNAS19/sci/lib64/python3.7/site-packages/numba/object_mode_passes.py:178: NumbaWarning: \u001b[1mFunction \"func\" was compiled in object mode without forceobj=True.\n",
      "\u001b[1m\n",
      "File \"<ipython-input-9-34d18e1f4455>\", line 4:\u001b[0m\n",
      "\u001b[1mdef func(state):\n",
      "    <source elided>\n",
      "    all_peaks = [[]]*40000\n",
      "\u001b[1m    for n, row in enumerate(state):\n",
      "\u001b[0m    \u001b[1m^\u001b[0m\u001b[0m\n",
      "\u001b[0m\n",
      "  state.func_ir.loc))\n",
      "/home/mhg19/Manuscripts/PNAS19/sci/lib64/python3.7/site-packages/numba/object_mode_passes.py:188: NumbaDeprecationWarning: \u001b[1m\n",
      "Fall-back from the nopython compilation path to the object mode compilation path has been detected, this is deprecated behaviour.\n",
      "\n",
      "For more information visit http://numba.pydata.org/numba-doc/latest/reference/deprecation.html#deprecation-of-object-mode-fall-back-behaviour-when-using-jit\n",
      "\u001b[1m\n",
      "File \"<ipython-input-9-34d18e1f4455>\", line 4:\u001b[0m\n",
      "\u001b[1mdef func(state):\n",
      "    <source elided>\n",
      "    all_peaks = [[]]*40000\n",
      "\u001b[1m    for n, row in enumerate(state):\n",
      "\u001b[0m    \u001b[1m^\u001b[0m\u001b[0m\n",
      "\u001b[0m\n",
      "  state.func_ir.loc))\n"
     ]
    },
    {
     "ename": "KeyboardInterrupt",
     "evalue": "",
     "output_type": "error",
     "traceback": [
      "\u001b[0;31m---------------------------------------------------------------------------\u001b[0m",
      "\u001b[0;31mKeyboardInterrupt\u001b[0m                         Traceback (most recent call last)",
      "\u001b[0;32m<ipython-input-9-34d18e1f4455>\u001b[0m in \u001b[0;36m<module>\u001b[0;34m\u001b[0m\n\u001b[1;32m     20\u001b[0m     \u001b[0;32mreturn\u001b[0m \u001b[0mall_peaks\u001b[0m\u001b[0;34m\u001b[0m\u001b[0;34m\u001b[0m\u001b[0m\n\u001b[1;32m     21\u001b[0m \u001b[0;34m\u001b[0m\u001b[0m\n\u001b[0;32m---> 22\u001b[0;31m \u001b[0mpeaks\u001b[0m \u001b[0;34m=\u001b[0m \u001b[0mfunc\u001b[0m\u001b[0;34m(\u001b[0m\u001b[0mstate\u001b[0m\u001b[0;34m)\u001b[0m\u001b[0;34m\u001b[0m\u001b[0;34m\u001b[0m\u001b[0m\n\u001b[0m",
      "\u001b[0;32m~/Manuscripts/PNAS19/sci/lib64/python3.7/site-packages/numpy/lib/index_tricks.py\u001b[0m in \u001b[0;36m__getitem__\u001b[0;34m(self, key)\u001b[0m\n\u001b[1;32m    397\u001b[0m \u001b[0;34m\u001b[0m\u001b[0m\n\u001b[1;32m    398\u001b[0m         \u001b[0;31m# Ensure that scalars won't up-cast unless warranted\u001b[0m\u001b[0;34m\u001b[0m\u001b[0;34m\u001b[0m\u001b[0;34m\u001b[0m\u001b[0m\n\u001b[0;32m--> 399\u001b[0;31m         \u001b[0mfinal_dtype\u001b[0m \u001b[0;34m=\u001b[0m \u001b[0mfind_common_type\u001b[0m\u001b[0;34m(\u001b[0m\u001b[0marraytypes\u001b[0m\u001b[0;34m,\u001b[0m \u001b[0mscalartypes\u001b[0m\u001b[0;34m)\u001b[0m\u001b[0;34m\u001b[0m\u001b[0;34m\u001b[0m\u001b[0m\n\u001b[0m\u001b[1;32m    400\u001b[0m         \u001b[0;32mif\u001b[0m \u001b[0mfinal_dtype\u001b[0m \u001b[0;32mis\u001b[0m \u001b[0;32mnot\u001b[0m \u001b[0;32mNone\u001b[0m\u001b[0;34m:\u001b[0m\u001b[0;34m\u001b[0m\u001b[0;34m\u001b[0m\u001b[0m\n\u001b[1;32m    401\u001b[0m             \u001b[0;32mfor\u001b[0m \u001b[0mk\u001b[0m \u001b[0;32min\u001b[0m \u001b[0mscalars\u001b[0m\u001b[0;34m:\u001b[0m\u001b[0;34m\u001b[0m\u001b[0;34m\u001b[0m\u001b[0m\n",
      "\u001b[0;32m~/Manuscripts/PNAS19/sci/lib64/python3.7/site-packages/numpy/core/numerictypes.py\u001b[0m in \u001b[0;36mfind_common_type\u001b[0;34m(array_types, scalar_types)\u001b[0m\n\u001b[1;32m    664\u001b[0m         \u001b[0;32mreturn\u001b[0m \u001b[0mmaxa\u001b[0m\u001b[0;34m\u001b[0m\u001b[0;34m\u001b[0m\u001b[0m\n\u001b[1;32m    665\u001b[0m \u001b[0;34m\u001b[0m\u001b[0m\n\u001b[0;32m--> 666\u001b[0;31m     \u001b[0;32mtry\u001b[0m\u001b[0;34m:\u001b[0m\u001b[0;34m\u001b[0m\u001b[0;34m\u001b[0m\u001b[0m\n\u001b[0m\u001b[1;32m    667\u001b[0m         \u001b[0mindex_a\u001b[0m \u001b[0;34m=\u001b[0m \u001b[0m_kind_list\u001b[0m\u001b[0;34m.\u001b[0m\u001b[0mindex\u001b[0m\u001b[0;34m(\u001b[0m\u001b[0mmaxa\u001b[0m\u001b[0;34m.\u001b[0m\u001b[0mkind\u001b[0m\u001b[0;34m)\u001b[0m\u001b[0;34m\u001b[0m\u001b[0;34m\u001b[0m\u001b[0m\n\u001b[1;32m    668\u001b[0m         \u001b[0mindex_sc\u001b[0m \u001b[0;34m=\u001b[0m \u001b[0m_kind_list\u001b[0m\u001b[0;34m.\u001b[0m\u001b[0mindex\u001b[0m\u001b[0;34m(\u001b[0m\u001b[0mmaxsc\u001b[0m\u001b[0;34m.\u001b[0m\u001b[0mkind\u001b[0m\u001b[0;34m)\u001b[0m\u001b[0;34m\u001b[0m\u001b[0;34m\u001b[0m\u001b[0m\n",
      "\u001b[0;31mKeyboardInterrupt\u001b[0m: "
     ]
    }
   ],
   "source": [
    "@jit\n",
    "def func(state):\n",
    "    all_peaks = [[]]*40000\n",
    "    for n, row in enumerate(state):\n",
    "        thresh = row.mean()\n",
    "        sigma = row.std()\n",
    "        idxs = row > thresh + 1*sigma\n",
    "        peaks = [np.array([])]\n",
    "        peak_idx = 0\n",
    "        prev_value = False\n",
    "        for m, i in enumerate(idxs):\n",
    "            if i:\n",
    "                if prev_value == False and i:\n",
    "                    peaks.append(np.array([n]))\n",
    "                    peak_idx += 1\n",
    "                else:\n",
    "                    peaks[peak_idx] = np.r_[peaks[peak_idx], m]\n",
    "            prev_value = i\n",
    "        all_peaks[n] = peaks\n",
    "    return all_peaks\n",
    "\n",
    "peaks = func(state)"
   ]
  },
  {
   "cell_type": "code",
   "execution_count": 12,
   "metadata": {},
   "outputs": [],
   "source": [
    "np.save(open(\"data/data.npy\", \"wb\"), [peaks])"
   ]
  }
 ],
 "metadata": {
  "kernelspec": {
   "display_name": "Python 3",
   "language": "python",
   "name": "python3"
  },
  "language_info": {
   "codemirror_mode": {
    "name": "ipython",
    "version": 3
   },
   "file_extension": ".py",
   "mimetype": "text/x-python",
   "name": "python",
   "nbconvert_exporter": "python",
   "pygments_lexer": "ipython3",
   "version": "3.7.5"
  }
 },
 "nbformat": 4,
 "nbformat_minor": 4
}
