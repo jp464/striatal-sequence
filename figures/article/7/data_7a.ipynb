{
 "cells": [
  {
   "cell_type": "code",
   "execution_count": 1,
   "metadata": {},
   "outputs": [],
   "source": [
    "import argparse\n",
    "import sys\n",
    "import os\n",
    "import logging\n",
    "import numpy as np\n",
    "\n",
    "sys.path.insert(0, '../../../network')\n",
    "from network import *\n",
    "from transfer_functions import ErrorFunction, ReLU\n",
    "from sequences import GaussianSequence\n",
    "from connectivity import *\n",
    "from noise import WhiteNoise\n",
    "\n",
    "import matplotlib.pyplot as plt\n",
    "\n",
    "logging.basicConfig(level=logging.INFO)"
   ]
  },
  {
   "cell_type": "markdown",
   "metadata": {},
   "source": [
    "Build network and connectivity"
   ]
  },
  {
   "cell_type": "code",
   "execution_count": 2,
   "metadata": {},
   "outputs": [
    {
     "name": "stderr",
     "output_type": "stream",
     "text": [
      "INFO:connectivity:Building connections from exc to exc\n",
      "INFO:connectivity:Storing sequences\n",
      "  0%|          | 0/1 [00:00<?, ?it/s]\n",
      "  0%|          | 0/20000 [00:00<?, ?it/s]\u001b[A\n",
      "  3%|▎         | 504/20000 [00:00<00:03, 5036.29it/s]\u001b[A\n",
      "  5%|▌         | 1019/20000 [00:00<00:03, 5067.69it/s]\u001b[A\n",
      "  8%|▊         | 1531/20000 [00:00<00:03, 5080.70it/s]\u001b[A\n",
      " 10%|█         | 2054/20000 [00:00<00:03, 5123.41it/s]\u001b[A\n",
      " 13%|█▎        | 2577/20000 [00:00<00:03, 5153.27it/s]\u001b[A\n",
      " 16%|█▌        | 3100/20000 [00:00<00:03, 5176.03it/s]\u001b[A\n",
      " 18%|█▊        | 3627/20000 [00:00<00:03, 5203.29it/s]\u001b[A\n",
      " 21%|██        | 4148/20000 [00:00<00:03, 5202.83it/s]\u001b[A\n",
      " 23%|██▎       | 4661/20000 [00:00<00:02, 5179.43it/s]\u001b[A\n",
      " 26%|██▌       | 5183/20000 [00:01<00:02, 5189.91it/s]\u001b[A\n",
      " 28%|██▊       | 5694/20000 [00:01<00:02, 5165.28it/s]\u001b[A\n",
      " 31%|███       | 6218/20000 [00:01<00:02, 5184.93it/s]\u001b[A\n",
      " 34%|███▎      | 6742/20000 [00:01<00:02, 5199.05it/s]\u001b[A\n",
      " 36%|███▋      | 7258/20000 [00:01<00:02, 5180.13it/s]\u001b[A\n",
      " 39%|███▉      | 7776/20000 [00:01<00:02, 5178.73it/s]\u001b[A\n",
      " 42%|████▏     | 8304/20000 [00:01<00:02, 5207.01it/s]\u001b[A\n",
      " 44%|████▍     | 8828/20000 [00:01<00:02, 5215.43it/s]\u001b[A\n",
      " 47%|████▋     | 9359/20000 [00:01<00:02, 5240.79it/s]\u001b[A\n",
      " 49%|████▉     | 9889/20000 [00:01<00:01, 5255.82it/s]\u001b[A\n",
      " 52%|█████▏    | 10415/20000 [00:02<00:01, 5239.76it/s]\u001b[A\n",
      " 55%|█████▍    | 10939/20000 [00:02<00:01, 5237.58it/s]\u001b[A\n",
      " 57%|█████▋    | 11467/20000 [00:02<00:01, 5247.34it/s]\u001b[A\n",
      " 60%|█████▉    | 11999/20000 [00:02<00:01, 5268.16it/s]\u001b[A\n",
      " 63%|██████▎   | 12530/20000 [00:02<00:01, 5278.84it/s]\u001b[A\n",
      " 65%|██████▌   | 13063/20000 [00:02<00:01, 5291.63it/s]\u001b[A\n",
      " 68%|██████▊   | 13593/20000 [00:02<00:01, 5262.88it/s]\u001b[A\n",
      " 71%|███████   | 14124/20000 [00:02<00:01, 5276.41it/s]\u001b[A\n",
      " 73%|███████▎  | 14654/20000 [00:02<00:01, 5283.11it/s]\u001b[A\n",
      " 76%|███████▌  | 15184/20000 [00:02<00:00, 5286.21it/s]\u001b[A\n",
      " 79%|███████▊  | 15713/20000 [00:03<00:00, 5270.59it/s]\u001b[A\n",
      " 81%|████████  | 16241/20000 [00:03<00:00, 5271.92it/s]\u001b[A\n",
      " 84%|████████▍ | 16769/20000 [00:03<00:00, 5236.57it/s]\u001b[A\n",
      " 86%|████████▋ | 17299/20000 [00:03<00:00, 5252.70it/s]\u001b[A\n",
      " 89%|████████▉ | 17826/20000 [00:03<00:00, 5255.05it/s]\u001b[A\n",
      " 92%|█████████▏| 18354/20000 [00:03<00:00, 5260.14it/s]\u001b[A\n",
      " 94%|█████████▍| 18884/20000 [00:03<00:00, 5269.67it/s]\u001b[A\n",
      " 97%|█████████▋| 19414/20000 [00:03<00:00, 5277.16it/s]\u001b[A\n",
      "100%|█████████▉| 19942/20000 [00:03<00:00, 5230.53it/s]\u001b[A\n",
      "100%|██████████| 1/1 [00:03<00:00,  3.83s/it]27.00it/s]\u001b[A\n",
      "INFO:connectivity:Applying synaptic transfer function\n",
      "INFO:connectivity:Building sparse matrix\n"
     ]
    }
   ],
   "source": [
    "N_E = 20000\n",
    "T = 0.5\n",
    "dt = 1e-3\n",
    "\n",
    "exc_phi = ReLU(g=12)\n",
    "exc = Population(N_E, tau=2e-2, phi=exc_phi.phi)\n",
    "\n",
    "# Build connectivity\n",
    "conn_EE = SparseConnectivity(source=exc, target=exc, p=0.04)\n",
    "K_EE = conn_EE.K\n",
    "\n",
    "# Generate sequences\n",
    "P, S = 1, 32\n",
    "sequences = [GaussianSequence(S,exc.size,seed=i) for i in range(P)]\n",
    "patterns = np.stack([s.inputs for s in sequences])\n",
    "\n",
    "# Plasticity rule\n",
    "plasticity = ThresholdPlasticityRule(x_f=1.5, q_f=0.8)\n",
    "\n",
    "# Synaptic transform\n",
    "synapse = LinearSynapse(conn_EE.K, A=6.3) #5.8\n",
    "\n",
    "# Store sequences\n",
    "conn_EE.store_sequences(patterns, synapse.h_EE, plasticity.f, plasticity.g)\n",
    "\n",
    "# Rate formulation 2: $ \\frac{dx}{dt} = -x + \\sum_{j} J_{ij} /phi(x_j) $\n",
    "net = RateNetwork(exc, c_EE=conn_EE, formulation=2)"
   ]
  },
  {
   "cell_type": "markdown",
   "metadata": {},
   "source": [
    "Simulate"
   ]
  },
  {
   "cell_type": "code",
   "execution_count": 4,
   "metadata": {},
   "outputs": [
    {
     "name": "stderr",
     "output_type": "stream",
     "text": [
      "INFO:network:Integrating network dynamics\n",
      "[========================================================================] 100%\n",
      "INFO:sequences:Computing overlaps\n",
      "100%|██████████| 32/32 [00:00<00:00, 279.43it/s]\n",
      "INFO:sequences:Computing correlations\n",
      "100%|██████████| 32/32 [00:13<00:00,  2.27it/s]\n",
      "INFO:root:Saving data\n"
     ]
    }
   ],
   "source": [
    "# Simulate\n",
    "r0 = np.zeros(exc.size)\n",
    "r0[:] = exc.phi(plasticity.f(patterns[0,0,:]))\n",
    "\n",
    "net.simulate(T, r0=r0)\n",
    "\n",
    "# Correlations\n",
    "overlaps = sequences[0].overlaps(net, exc, plasticity=plasticity, correlation=False)\n",
    "correlations = sequences[0].overlaps(net, exc, plasticity=plasticity, correlation=True)\n",
    "\n",
    "# Save simulation data\n",
    "logging.info(\"Saving data\")\n",
    "np.save(\n",
    "    open(\"data/data_a.npy\", \"wb\"),\n",
    "    [correlations,\n",
    "     net.exc.state.astype(np.float32),\n",
    "     None,\n",
    "     {'phi_E': exc_phi.params,\n",
    "      'phi_I': None}])"
   ]
  },
  {
   "cell_type": "markdown",
   "metadata": {},
   "source": [
    "Field statistics"
   ]
  },
  {
   "cell_type": "code",
   "execution_count": 11,
   "metadata": {},
   "outputs": [
    {
     "data": {
      "image/png": "[encoded data removed]",
      "text/plain": [
       "<Figure size 720x288 with 2 Axes>"
      ]
     },
     "metadata": {
      "needs_background": "light"
     },
     "output_type": "display_data"
    }
   ],
   "source": [
    "# Field statistics\n",
    "M = np.mean(net.exc.phi(net.exc.state)**2, axis=0)\n",
    "field = conn_EE.W.dot(net.exc.phi(net.exc.state))\n",
    "field_var = field.var(axis=0)\n",
    "field_mean = field.mean(axis=0)\n",
    "\n",
    "fig, ax = plt.subplots(1,2,figsize=(10,4))\n",
    "ax[0].plot(field_var)\n",
    "ax[1].plot(field_mean)\n",
    "ax[0].set_ylim([0,200])\n",
    "ax[0].set_title(\"Variance\")\n",
    "ax[1].set_title(\"Mean\");"
   ]
  }
 ],
 "metadata": {
  "kernelspec": {
   "display_name": "Python 3",
   "language": "python",
   "name": "python3"
  },
  "language_info": {
   "codemirror_mode": {
    "name": "ipython",
    "version": 3
   },
   "file_extension": ".py",
   "mimetype": "text/x-python",
   "name": "python",
   "nbconvert_exporter": "python",
   "pygments_lexer": "ipython3",
   "version": "3.7.5"
  }
 },
 "nbformat": 4,
 "nbformat_minor": 4
}
