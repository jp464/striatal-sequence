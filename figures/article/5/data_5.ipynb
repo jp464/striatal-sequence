{
 "cells": [
  {
   "cell_type": "code",
   "execution_count": null,
   "metadata": {},
   "outputs": [],
   "source": [
    "import argparse\n",
    "import sys\n",
    "import logging\n",
    "import numpy as np\n",
    "import scipy\n",
    "\n",
    "sys.path.insert(0, '../../../network')\n",
    "from network import Population, RateNetwork\n",
    "from transfer_functions import ErrorFunction \n",
    "from connectivity import SparseConnectivity, LinearSynapse, ThresholdPlasticityRule\n",
    "from sequences import GaussianSequence\n",
    "\n",
    "import matplotlib.pyplot as plt\n",
    "\n",
    "logging.basicConfig(level=logging.INFO)"
   ]
  },
  {
   "cell_type": "code",
   "execution_count": null,
   "metadata": {},
   "outputs": [],
   "source": [
    "datapath = \"data/data_a.npy\""
   ]
  },
  {
   "cell_type": "code",
   "execution_count": null,
   "metadata": {},
   "outputs": [],
   "source": [
    "N_E = 40000\n",
    "T = 0.4\n",
    "\n",
    "exc = Population(N_E, tau=1e-2, phi=ErrorFunction(mu=0.07, sigma=0.05).phi)\n",
    "conn = SparseConnectivity(source=exc, target=exc, p=0.005, seed=123)\n",
    "\n",
    "P, S = 2, 30\n",
    "sequences = [GaussianSequence(S,exc.size,seed=i) for i in range(P)]\n",
    "patterns = np.stack([s.inputs for s in sequences])\n",
    "\n",
    "plasticity = ThresholdPlasticityRule(x_f=1.645, q_f=0.8)\n",
    "synapse = LinearSynapse(conn.K, A=14)\n",
    "\n",
    "conn.store_sequences(patterns, synapse.h_EE, plasticity.f, plasticity.g)\n",
    "\n",
    "net = RateNetwork(exc, c_EE=conn, formulation=1)\n",
    "\n",
    "r0 = np.zeros(exc.size)\n",
    "r0[:] = exc.phi(plasticity.f(patterns[0,0,:]))\n",
    "net.simulate(T, r0=r0)\n",
    "state1 = np.copy(net.exc.state.T).astype(np.float32)\n",
    "\n",
    "net.clear_state()\n",
    "r0[:] = exc.phi(plasticity.f(patterns[1,0,:]))\n",
    "net.simulate(T, r0=r0)\n",
    "state2 = np.copy(net.exc.state.T).astype(np.float32)\n",
    "\n",
    "# Overlaps\n",
    "overlaps = sequences[1].overlaps(net, exc)\n",
    "\n",
    "# Average squared rate\n",
    "M = np.mean(net.exc.state**2, axis=0)\n",
    "\n",
    "logging.info(\"Saving data\")\n",
    "np.save(open(datapath, \"wb\"), [state1, state2])"
   ]
  }
 ],
 "metadata": {
  "kernelspec": {
   "display_name": "Python 3",
   "language": "python",
   "name": "python3"
  },
  "language_info": {
   "codemirror_mode": {
    "name": "ipython",
    "version": 3
   },
   "file_extension": ".py",
   "mimetype": "text/x-python",
   "name": "python",
   "nbconvert_exporter": "python",
   "pygments_lexer": "ipython3",
   "version": "3.7.5"
  }
 },
 "nbformat": 4,
 "nbformat_minor": 4
}
