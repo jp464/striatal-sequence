{
 "cells": [
  {
   "cell_type": "code",
   "execution_count": 1,
   "metadata": {},
   "outputs": [],
   "source": [
    "import sys\n",
    "import argparse\n",
    "import logging\n",
    "\n",
    "import numpy as np\n",
    "\n",
    "sys.path.insert(0, '../../../')\n",
    "from theory.capacity import capacity"
   ]
  },
  {
   "cell_type": "code",
   "execution_count": 2,
   "metadata": {},
   "outputs": [
    {
     "name": "stderr",
     "output_type": "stream",
     "text": [
      "100%|██████████| 81/81 [43:34<00:00, 28.82s/it]\n"
     ]
    }
   ],
   "source": [
    "mu = np.linspace(-0.3,0.3,81)\n",
    "sigma = np.linspace(0.001, 0.5, 81)[::-1]\n",
    "alpha = capacity(mu, sigma)\n",
    "np.save(open(\"data/data.np6\", \"wb\"), [[mu, sigma], alpha])"
   ]
  }
 ],
 "metadata": {
  "kernelspec": {
   "display_name": "Python 3",
   "language": "python",
   "name": "python3"
  },
  "language_info": {
   "codemirror_mode": {
    "name": "ipython",
    "version": 3
   },
   "file_extension": ".py",
   "mimetype": "text/x-python",
   "name": "python",
   "nbconvert_exporter": "python",
   "pygments_lexer": "ipython3",
   "version": "3.7.5"
  }
 },
 "nbformat": 4,
 "nbformat_minor": 4
}
