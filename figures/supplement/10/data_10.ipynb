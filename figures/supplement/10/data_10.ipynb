{
 "cells": [
  {
   "cell_type": "markdown",
   "metadata": {},
   "source": [
    "### Nonlinear learning rule capacity"
   ]
  },
  {
   "cell_type": "code",
   "execution_count": 1,
   "metadata": {},
   "outputs": [
    {
     "data": {
      "text/plain": [
       "0.0099"
      ]
     },
     "execution_count": 1,
     "metadata": {},
     "output_type": "execute_result"
    }
   ],
   "source": [
    "q_g = 0.01\n",
    "q_g*(1-q_g)"
   ]
  },
  {
   "cell_type": "code",
   "execution_count": 2,
   "metadata": {},
   "outputs": [],
   "source": [
    "import sys\n",
    "sys.path.insert(0, '/home/mhg19/Manuscripts/PNAS19/network')"
   ]
  },
  {
   "cell_type": "code",
   "execution_count": 3,
   "metadata": {},
   "outputs": [],
   "source": [
    "import pdb\n",
    "import time\n",
    "import itertools\n",
    "import warnings\n",
    "from tqdm import tqdm\n",
    "import ray\n",
    "import numpy as np\n",
    "from scipy.special import erf\n",
    "from scipy.stats import pearsonr, norm"
   ]
  },
  {
   "cell_type": "code",
   "execution_count": 4,
   "metadata": {},
   "outputs": [],
   "source": [
    "from network import Population, RateNetwork\n",
    "from transfer_functions import ErrorFunction, StepFunction\n",
    "from connectivity import SparseConnectivity, LinearSynapse, ThresholdPlasticityRule\n",
    "from sequences import GaussianSequence"
   ]
  },
  {
   "cell_type": "code",
   "execution_count": 5,
   "metadata": {},
   "outputs": [
    {
     "data": {
      "text/plain": [
       "array(1.)"
      ]
     },
     "execution_count": 5,
     "metadata": {},
     "output_type": "execute_result"
    }
   ],
   "source": [
    "StepFunction(mu=0.01).phi(0.1)"
   ]
  },
  {
   "cell_type": "code",
   "execution_count": null,
   "metadata": {},
   "outputs": [],
   "source": []
  },
  {
   "cell_type": "code",
   "execution_count": 6,
   "metadata": {},
   "outputs": [
    {
     "data": {
      "text/plain": [
       "{'node_ip_address': '10.122.160.26',\n",
       " 'redis_address': '10.122.160.26:6382',\n",
       " 'object_store_address': '/tmp/ray/session_2020-02-25_17-43-49_790168_1820902/sockets/plasma_store',\n",
       " 'raylet_socket_name': '/tmp/ray/session_2020-02-25_17-43-49_790168_1820902/sockets/raylet',\n",
       " 'webui_url': 'http://10.122.160.26:8080/?token=fc0c195f651bd6849b08e5e1425eff451fb0c537a13685e0',\n",
       " 'session_dir': '/tmp/ray/session_2020-02-25_17-43-49_790168_1820902'}"
      ]
     },
     "execution_count": 6,
     "metadata": {},
     "output_type": "execute_result"
    }
   ],
   "source": [
    "ray.init(redis_address=\"10.122.160.26:6382\", include_webui=True, ignore_reinit_error=True)"
   ]
  },
  {
   "cell_type": "code",
   "execution_count": 7,
   "metadata": {},
   "outputs": [
    {
     "name": "stdout",
     "output_type": "stream",
     "text": [
      "{'10.122.160.35', '10.122.160.34', '10.122.160.27', '10.122.160.21', '10.122.160.26', '10.122.160.25'}\n"
     ]
    }
   ],
   "source": [
    "@ray.remote\n",
    "def f():\n",
    "    time.sleep(0.01)\n",
    "    return ray.services.get_node_ip_address()\n",
    "\n",
    "# Get a list of the IP addresses of the nodes that have joined the cluster.\n",
    "print(set(ray.get([f.remote() for _ in range(1000)])))"
   ]
  },
  {
   "cell_type": "markdown",
   "metadata": {},
   "source": [
    "Single network simulation"
   ]
  },
  {
   "cell_type": "code",
   "execution_count": 8,
   "metadata": {},
   "outputs": [
    {
     "data": {
      "text/plain": [
       "(0.010682039736956632, 0.0018723015915027951)"
      ]
     },
     "execution_count": 8,
     "metadata": {},
     "output_type": "execute_result"
    }
   ],
   "source": [
    "import scipy\n",
    "x_f = 1.845\n",
    "q_g = scipy.stats.norm.cdf(x_f) # x_f == x_g\n",
    "q_f = 0.80\n",
    "p = 1 - q_g\n",
    "q = 1 - q_f\n",
    "p_0 = p*(1-p)*(p*(1-q)**2 + (1-p)*q**2)\n",
    "theta = 0.00002\n",
    "theta_0 = theta/p_0\n",
    "theta_0, p_0"
   ]
  },
  {
   "cell_type": "code",
   "execution_count": 9,
   "metadata": {},
   "outputs": [
    {
     "data": {
      "text/plain": [
       "0.04120305816268067"
      ]
     },
     "execution_count": 9,
     "metadata": {},
     "output_type": "execute_result"
    }
   ],
   "source": [
    "E_x_f = -0.15\n",
    "q_f = 0.5*erf(x_f/np.sqrt(2)) + 0.5 + E_x_f\n",
    "plasticity = ThresholdPlasticityRule(x_f=x_f, q_f=q_f)\n",
    "gamma = scipy.stats.norm.expect(lambda x: plasticity.f(np.asarray(x))**2)* \\\n",
    "        scipy.stats.norm.expect(lambda x: plasticity.g(np.asarray(x))**2)\n",
    "np.sqrt(gamma)"
   ]
  },
  {
   "cell_type": "code",
   "execution_count": 10,
   "metadata": {},
   "outputs": [
    {
     "data": {
      "text/plain": [
       "1.4019678904657226e-18"
      ]
     },
     "execution_count": 10,
     "metadata": {},
     "output_type": "execute_result"
    }
   ],
   "source": [
    "scipy.stats.norm.expect(lambda x: plasticity.f(np.asarray(x)))**2 * \\\n",
    "scipy.stats.norm.expect(lambda x: plasticity.g(np.asarray(x)))**2"
   ]
  },
  {
   "cell_type": "code",
   "execution_count": 11,
   "metadata": {},
   "outputs": [
    {
     "data": {
      "text/plain": [
       "0.0016"
      ]
     },
     "execution_count": 11,
     "metadata": {},
     "output_type": "execute_result"
    }
   ],
   "source": [
    "0.0016"
   ]
  },
  {
   "cell_type": "markdown",
   "metadata": {},
   "source": [
    "Std. dev. of single connected synapse"
   ]
  },
  {
   "cell_type": "code",
   "execution_count": 12,
   "metadata": {},
   "outputs": [
    {
     "data": {
      "text/plain": [
       "0.0008379218918333308"
      ]
     },
     "execution_count": 12,
     "metadata": {},
     "output_type": "execute_result"
    }
   ],
   "source": [
    "np.sqrt(15/200.*p_0)/np.sqrt(200)"
   ]
  },
  {
   "cell_type": "code",
   "execution_count": 13,
   "metadata": {},
   "outputs": [
    {
     "data": {
      "text/plain": [
       "0.01648122326507227"
      ]
     },
     "execution_count": 13,
     "metadata": {},
     "output_type": "execute_result"
    }
   ],
   "source": [
    "np.sqrt(32/200.*gamma)"
   ]
  },
  {
   "cell_type": "code",
   "execution_count": 14,
   "metadata": {},
   "outputs": [],
   "source": [
    "#c = 0.005\n",
    "#phi = StepFunction(mu=theta_0)\n",
    "#exc = Population(40000, tau=1e-2, phi=phi.phi)\n",
    "#conn = SparseConnectivity(source=exc, target=exc, p=c, disable_pbar=True)\n",
    "#synapse = LinearSynapse(200, A=1)\n",
    "#sequences = [GaussianSequence(16,exc.size,seed=i) for i in range(1)] \n",
    "#patterns = np.stack([s.inputs for s in sequences])\n",
    "#conn.store_sequences(patterns, synapse.h_EE, plasticity.f, plasticity.g)"
   ]
  },
  {
   "cell_type": "code",
   "execution_count": 15,
   "metadata": {},
   "outputs": [],
   "source": [
    "#import matplotlib.pyplot as plt\n",
    "#%matplotlib inline\n",
    "#plt.hist(conn.W.data, bins=100);"
   ]
  },
  {
   "cell_type": "code",
   "execution_count": 16,
   "metadata": {},
   "outputs": [],
   "source": [
    "#q_g*q_f, q_g*-(1-q_f), -(1-q_g)*q_f, (1-q_g)*(1-q_f)"
   ]
  },
  {
   "cell_type": "code",
   "execution_count": 17,
   "metadata": {},
   "outputs": [],
   "source": [
    "#conn.W.data.std(), conn.W.data.mean()"
   ]
  },
  {
   "cell_type": "code",
   "execution_count": 18,
   "metadata": {},
   "outputs": [],
   "source": [
    "def simulate(P, theta_0, x_f, q_f, N=50000, debug=False):\n",
    "    \n",
    "    warnings.filterwarnings('ignore', message='An input array is constant; the correlation coefficent is not defined.')\n",
    "    warnings.filterwarnings('ignore', message='An input array is nearly constant; the computed correlation coefficent may be inaccurate.')\n",
    "    \n",
    "    # Mapping to Tsodyks '88\n",
    "    q_g = scipy.stats.norm.cdf(x_f) # x_f == x_g\n",
    "    p = 1 - q_g\n",
    "    q = 1 - q_f\n",
    "    p_0 = p*(1-p)*(p*(1-q)**2 + (1-p)*q**2)\n",
    "    theta = theta_0*p_0\n",
    "    #theta_0 = theta/p_0\n",
    "    #phi = StepFunction(mu=theta_0)\n",
    "    phi = StepFunction(mu=theta)\n",
    "    exc = Population(N, tau=1e-2, phi=phi.phi)\n",
    "    c = 0.005#np.sqrt(exc.size)/exc.size\n",
    "    sequences = [GaussianSequence(16,exc.size,seed=1)]\n",
    "    patterns = np.stack([s.inputs for s in sequences])\n",
    "    plasticity = ThresholdPlasticityRule(x_f=x_f, q_f=q_f)\n",
    "    conn = SparseConnectivity(source=exc, target=exc, p=c, disable_pbar=True)\n",
    "    synapse = LinearSynapse(conn.K, A=1)\n",
    "    conn.store_sequences(patterns, synapse.h_EE, plasticity.f, plasticity.g)\n",
    "    #print(x_f, q_f, conn.W.data.mean(), conn.W.data.std())\n",
    "    #conn.store_gaussian(sigma=np.sqrt(alpha*p_0)/np.sqrt(conn.K))\n",
    "    if P > 0:\n",
    "        sequences2 = [GaussianSequence(P,exc.size,seed=2)]\n",
    "        patterns2 = np.stack([s.inputs for s in sequences2])\n",
    "        conn.store_sequences(patterns2, synapse.h_EE, plasticity.f, plasticity.g)\n",
    "    \n",
    "    net = RateNetwork(\n",
    "        exc,\n",
    "        c_EE=conn,\n",
    "        formulation=1,\n",
    "        disable_pbar=True) \n",
    "    net.simulate_euler(\n",
    "        t=0.4,\n",
    "        r0=exc.phi(plasticity.f(patterns[0,0,:])))\n",
    "    overlaps = sequences[0].overlaps(\n",
    "        net,\n",
    "        exc,\n",
    "        plasticity=plasticity,\n",
    "        correlation=False,\n",
    "        disable_pbar=True)\n",
    "    corr_P = np.asarray([\n",
    "        pearsonr(\n",
    "            plasticity.g(patterns[0,-1,:]),\n",
    "            net.exc.state[:,t])[0] \n",
    "                for t in range(net.exc.state.shape[1])])\n",
    "    #if debug:\n",
    "    #    pdb.set_trace()\n",
    "    return corr_P, overlaps"
   ]
  },
  {
   "cell_type": "markdown",
   "metadata": {},
   "source": [
    "Bisection method"
   ]
  },
  {
   "cell_type": "code",
   "execution_count": 19,
   "metadata": {},
   "outputs": [],
   "source": [
    "def run_bisection(\n",
    "        theta_0=0.01,\n",
    "        x_f=1.645,\n",
    "        E_x_f=-0.15,\n",
    "        P_lower=0.0,\n",
    "        P_upper=0.5,\n",
    "        N=40000,\n",
    "        threshold=0.05,\n",
    "        tol=0.001,\n",
    "        debug=False):\n",
    "    \n",
    "    from scipy.special import erf\n",
    "    \n",
    "    def criterion(correlations):\n",
    "        corr_P_max = np.nanmax(correlations)\n",
    "        return corr_P_max > threshold\n",
    "    \n",
    "    q_f = 0.5*erf(x_f/np.sqrt(2)) + 0.5 + E_x_f\n",
    "    \n",
    "    P_lower_ = P_lower\n",
    "    P_upper_ = P_upper\n",
    "    P_final = np.NaN\n",
    "    errcode = 0\n",
    "    \n",
    "    if debug:\n",
    "        print('theta_0', theta_0, 'E_x_f', E_x_f)\n",
    "        \n",
    "    correlation_P, overlaps = simulate(\n",
    "        P_lower,\n",
    "        theta_0,\n",
    "        x_f,\n",
    "        q_f, N, debug)\n",
    "    seq_lower = criterion(correlation_P)\n",
    "    if debug:\n",
    "        print(\"Seq_lower\", seq_lower, P_lower, P_upper, np.nanmax(correlation_P))\n",
    "        \n",
    "    if seq_lower:    \n",
    "        correlation_P, overlaps = simulate(\n",
    "            P_upper, theta_0, x_f, q_f, N, debug)\n",
    "        seq_upper = criterion(correlation_P)\n",
    "        if debug:\n",
    "            print(\"Seq_upper\", seq_upper, P_lower, P_upper, np.nanmax(correlation_P))\n",
    "        \n",
    "        while True:\n",
    "            if seq_lower and seq_upper:\n",
    "                P_lower = P_upper\n",
    "                P_upper = P_lower + 32 #+ 0.1\n",
    "                correlation_P, overlaps = simulate(\n",
    "                    P_upper, theta_0, x_f, q_f, N, debug)\n",
    "                seq_upper = criterion(correlation_P)\n",
    "                if debug:\n",
    "                    print(\"Seq_upper\", seq_upper, P_lower, P_upper, np.nanmax(correlation_P))\n",
    "            elif not seq_lower and seq_upper:\n",
    "                # Failed to converge\n",
    "                errcode = 2\n",
    "                break\n",
    "            else:\n",
    "                P_mid = int((P_lower + P_upper) / 2.)\n",
    "                correlation_P, overlaps = simulate(\n",
    "                    P_mid, theta_0, x_f, q_f, N, debug)\n",
    "                seq_mid = criterion(correlation_P)\n",
    "                if debug:\n",
    "                    print(\"Seq_mid\", seq_mid, P_lower, P_mid, P_upper, np.nanmax(correlation_P))\n",
    "                if seq_lower and not seq_upper:\n",
    "                    # TODO: Should not need the first two conditions\n",
    "                    # if rounding error is not present\n",
    "                    if P_mid == P_lower: #np.abs(P_mid - P_lower) < tol:\n",
    "                        P_final = P_lower\n",
    "                        break # Converged\n",
    "                    elif P_mid == P_upper: #np.abs(P_mid - P_upper) < tol:\n",
    "                        P_final = P_lower\n",
    "                        break # Converged\n",
    "                    elif P_lower == P_upper: #np.abs(P_lower - P_upper) < tol:\n",
    "                        P_final = P_lower\n",
    "                        break # Converged\n",
    "                    else:\n",
    "                        if seq_mid:\n",
    "                            P_lower = P_mid\n",
    "                        else:\n",
    "                            P_upper = P_mid\n",
    "                else:\n",
    "                    # Failed to converge\n",
    "                    errcode = 3\n",
    "                    break\n",
    "            \n",
    "    return {\n",
    "        'theta_0': theta_0,\n",
    "        'x_f': x_f,\n",
    "        'E_x_f': E_x_f,\n",
    "        'P_lower_': P_lower_,\n",
    "        'P_upper_': P_upper_,\n",
    "        'P_lower': P_lower,\n",
    "        'P_upper': P_upper,\n",
    "        'P_final': P_final,\n",
    "        'N': N,\n",
    "        'errcode': errcode,\n",
    "        'criterion_threshold': threshold,\n",
    "        'overlaps': overlaps,\n",
    "    }"
   ]
  },
  {
   "cell_type": "markdown",
   "metadata": {},
   "source": [
    "Parameter exploration"
   ]
  },
  {
   "cell_type": "code",
   "execution_count": 20,
   "metadata": {},
   "outputs": [],
   "source": [
    "N = 40000\n",
    "theta_0 = np.linspace(-7,7,28)#np.linspace(-0.1,0.1,100)#0.004 #np.asarray([0.04,0.06,0.08,0.1,0.12])[::-1]/14.\n",
    "coding_levels = np.asarray([0.5, 0.1, 0.05])\n",
    "x_f = [norm.ppf(x) for x in 1-coding_levels]\n",
    "E_x_f = [-0.15,-0.1,-0.05]\n",
    "P_lower = 0\n",
    "P_upper = 64\n",
    "threshold = 0.025 #0.0025 #0.025\n",
    "\n",
    "combinations = list(itertools.product(\n",
    "    np.atleast_1d(theta_0),\n",
    "    np.atleast_1d(x_f),\n",
    "    np.atleast_1d(E_x_f),\n",
    "    np.atleast_1d(N),\n",
    "    np.atleast_1d(threshold)))\n",
    "\n",
    "parallel = True\n",
    "debug = False\n",
    "object_ids = []\n",
    "run_bisection_ray = ray.remote(num_cpus=4)(run_bisection)\n",
    "\n",
    "n = 0\n",
    "for theta_0_, x_f_, E_x_f_, N_, threshold_ in combinations[:]:\n",
    "    if parallel:\n",
    "        func = run_bisection_ray.remote\n",
    "    else:\n",
    "        func = run_bisection\n",
    "    object_ids.append(func(\n",
    "        theta_0_,\n",
    "        x_f_,\n",
    "        E_x_f_,\n",
    "        P_lower,\n",
    "        P_upper,\n",
    "        N_,\n",
    "        threshold_,\n",
    "        debug=debug))\n",
    "    n += 1"
   ]
  },
  {
   "cell_type": "markdown",
   "metadata": {},
   "source": [
    "Collect and store results"
   ]
  },
  {
   "cell_type": "code",
   "execution_count": 21,
   "metadata": {},
   "outputs": [
    {
     "name": "stderr",
     "output_type": "stream",
     "text": [
      " 58%|█████▊    | 146/252 [15:15<09:42,  5.50s/it]  "
     ]
    },
    {
     "name": "stdout",
     "output_type": "stream",
     "text": [
      "\u001b[2m\u001b[36m(pid=2879506, ip=10.122.160.34)\u001b[0m /home/mhg19/venv/lib64/python3.7/site-packages/ray/workers/default_worker.py:15: RuntimeWarning: All-NaN slice encountered\n",
      "\u001b[2m\u001b[36m(pid=2879506, ip=10.122.160.34)\u001b[0m   parser = argparse.ArgumentParser(\n"
     ]
    },
    {
     "name": "stderr",
     "output_type": "stream",
     "text": [
      " 60%|█████▉    | 151/252 [15:43<10:40,  6.34s/it]"
     ]
    },
    {
     "name": "stdout",
     "output_type": "stream",
     "text": [
      "\u001b[2m\u001b[36m(pid=2879507, ip=10.122.160.34)\u001b[0m /home/mhg19/venv/lib64/python3.7/site-packages/ray/workers/default_worker.py:15: RuntimeWarning: All-NaN slice encountered\n",
      "\u001b[2m\u001b[36m(pid=2879507, ip=10.122.160.34)\u001b[0m   parser = argparse.ArgumentParser(\n"
     ]
    },
    {
     "name": "stderr",
     "output_type": "stream",
     "text": [
      " 88%|████████▊ | 221/252 [22:59<02:29,  4.81s/it]"
     ]
    },
    {
     "name": "stdout",
     "output_type": "stream",
     "text": [
      "\u001b[2m\u001b[36m(pid=653164, ip=10.122.160.25)\u001b[0m /home/mhg19/venv/lib64/python3.7/site-packages/ray/workers/default_worker.py:15: RuntimeWarning: All-NaN slice encountered\n",
      "\u001b[2m\u001b[36m(pid=653164, ip=10.122.160.25)\u001b[0m   parser = argparse.ArgumentParser(\n"
     ]
    },
    {
     "name": "stderr",
     "output_type": "stream",
     "text": [
      " 92%|█████████▏| 231/252 [23:23<00:54,  2.61s/it]"
     ]
    },
    {
     "name": "stdout",
     "output_type": "stream",
     "text": [
      "\u001b[2m\u001b[36m(pid=1820956)\u001b[0m /home/mhg19/.local/lib/python3.7/site-packages/ray/workers/default_worker.py:15: RuntimeWarning: All-NaN slice encountered\n",
      "\u001b[2m\u001b[36m(pid=1820956)\u001b[0m   parser = argparse.ArgumentParser(\n"
     ]
    },
    {
     "name": "stderr",
     "output_type": "stream",
     "text": [
      " 92%|█████████▏| 233/252 [23:29<01:00,  3.20s/it]"
     ]
    },
    {
     "name": "stdout",
     "output_type": "stream",
     "text": [
      "\u001b[2m\u001b[36m(pid=2879502, ip=10.122.160.34)\u001b[0m /home/mhg19/venv/lib64/python3.7/site-packages/ray/workers/default_worker.py:15: RuntimeWarning: All-NaN slice encountered\n",
      "\u001b[2m\u001b[36m(pid=2879502, ip=10.122.160.34)\u001b[0m   parser = argparse.ArgumentParser(\n"
     ]
    },
    {
     "name": "stderr",
     "output_type": "stream",
     "text": [
      " 96%|█████████▌| 241/252 [23:48<00:28,  2.59s/it]"
     ]
    },
    {
     "name": "stdout",
     "output_type": "stream",
     "text": [
      "\u001b[2m\u001b[36m(pid=2879502, ip=10.122.160.34)\u001b[0m /home/mhg19/venv/lib64/python3.7/site-packages/ray/workers/default_worker.py:15: RuntimeWarning: All-NaN slice encountered\n",
      "\u001b[2m\u001b[36m(pid=2879502, ip=10.122.160.34)\u001b[0m   parser = argparse.ArgumentParser(\n"
     ]
    },
    {
     "name": "stderr",
     "output_type": "stream",
     "text": [
      "100%|██████████| 252/252 [28:37<00:00, 28.78s/it]2020-02-25 18:12:39,711\tERROR worker.py:1521 -- print_logs: Connection closed by server.\n",
      "2020-02-25 18:12:39,716\tERROR worker.py:1621 -- listen_error_messages_raylet: Connection closed by server.\n",
      "2020-02-25 18:12:39,716\tERROR import_thread.py:89 -- ImportThread: Connection closed by server.\n"
     ]
    },
    {
     "name": "stdout",
     "output_type": "stream",
     "text": [
      "\u001b[2m\u001b[36m(pid=1820955)\u001b[0m Traceback (most recent call last):\n",
      "\u001b[2m\u001b[36m(pid=1820955)\u001b[0m   File \"/home/mhg19/.local/lib/python3.7/site-packages/ray/workers/default_worker.py\", line 98, in <module>\n",
      "\u001b[2m\u001b[36m(pid=1820955)\u001b[0m     ray.worker.global_worker.main_loop()\n",
      "\u001b[2m\u001b[36m(pid=1820955)\u001b[0m   File \"/home/mhg19/.local/lib/python3.7/site-packages/ray/worker.py\", line 954, in main_loop\n",
      "\u001b[2m\u001b[36m(pid=1820955)\u001b[0m     task = self._get_next_task_from_raylet()\n",
      "\u001b[2m\u001b[36m(pid=1820955)\u001b[0m   File \"/home/mhg19/.local/lib/python3.7/site-packages/ray/worker.py\", line 937, in _get_next_task_from_raylet\n",
      "\u001b[2m\u001b[36m(pid=1820955)\u001b[0m     task = self.raylet_client.get_task()\n",
      "\u001b[2m\u001b[36m(pid=1820955)\u001b[0m   File \"python/ray/_raylet.pyx\", line 335, in ray._raylet.RayletClient.get_task\n",
      "\u001b[2m\u001b[36m(pid=1820955)\u001b[0m   File \"python/ray/_raylet.pyx\", line 109, in ray._raylet.check_status\n",
      "\u001b[2m\u001b[36m(pid=1820955)\u001b[0m ray.exceptions.RayletError: The Raylet died with this message: [RayletClient] Raylet connection closed.\n",
      "\u001b[2m\u001b[36m(pid=1820955)\u001b[0m \n",
      "\u001b[2m\u001b[36m(pid=1820955)\u001b[0m During handling of the above exception, another exception occurred:\n",
      "\u001b[2m\u001b[36m(pid=1820955)\u001b[0m \n",
      "\u001b[2m\u001b[36m(pid=1820955)\u001b[0m Traceback (most recent call last):\n",
      "\u001b[2m\u001b[36m(pid=1820955)\u001b[0m   File \"/home/mhg19/.local/lib/python3.7/site-packages/ray/workers/default_worker.py\", line 105, in <module>\n",
      "\u001b[2m\u001b[36m(pid=1820955)\u001b[0m     job_id=None)\n",
      "\u001b[2m\u001b[36m(pid=1820955)\u001b[0m   File \"/home/mhg19/.local/lib/python3.7/site-packages/ray/utils.py\", line 67, in push_error_to_driver\n",
      "\u001b[2m\u001b[36m(pid=1820955)\u001b[0m     worker.raylet_client.push_error(job_id, error_type, message, time.time())\n",
      "\u001b[2m\u001b[36m(pid=1820955)\u001b[0m   File \"python/ray/_raylet.pyx\", line 371, in ray._raylet.RayletClient.push_error\n",
      "\u001b[2m\u001b[36m(pid=1820955)\u001b[0m   File \"python/ray/_raylet.pyx\", line 109, in ray._raylet.check_status\n",
      "\u001b[2m\u001b[36m(pid=1820955)\u001b[0m ray.exceptions.RayletError: The Raylet died with this message: [RayletClient] Connection closed unexpectedly.\n",
      "\u001b[2m\u001b[36m(pid=1820957)\u001b[0m Traceback (most recent call last):\n",
      "\u001b[2m\u001b[36m(pid=1820957)\u001b[0m   File \"/home/mhg19/.local/lib/python3.7/site-packages/ray/workers/default_worker.py\", line 98, in <module>\n",
      "\u001b[2m\u001b[36m(pid=1820957)\u001b[0m     ray.worker.global_worker.main_loop()\n",
      "\u001b[2m\u001b[36m(pid=1820957)\u001b[0m   File \"/home/mhg19/.local/lib/python3.7/site-packages/ray/worker.py\", line 954, in main_loop\n",
      "\u001b[2m\u001b[36m(pid=1820957)\u001b[0m     task = self._get_next_task_from_raylet()\n",
      "\u001b[2m\u001b[36m(pid=1820957)\u001b[0m   File \"/home/mhg19/.local/lib/python3.7/site-packages/ray/worker.py\", line 937, in _get_next_task_from_raylet\n",
      "\u001b[2m\u001b[36m(pid=1820957)\u001b[0m     task = self.raylet_client.get_task()\n",
      "\u001b[2m\u001b[36m(pid=1820957)\u001b[0m   File \"python/ray/_raylet.pyx\", line 335, in ray._raylet.RayletClient.get_task\n",
      "\u001b[2m\u001b[36m(pid=1820957)\u001b[0m   File \"python/ray/_raylet.pyx\", line 109, in ray._raylet.check_status\n",
      "\u001b[2m\u001b[36m(pid=1820957)\u001b[0m ray.exceptions.RayletError: The Raylet died with this message: [RayletClient] Raylet connection closed.\n",
      "\u001b[2m\u001b[36m(pid=1820957)\u001b[0m \n",
      "\u001b[2m\u001b[36m(pid=1820957)\u001b[0m During handling of the above exception, another exception occurred:\n",
      "\u001b[2m\u001b[36m(pid=1820957)\u001b[0m \n",
      "\u001b[2m\u001b[36m(pid=1820957)\u001b[0m Traceback (most recent call last):\n",
      "\u001b[2m\u001b[36m(pid=1820957)\u001b[0m   File \"/home/mhg19/.local/lib/python3.7/site-packages/ray/workers/default_worker.py\", line 105, in <module>\n",
      "\u001b[2m\u001b[36m(pid=1820957)\u001b[0m     job_id=None)\n",
      "\u001b[2m\u001b[36m(pid=1820957)\u001b[0m   File \"/home/mhg19/.local/lib/python3.7/site-packages/ray/utils.py\", line 67, in push_error_to_driver\n",
      "\u001b[2m\u001b[36m(pid=1820957)\u001b[0m     worker.raylet_client.push_error(job_id, error_type, message, time.time())\n",
      "\u001b[2m\u001b[36m(pid=1820957)\u001b[0m   File \"python/ray/_raylet.pyx\", line 371, in ray._raylet.RayletClient.push_error\n",
      "\u001b[2m\u001b[36m(pid=1820957)\u001b[0m   File \"python/ray/_raylet.pyx\", line 109, in ray._raylet.check_status\n",
      "\u001b[2m\u001b[36m(pid=1820957)\u001b[0m ray.exceptions.RayletError: The Raylet died with this message: [RayletClient] Connection closed unexpectedly.\n",
      "\u001b[2m\u001b[36m(pid=1820956)\u001b[0m Traceback (most recent call last):\n",
      "\u001b[2m\u001b[36m(pid=1820956)\u001b[0m   File \"/home/mhg19/.local/lib/python3.7/site-packages/ray/workers/default_worker.py\", line 98, in <module>\n",
      "\u001b[2m\u001b[36m(pid=1820956)\u001b[0m     ray.worker.global_worker.main_loop()\n",
      "\u001b[2m\u001b[36m(pid=1820956)\u001b[0m   File \"/home/mhg19/.local/lib/python3.7/site-packages/ray/worker.py\", line 954, in main_loop\n",
      "\u001b[2m\u001b[36m(pid=1820956)\u001b[0m     task = self._get_next_task_from_raylet()\n",
      "\u001b[2m\u001b[36m(pid=1820956)\u001b[0m   File \"/home/mhg19/.local/lib/python3.7/site-packages/ray/worker.py\", line 937, in _get_next_task_from_raylet\n",
      "\u001b[2m\u001b[36m(pid=1820956)\u001b[0m     task = self.raylet_client.get_task()\n",
      "\u001b[2m\u001b[36m(pid=1820956)\u001b[0m   File \"python/ray/_raylet.pyx\", line 335, in ray._raylet.RayletClient.get_task\n",
      "\u001b[2m\u001b[36m(pid=1820956)\u001b[0m   File \"python/ray/_raylet.pyx\", line 109, in ray._raylet.check_status\n",
      "\u001b[2m\u001b[36m(pid=1820956)\u001b[0m ray.exceptions.RayletError: The Raylet died with this message: [RayletClient] Raylet connection closed.\n",
      "\u001b[2m\u001b[36m(pid=1820956)\u001b[0m \n",
      "\u001b[2m\u001b[36m(pid=1820956)\u001b[0m During handling of the above exception, another exception occurred:\n",
      "\u001b[2m\u001b[36m(pid=1820956)\u001b[0m \n",
      "\u001b[2m\u001b[36m(pid=1820956)\u001b[0m Traceback (most recent call last):\n",
      "\u001b[2m\u001b[36m(pid=1820956)\u001b[0m   File \"/home/mhg19/.local/lib/python3.7/site-packages/ray/workers/default_worker.py\", line 105, in <module>\n",
      "\u001b[2m\u001b[36m(pid=1820956)\u001b[0m     job_id=None)\n",
      "\u001b[2m\u001b[36m(pid=1820956)\u001b[0m   File \"/home/mhg19/.local/lib/python3.7/site-packages/ray/utils.py\", line 67, in push_error_to_driver\n",
      "\u001b[2m\u001b[36m(pid=1820956)\u001b[0m     worker.raylet_client.push_error(job_id, error_type, message, time.time())\n",
      "\u001b[2m\u001b[36m(pid=1820956)\u001b[0m   File \"python/ray/_raylet.pyx\", line 371, in ray._raylet.RayletClient.push_error\n",
      "\u001b[2m\u001b[36m(pid=1820956)\u001b[0m   File \"python/ray/_raylet.pyx\", line 109, in ray._raylet.check_status\n",
      "\u001b[2m\u001b[36m(pid=1820956)\u001b[0m ray.exceptions.RayletError: The Raylet died with this message: [RayletClient] Connection closed unexpectedly.\n",
      "\u001b[2m\u001b[36m(pid=1820963)\u001b[0m Traceback (most recent call last):\n",
      "\u001b[2m\u001b[36m(pid=1820963)\u001b[0m   File \"/home/mhg19/.local/lib/python3.7/site-packages/ray/workers/default_worker.py\", line 98, in <module>\n",
      "\u001b[2m\u001b[36m(pid=1820963)\u001b[0m     ray.worker.global_worker.main_loop()\n",
      "\u001b[2m\u001b[36m(pid=1820963)\u001b[0m   File \"/home/mhg19/.local/lib/python3.7/site-packages/ray/worker.py\", line 954, in main_loop\n",
      "\u001b[2m\u001b[36m(pid=1820963)\u001b[0m     task = self._get_next_task_from_raylet()\n",
      "\u001b[2m\u001b[36m(pid=1820963)\u001b[0m   File \"/home/mhg19/.local/lib/python3.7/site-packages/ray/worker.py\", line 937, in _get_next_task_from_raylet\n",
      "\u001b[2m\u001b[36m(pid=1820963)\u001b[0m     task = self.raylet_client.get_task()\n",
      "\u001b[2m\u001b[36m(pid=1820963)\u001b[0m   File \"python/ray/_raylet.pyx\", line 335, in ray._raylet.RayletClient.get_task\n",
      "\u001b[2m\u001b[36m(pid=1820963)\u001b[0m   File \"python/ray/_raylet.pyx\", line 109, in ray._raylet.check_status\n",
      "\u001b[2m\u001b[36m(pid=1820963)\u001b[0m ray.exceptions.RayletError: The Raylet died with this message: [RayletClient] Raylet connection closed.\n",
      "\u001b[2m\u001b[36m(pid=1820963)\u001b[0m \n",
      "\u001b[2m\u001b[36m(pid=1820963)\u001b[0m During handling of the above exception, another exception occurred:\n",
      "\u001b[2m\u001b[36m(pid=1820963)\u001b[0m \n",
      "\u001b[2m\u001b[36m(pid=1820963)\u001b[0m Traceback (most recent call last):\n",
      "\u001b[2m\u001b[36m(pid=1820963)\u001b[0m   File \"/home/mhg19/.local/lib/python3.7/site-packages/ray/workers/default_worker.py\", line 105, in <module>\n",
      "\u001b[2m\u001b[36m(pid=1820963)\u001b[0m     job_id=None)\n",
      "\u001b[2m\u001b[36m(pid=1820963)\u001b[0m   File \"/home/mhg19/.local/lib/python3.7/site-packages/ray/utils.py\", line 67, in push_error_to_driver\n",
      "\u001b[2m\u001b[36m(pid=1820963)\u001b[0m     worker.raylet_client.push_error(job_id, error_type, message, time.time())\n",
      "\u001b[2m\u001b[36m(pid=1820963)\u001b[0m   File \"python/ray/_raylet.pyx\", line 371, in ray._raylet.RayletClient.push_error\n",
      "\u001b[2m\u001b[36m(pid=1820963)\u001b[0m   File \"python/ray/_raylet.pyx\", line 109, in ray._raylet.check_status\n",
      "\u001b[2m\u001b[36m(pid=1820963)\u001b[0m ray.exceptions.RayletError: The Raylet died with this message: [RayletClient] Connection closed unexpectedly.\n",
      "\u001b[2m\u001b[36m(pid=1820954)\u001b[0m Traceback (most recent call last):\n",
      "\u001b[2m\u001b[36m(pid=1820954)\u001b[0m   File \"/home/mhg19/.local/lib/python3.7/site-packages/ray/workers/default_worker.py\", line 98, in <module>\n",
      "\u001b[2m\u001b[36m(pid=1820954)\u001b[0m     ray.worker.global_worker.main_loop()\n",
      "\u001b[2m\u001b[36m(pid=1820954)\u001b[0m   File \"/home/mhg19/.local/lib/python3.7/site-packages/ray/worker.py\", line 954, in main_loop\n",
      "\u001b[2m\u001b[36m(pid=1820954)\u001b[0m     task = self._get_next_task_from_raylet()\n",
      "\u001b[2m\u001b[36m(pid=1820954)\u001b[0m   File \"/home/mhg19/.local/lib/python3.7/site-packages/ray/worker.py\", line 937, in _get_next_task_from_raylet\n",
      "\u001b[2m\u001b[36m(pid=1820954)\u001b[0m     task = self.raylet_client.get_task()\n",
      "\u001b[2m\u001b[36m(pid=1820954)\u001b[0m   File \"python/ray/_raylet.pyx\", line 335, in ray._raylet.RayletClient.get_task\n",
      "\u001b[2m\u001b[36m(pid=1820954)\u001b[0m   File \"python/ray/_raylet.pyx\", line 109, in ray._raylet.check_status\n",
      "\u001b[2m\u001b[36m(pid=1820954)\u001b[0m ray.exceptions.RayletError: The Raylet died with this message: [RayletClient] Raylet connection closed.\n",
      "\u001b[2m\u001b[36m(pid=1820954)\u001b[0m \n",
      "\u001b[2m\u001b[36m(pid=1820954)\u001b[0m During handling of the above exception, another exception occurred:\n",
      "\u001b[2m\u001b[36m(pid=1820954)\u001b[0m \n",
      "\u001b[2m\u001b[36m(pid=1820954)\u001b[0m Traceback (most recent call last):\n",
      "\u001b[2m\u001b[36m(pid=1820954)\u001b[0m   File \"/home/mhg19/.local/lib/python3.7/site-packages/ray/workers/default_worker.py\", line 105, in <module>\n",
      "\u001b[2m\u001b[36m(pid=1820954)\u001b[0m     job_id=None)\n",
      "\u001b[2m\u001b[36m(pid=1820954)\u001b[0m   File \"/home/mhg19/.local/lib/python3.7/site-packages/ray/utils.py\", line 67, in push_error_to_driver\n",
      "\u001b[2m\u001b[36m(pid=1820954)\u001b[0m     worker.raylet_client.push_error(job_id, error_type, message, time.time())\n",
      "\u001b[2m\u001b[36m(pid=1820954)\u001b[0m   File \"python/ray/_raylet.pyx\", line 371, in ray._raylet.RayletClient.push_error\n",
      "\u001b[2m\u001b[36m(pid=1820954)\u001b[0m   File \"python/ray/_raylet.pyx\", line 109, in ray._raylet.check_status\n",
      "\u001b[2m\u001b[36m(pid=1820954)\u001b[0m ray.exceptions.RayletError: The Raylet died with this message: [RayletClient] Connection closed unexpectedly.\n",
      "\u001b[2m\u001b[36m(pid=1820952)\u001b[0m Traceback (most recent call last):\n",
      "\u001b[2m\u001b[36m(pid=1820952)\u001b[0m   File \"/home/mhg19/.local/lib/python3.7/site-packages/ray/workers/default_worker.py\", line 98, in <module>\n",
      "\u001b[2m\u001b[36m(pid=1820952)\u001b[0m     ray.worker.global_worker.main_loop()\n",
      "\u001b[2m\u001b[36m(pid=1820952)\u001b[0m   File \"/home/mhg19/.local/lib/python3.7/site-packages/ray/worker.py\", line 954, in main_loop\n",
      "\u001b[2m\u001b[36m(pid=1820952)\u001b[0m     task = self._get_next_task_from_raylet()\n",
      "\u001b[2m\u001b[36m(pid=1820952)\u001b[0m   File \"/home/mhg19/.local/lib/python3.7/site-packages/ray/worker.py\", line 937, in _get_next_task_from_raylet\n",
      "\u001b[2m\u001b[36m(pid=1820952)\u001b[0m     task = self.raylet_client.get_task()\n",
      "\u001b[2m\u001b[36m(pid=1820952)\u001b[0m   File \"python/ray/_raylet.pyx\", line 335, in ray._raylet.RayletClient.get_task\n",
      "\u001b[2m\u001b[36m(pid=1820952)\u001b[0m   File \"python/ray/_raylet.pyx\", line 109, in ray._raylet.check_status\n",
      "\u001b[2m\u001b[36m(pid=1820952)\u001b[0m ray.exceptions.RayletError: The Raylet died with this message: [RayletClient] Raylet connection closed.\n",
      "\u001b[2m\u001b[36m(pid=1820952)\u001b[0m \n",
      "\u001b[2m\u001b[36m(pid=1820952)\u001b[0m During handling of the above exception, another exception occurred:\n",
      "\u001b[2m\u001b[36m(pid=1820952)\u001b[0m \n",
      "\u001b[2m\u001b[36m(pid=1820952)\u001b[0m Traceback (most recent call last):\n",
      "\u001b[2m\u001b[36m(pid=1820952)\u001b[0m   File \"/home/mhg19/.local/lib/python3.7/site-packages/ray/workers/default_worker.py\", line 105, in <module>\n",
      "\u001b[2m\u001b[36m(pid=1820952)\u001b[0m     job_id=None)\n",
      "\u001b[2m\u001b[36m(pid=1820952)\u001b[0m   File \"/home/mhg19/.local/lib/python3.7/site-packages/ray/utils.py\", line 67, in push_error_to_driver\n",
      "\u001b[2m\u001b[36m(pid=1820952)\u001b[0m     worker.raylet_client.push_error(job_id, error_type, message, time.time())\n",
      "\u001b[2m\u001b[36m(pid=1820952)\u001b[0m   File \"python/ray/_raylet.pyx\", line 371, in ray._raylet.RayletClient.push_error\n",
      "\u001b[2m\u001b[36m(pid=1820952)\u001b[0m   File \"python/ray/_raylet.pyx\", line 109, in ray._raylet.check_status\n",
      "\u001b[2m\u001b[36m(pid=1820952)\u001b[0m ray.exceptions.RayletError: The Raylet died with this message: [RayletClient] Connection closed unexpectedly.\n",
      "\u001b[2m\u001b[36m(pid=1820962)\u001b[0m Traceback (most recent call last):\n",
      "\u001b[2m\u001b[36m(pid=1820962)\u001b[0m   File \"/home/mhg19/.local/lib/python3.7/site-packages/ray/workers/default_worker.py\", line 98, in <module>\n",
      "\u001b[2m\u001b[36m(pid=1820962)\u001b[0m     ray.worker.global_worker.main_loop()\n",
      "\u001b[2m\u001b[36m(pid=1820962)\u001b[0m   File \"/home/mhg19/.local/lib/python3.7/site-packages/ray/worker.py\", line 954, in main_loop\n",
      "\u001b[2m\u001b[36m(pid=1820962)\u001b[0m     task = self._get_next_task_from_raylet()\n",
      "\u001b[2m\u001b[36m(pid=1820962)\u001b[0m   File \"/home/mhg19/.local/lib/python3.7/site-packages/ray/worker.py\", line 937, in _get_next_task_from_raylet\n",
      "\u001b[2m\u001b[36m(pid=1820962)\u001b[0m     task = self.raylet_client.get_task()\n",
      "\u001b[2m\u001b[36m(pid=1820962)\u001b[0m   File \"python/ray/_raylet.pyx\", line 335, in ray._raylet.RayletClient.get_task\n",
      "\u001b[2m\u001b[36m(pid=1820962)\u001b[0m   File \"python/ray/_raylet.pyx\", line 109, in ray._raylet.check_status\n",
      "\u001b[2m\u001b[36m(pid=1820962)\u001b[0m ray.exceptions.RayletError: The Raylet died with this message: [RayletClient] Raylet connection closed.\n",
      "\u001b[2m\u001b[36m(pid=1820962)\u001b[0m \n",
      "\u001b[2m\u001b[36m(pid=1820962)\u001b[0m During handling of the above exception, another exception occurred:\n",
      "\u001b[2m\u001b[36m(pid=1820962)\u001b[0m \n",
      "\u001b[2m\u001b[36m(pid=1820962)\u001b[0m Traceback (most recent call last):\n",
      "\u001b[2m\u001b[36m(pid=1820962)\u001b[0m   File \"/home/mhg19/.local/lib/python3.7/site-packages/ray/workers/default_worker.py\", line 105, in <module>\n",
      "\u001b[2m\u001b[36m(pid=1820962)\u001b[0m     job_id=None)\n",
      "\u001b[2m\u001b[36m(pid=1820962)\u001b[0m   File \"/home/mhg19/.local/lib/python3.7/site-packages/ray/utils.py\", line 67, in push_error_to_driver\n",
      "\u001b[2m\u001b[36m(pid=1820962)\u001b[0m     worker.raylet_client.push_error(job_id, error_type, message, time.time())\n",
      "\u001b[2m\u001b[36m(pid=1820962)\u001b[0m   File \"python/ray/_raylet.pyx\", line 371, in ray._raylet.RayletClient.push_error\n",
      "\u001b[2m\u001b[36m(pid=1820962)\u001b[0m   File \"python/ray/_raylet.pyx\", line 109, in ray._raylet.check_status\n",
      "\u001b[2m\u001b[36m(pid=1820962)\u001b[0m ray.exceptions.RayletError: The Raylet died with this message: [RayletClient] Connection closed unexpectedly.\n",
      "\u001b[2m\u001b[36m(pid=1820953)\u001b[0m Traceback (most recent call last):\n",
      "\u001b[2m\u001b[36m(pid=1820953)\u001b[0m   File \"/home/mhg19/.local/lib/python3.7/site-packages/ray/workers/default_worker.py\", line 98, in <module>\n",
      "\u001b[2m\u001b[36m(pid=1820953)\u001b[0m     ray.worker.global_worker.main_loop()\n",
      "\u001b[2m\u001b[36m(pid=1820953)\u001b[0m   File \"/home/mhg19/.local/lib/python3.7/site-packages/ray/worker.py\", line 954, in main_loop\n",
      "\u001b[2m\u001b[36m(pid=1820953)\u001b[0m     task = self._get_next_task_from_raylet()\n",
      "\u001b[2m\u001b[36m(pid=1820953)\u001b[0m   File \"/home/mhg19/.local/lib/python3.7/site-packages/ray/worker.py\", line 937, in _get_next_task_from_raylet\n",
      "\u001b[2m\u001b[36m(pid=1820953)\u001b[0m     task = self.raylet_client.get_task()\n",
      "\u001b[2m\u001b[36m(pid=1820953)\u001b[0m   File \"python/ray/_raylet.pyx\", line 335, in ray._raylet.RayletClient.get_task\n",
      "\u001b[2m\u001b[36m(pid=1820953)\u001b[0m   File \"python/ray/_raylet.pyx\", line 109, in ray._raylet.check_status\n",
      "\u001b[2m\u001b[36m(pid=1820953)\u001b[0m ray.exceptions.RayletError: The Raylet died with this message: [RayletClient] Raylet connection closed.\n",
      "\u001b[2m\u001b[36m(pid=1820953)\u001b[0m \n",
      "\u001b[2m\u001b[36m(pid=1820953)\u001b[0m During handling of the above exception, another exception occurred:\n",
      "\u001b[2m\u001b[36m(pid=1820953)\u001b[0m \n",
      "\u001b[2m\u001b[36m(pid=1820953)\u001b[0m Traceback (most recent call last):\n",
      "\u001b[2m\u001b[36m(pid=1820953)\u001b[0m   File \"/home/mhg19/.local/lib/python3.7/site-packages/ray/workers/default_worker.py\", line 105, in <module>\n",
      "\u001b[2m\u001b[36m(pid=1820953)\u001b[0m     job_id=None)\n",
      "\u001b[2m\u001b[36m(pid=1820953)\u001b[0m   File \"/home/mhg19/.local/lib/python3.7/site-packages/ray/utils.py\", line 67, in push_error_to_driver\n",
      "\u001b[2m\u001b[36m(pid=1820953)\u001b[0m     worker.raylet_client.push_error(job_id, error_type, message, time.time())\n",
      "\u001b[2m\u001b[36m(pid=1820953)\u001b[0m   File \"python/ray/_raylet.pyx\", line 371, in ray._raylet.RayletClient.push_error\n",
      "\u001b[2m\u001b[36m(pid=1820953)\u001b[0m   File \"python/ray/_raylet.pyx\", line 109, in ray._raylet.check_status\n",
      "\u001b[2m\u001b[36m(pid=1820953)\u001b[0m ray.exceptions.RayletError: The Raylet died with this message: [RayletClient] Connection closed unexpectedly.\n",
      "\u001b[2m\u001b[36m(pid=1820960)\u001b[0m Traceback (most recent call last):\n",
      "\u001b[2m\u001b[36m(pid=1820960)\u001b[0m   File \"/home/mhg19/.local/lib/python3.7/site-packages/ray/workers/default_worker.py\", line 98, in <module>\n",
      "\u001b[2m\u001b[36m(pid=1820960)\u001b[0m     ray.worker.global_worker.main_loop()\n",
      "\u001b[2m\u001b[36m(pid=1820960)\u001b[0m   File \"/home/mhg19/.local/lib/python3.7/site-packages/ray/worker.py\", line 954, in main_loop\n",
      "\u001b[2m\u001b[36m(pid=1820960)\u001b[0m     task = self._get_next_task_from_raylet()\n",
      "\u001b[2m\u001b[36m(pid=1820960)\u001b[0m   File \"/home/mhg19/.local/lib/python3.7/site-packages/ray/worker.py\", line 937, in _get_next_task_from_raylet\n",
      "\u001b[2m\u001b[36m(pid=1820960)\u001b[0m     task = self.raylet_client.get_task()\n",
      "\u001b[2m\u001b[36m(pid=1820960)\u001b[0m   File \"python/ray/_raylet.pyx\", line 335, in ray._raylet.RayletClient.get_task\n",
      "\u001b[2m\u001b[36m(pid=1820960)\u001b[0m   File \"python/ray/_raylet.pyx\", line 109, in ray._raylet.check_status\n",
      "\u001b[2m\u001b[36m(pid=1820960)\u001b[0m ray.exceptions.RayletError: The Raylet died with this message: [RayletClient] Raylet connection closed.\n",
      "\u001b[2m\u001b[36m(pid=1820960)\u001b[0m \n",
      "\u001b[2m\u001b[36m(pid=1820960)\u001b[0m During handling of the above exception, another exception occurred:\n",
      "\u001b[2m\u001b[36m(pid=1820960)\u001b[0m \n",
      "\u001b[2m\u001b[36m(pid=1820960)\u001b[0m Traceback (most recent call last):\n",
      "\u001b[2m\u001b[36m(pid=1820960)\u001b[0m   File \"/home/mhg19/.local/lib/python3.7/site-packages/ray/workers/default_worker.py\", line 105, in <module>\n",
      "\u001b[2m\u001b[36m(pid=1820960)\u001b[0m     job_id=None)\n",
      "\u001b[2m\u001b[36m(pid=1820960)\u001b[0m   File \"/home/mhg19/.local/lib/python3.7/site-packages/ray/utils.py\", line 67, in push_error_to_driver\n",
      "\u001b[2m\u001b[36m(pid=1820960)\u001b[0m     worker.raylet_client.push_error(job_id, error_type, message, time.time())\n",
      "\u001b[2m\u001b[36m(pid=1820960)\u001b[0m   File \"python/ray/_raylet.pyx\", line 371, in ray._raylet.RayletClient.push_error\n",
      "\u001b[2m\u001b[36m(pid=1820960)\u001b[0m   File \"python/ray/_raylet.pyx\", line 109, in ray._raylet.check_status\n",
      "\u001b[2m\u001b[36m(pid=1820960)\u001b[0m ray.exceptions.RayletError: The Raylet died with this message: [RayletClient] Connection closed unexpectedly.\n",
      "\u001b[2m\u001b[36m(pid=1820959)\u001b[0m Traceback (most recent call last):\n",
      "\u001b[2m\u001b[36m(pid=1820959)\u001b[0m   File \"/home/mhg19/.local/lib/python3.7/site-packages/ray/workers/default_worker.py\", line 98, in <module>\n",
      "\u001b[2m\u001b[36m(pid=1820959)\u001b[0m     ray.worker.global_worker.main_loop()\n",
      "\u001b[2m\u001b[36m(pid=1820959)\u001b[0m   File \"/home/mhg19/.local/lib/python3.7/site-packages/ray/worker.py\", line 954, in main_loop\n",
      "\u001b[2m\u001b[36m(pid=1820959)\u001b[0m     task = self._get_next_task_from_raylet()\n",
      "\u001b[2m\u001b[36m(pid=1820959)\u001b[0m   File \"/home/mhg19/.local/lib/python3.7/site-packages/ray/worker.py\", line 937, in _get_next_task_from_raylet\n",
      "\u001b[2m\u001b[36m(pid=1820959)\u001b[0m     task = self.raylet_client.get_task()\n",
      "\u001b[2m\u001b[36m(pid=1820959)\u001b[0m   File \"python/ray/_raylet.pyx\", line 335, in ray._raylet.RayletClient.get_task\n",
      "\u001b[2m\u001b[36m(pid=1820959)\u001b[0m   File \"python/ray/_raylet.pyx\", line 109, in ray._raylet.check_status\n",
      "\u001b[2m\u001b[36m(pid=1820959)\u001b[0m ray.exceptions.RayletError: The Raylet died with this message: [RayletClient] Raylet connection closed.\n",
      "\u001b[2m\u001b[36m(pid=1820959)\u001b[0m \n",
      "\u001b[2m\u001b[36m(pid=1820959)\u001b[0m During handling of the above exception, another exception occurred:\n",
      "\u001b[2m\u001b[36m(pid=1820959)\u001b[0m \n",
      "\u001b[2m\u001b[36m(pid=1820959)\u001b[0m Traceback (most recent call last):\n",
      "\u001b[2m\u001b[36m(pid=1820959)\u001b[0m   File \"/home/mhg19/.local/lib/python3.7/site-packages/ray/workers/default_worker.py\", line 105, in <module>\n",
      "\u001b[2m\u001b[36m(pid=1820959)\u001b[0m     job_id=None)\n",
      "\u001b[2m\u001b[36m(pid=1820959)\u001b[0m   File \"/home/mhg19/.local/lib/python3.7/site-packages/ray/utils.py\", line 67, in push_error_to_driver\n",
      "\u001b[2m\u001b[36m(pid=1820959)\u001b[0m     worker.raylet_client.push_error(job_id, error_type, message, time.time())\n",
      "\u001b[2m\u001b[36m(pid=1820959)\u001b[0m   File \"python/ray/_raylet.pyx\", line 371, in ray._raylet.RayletClient.push_error\n",
      "\u001b[2m\u001b[36m(pid=1820959)\u001b[0m   File \"python/ray/_raylet.pyx\", line 109, in ray._raylet.check_status\n",
      "\u001b[2m\u001b[36m(pid=1820959)\u001b[0m ray.exceptions.RayletError: The Raylet died with this message: [RayletClient] Connection closed unexpectedly.\n",
      "\u001b[2m\u001b[36m(pid=1820961)\u001b[0m Traceback (most recent call last):\n",
      "\u001b[2m\u001b[36m(pid=1820961)\u001b[0m   File \"/home/mhg19/.local/lib/python3.7/site-packages/ray/workers/default_worker.py\", line 98, in <module>\n",
      "\u001b[2m\u001b[36m(pid=1820961)\u001b[0m     ray.worker.global_worker.main_loop()\n",
      "\u001b[2m\u001b[36m(pid=1820961)\u001b[0m   File \"/home/mhg19/.local/lib/python3.7/site-packages/ray/worker.py\", line 954, in main_loop\n",
      "\u001b[2m\u001b[36m(pid=1820961)\u001b[0m     task = self._get_next_task_from_raylet()\n",
      "\u001b[2m\u001b[36m(pid=1820961)\u001b[0m   File \"/home/mhg19/.local/lib/python3.7/site-packages/ray/worker.py\", line 937, in _get_next_task_from_raylet\n",
      "\u001b[2m\u001b[36m(pid=1820961)\u001b[0m     task = self.raylet_client.get_task()\n",
      "\u001b[2m\u001b[36m(pid=1820961)\u001b[0m   File \"python/ray/_raylet.pyx\", line 335, in ray._raylet.RayletClient.get_task\n",
      "\u001b[2m\u001b[36m(pid=1820961)\u001b[0m   File \"python/ray/_raylet.pyx\", line 109, in ray._raylet.check_status\n",
      "\u001b[2m\u001b[36m(pid=1820961)\u001b[0m ray.exceptions.RayletError: The Raylet died with this message: [RayletClient] Raylet connection closed.\n",
      "\u001b[2m\u001b[36m(pid=1820961)\u001b[0m \n",
      "\u001b[2m\u001b[36m(pid=1820961)\u001b[0m During handling of the above exception, another exception occurred:\n",
      "\u001b[2m\u001b[36m(pid=1820961)\u001b[0m \n",
      "\u001b[2m\u001b[36m(pid=1820961)\u001b[0m Traceback (most recent call last):\n",
      "\u001b[2m\u001b[36m(pid=1820961)\u001b[0m   File \"/home/mhg19/.local/lib/python3.7/site-packages/ray/workers/default_worker.py\", line 105, in <module>\n",
      "\u001b[2m\u001b[36m(pid=1820961)\u001b[0m     job_id=None)\n",
      "\u001b[2m\u001b[36m(pid=1820961)\u001b[0m   File \"/home/mhg19/.local/lib/python3.7/site-packages/ray/utils.py\", line 67, in push_error_to_driver\n",
      "\u001b[2m\u001b[36m(pid=1820961)\u001b[0m     worker.raylet_client.push_error(job_id, error_type, message, time.time())\n",
      "\u001b[2m\u001b[36m(pid=1820961)\u001b[0m   File \"python/ray/_raylet.pyx\", line 371, in ray._raylet.RayletClient.push_error\n",
      "\u001b[2m\u001b[36m(pid=1820961)\u001b[0m   File \"python/ray/_raylet.pyx\", line 109, in ray._raylet.check_status\n",
      "\u001b[2m\u001b[36m(pid=1820961)\u001b[0m ray.exceptions.RayletError: The Raylet died with this message: [RayletClient] Connection closed unexpectedly.\n",
      "\u001b[2m\u001b[36m(pid=1820958)\u001b[0m Traceback (most recent call last):\n",
      "\u001b[2m\u001b[36m(pid=1820958)\u001b[0m   File \"/home/mhg19/.local/lib/python3.7/site-packages/ray/workers/default_worker.py\", line 98, in <module>\n",
      "\u001b[2m\u001b[36m(pid=1820958)\u001b[0m     ray.worker.global_worker.main_loop()\n",
      "\u001b[2m\u001b[36m(pid=1820958)\u001b[0m   File \"/home/mhg19/.local/lib/python3.7/site-packages/ray/worker.py\", line 954, in main_loop\n",
      "\u001b[2m\u001b[36m(pid=1820958)\u001b[0m     task = self._get_next_task_from_raylet()\n",
      "\u001b[2m\u001b[36m(pid=1820958)\u001b[0m   File \"/home/mhg19/.local/lib/python3.7/site-packages/ray/worker.py\", line 937, in _get_next_task_from_raylet\n",
      "\u001b[2m\u001b[36m(pid=1820958)\u001b[0m     task = self.raylet_client.get_task()\n",
      "\u001b[2m\u001b[36m(pid=1820958)\u001b[0m   File \"python/ray/_raylet.pyx\", line 335, in ray._raylet.RayletClient.get_task\n",
      "\u001b[2m\u001b[36m(pid=1820958)\u001b[0m   File \"python/ray/_raylet.pyx\", line 109, in ray._raylet.check_status\n",
      "\u001b[2m\u001b[36m(pid=1820958)\u001b[0m ray.exceptions.RayletError: The Raylet died with this message: [RayletClient] Raylet connection closed.\n",
      "\u001b[2m\u001b[36m(pid=1820958)\u001b[0m \n",
      "\u001b[2m\u001b[36m(pid=1820958)\u001b[0m During handling of the above exception, another exception occurred:\n",
      "\u001b[2m\u001b[36m(pid=1820958)\u001b[0m \n",
      "\u001b[2m\u001b[36m(pid=1820958)\u001b[0m Traceback (most recent call last):\n",
      "\u001b[2m\u001b[36m(pid=1820958)\u001b[0m   File \"/home/mhg19/.local/lib/python3.7/site-packages/ray/workers/default_worker.py\", line 105, in <module>\n",
      "\u001b[2m\u001b[36m(pid=1820958)\u001b[0m     job_id=None)\n",
      "\u001b[2m\u001b[36m(pid=1820958)\u001b[0m   File \"/home/mhg19/.local/lib/python3.7/site-packages/ray/utils.py\", line 67, in push_error_to_driver\n",
      "\u001b[2m\u001b[36m(pid=1820958)\u001b[0m     worker.raylet_client.push_error(job_id, error_type, message, time.time())\n",
      "\u001b[2m\u001b[36m(pid=1820958)\u001b[0m   File \"python/ray/_raylet.pyx\", line 371, in ray._raylet.RayletClient.push_error\n",
      "\u001b[2m\u001b[36m(pid=1820958)\u001b[0m   File \"python/ray/_raylet.pyx\", line 109, in ray._raylet.check_status\n",
      "\u001b[2m\u001b[36m(pid=1820958)\u001b[0m ray.exceptions.RayletError: The Raylet died with this message: [RayletClient] Connection closed unexpectedly.\n"
     ]
    }
   ],
   "source": [
    "directory = \"/home/mhg19/Manuscripts/PNAS19/figures/notebooks/supplement/1/data/\"\n",
    "pbar = tqdm(total=n)\n",
    "while len(object_ids) > 0:\n",
    "    if parallel:\n",
    "        ready_object_ids, _ = ray.wait(object_ids)\n",
    "        id_ = ready_object_ids[0]\n",
    "        data = ray.get(id_)\n",
    "        object_ids.remove(id_)\n",
    "    else:\n",
    "        data = object_ids[0]\n",
    "        object_ids.remove(data)\n",
    "    theta_0, x_f, E_x_f, N = \\\n",
    "        data['theta_0'], data['x_f'], data['E_x_f'], data['N']\n",
    "    filename = \"theta_0_%.5f_x_f%.3f_E_x_f%.3f_N%i_thresh%.3f\"%(\n",
    "        theta_0,x_f,E_x_f,N,threshold) + \".npy\"\n",
    "    filepath = directory + filename\n",
    "    np.save(open(filepath, 'wb'), data)\n",
    "    pbar.update(1)\n",
    "    time.sleep(1)"
   ]
  }
 ],
 "metadata": {
  "kernelspec": {
   "display_name": "Python 3",
   "language": "python",
   "name": "python3"
  },
  "language_info": {
   "codemirror_mode": {
    "name": "ipython",
    "version": 3
   },
   "file_extension": ".py",
   "mimetype": "text/x-python",
   "name": "python",
   "nbconvert_exporter": "python",
   "pygments_lexer": "ipython3",
   "version": "3.7.5"
  }
 },
 "nbformat": 4,
 "nbformat_minor": 4
}
