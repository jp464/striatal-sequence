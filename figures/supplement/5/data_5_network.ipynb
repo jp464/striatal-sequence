{
 "cells": [
  {
   "cell_type": "code",
   "execution_count": 1,
   "metadata": {},
   "outputs": [],
   "source": [
    "import sys\n",
    "import logging\n",
    "import argparse\n",
    "import numpy as np\n",
    "\n",
    "sys.path.insert(0, '../../../network')\n",
    "from network import Population, RateNetwork\n",
    "from transfer_functions import ErrorFunction\n",
    "from connectivity import SparseConnectivity, LinearSynapse\n",
    "from sequences import GaussianSequence"
   ]
  },
  {
   "cell_type": "code",
   "execution_count": 3,
   "metadata": {},
   "outputs": [
    {
     "name": "stderr",
     "output_type": "stream",
     "text": [
      "[========================================================================] 100%\n",
      "100%|██████████| 16/16 [00:00<00:00, 130.44it/s]\n",
      "100%|██████████| 16/16 [00:06<00:00,  2.41it/s]\n"
     ]
    }
   ],
   "source": [
    "T = 0.25\n",
    "\n",
    "phi = ErrorFunction(mu=0.22, sigma=0.1).phi\n",
    "exc = Population(N=50000, tau=1e-2, phi=phi)\n",
    "\n",
    "S, P = 1, 16\n",
    "sequences = [GaussianSequence(P,exc.size,seed=i) for i in range(S)]\n",
    "patterns = np.stack([s.inputs for s in sequences])\n",
    "\n",
    "conn_EE = SparseConnectivity(source=exc, target=exc, p=0.005, seed=43, disable_pbar=True)\n",
    "synapse = LinearSynapse(conn_EE.K, A=1)\n",
    "conn_EE.store_sequences(patterns, synapse.h_EE)\n",
    "\n",
    "net = RateNetwork(exc, c_EE=conn_EE, formulation=1)\n",
    "\n",
    "r0 = exc.phi(patterns[0,0,:])\n",
    "net.simulate(T, r0=r0)\n",
    "\n",
    "M = np.mean(net.exc.state**2, axis=0)\n",
    "overlaps = sequences[0].overlaps(net, exc)\n",
    "correlations = sequences[0].overlaps(net, exc, correlation=True)\n",
    "state = np.copy(net.exc.state)"
   ]
  },
  {
   "cell_type": "code",
   "execution_count": 4,
   "metadata": {},
   "outputs": [],
   "source": [
    "np.save(\"data/data_network.npy\", [overlaps, M])"
   ]
  }
 ],
 "metadata": {
  "kernelspec": {
   "display_name": "Python 3",
   "language": "python",
   "name": "python3"
  },
  "language_info": {
   "codemirror_mode": {
    "name": "ipython",
    "version": 3
   },
   "file_extension": ".py",
   "mimetype": "text/x-python",
   "name": "python",
   "nbconvert_exporter": "python",
   "pygments_lexer": "ipython3",
   "version": "3.7.5"
  }
 },
 "nbformat": 4,
 "nbformat_minor": 4
}
