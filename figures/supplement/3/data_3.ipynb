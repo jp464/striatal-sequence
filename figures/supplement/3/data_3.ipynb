{
 "cells": [
  {
   "cell_type": "code",
   "execution_count": 3,
   "metadata": {},
   "outputs": [],
   "source": [
    "# Retrieval time ratio\n",
    "\n",
    "import os\n",
    "import sys\n",
    "import logging\n",
    "import argparse\n",
    "import itertools\n",
    "\n",
    "import numpy as np\n",
    "from joblib import Parallel, delayed\n",
    "\n",
    "sys.path.insert(0, '../../../network')\n",
    "from network import Population, RateNetwork\n",
    "from transfer_functions import ErrorFunction\n",
    "from connectivity import SparseConnectivity, LinearSynapse, ThresholdPlasticityRule\n",
    "from sequences import GaussianSequence\n",
    "\n",
    "logging.basicConfig(level=logging.INFO)"
   ]
  },
  {
   "cell_type": "code",
   "execution_count": 4,
   "metadata": {},
   "outputs": [],
   "source": [
    "cpu_cores = 4\n",
    "n_realizations = 1"
   ]
  },
  {
   "cell_type": "code",
   "execution_count": 5,
   "metadata": {},
   "outputs": [],
   "source": [
    "def simulate_network(S, T, theta, sigma):\n",
    "\n",
    "    phi = ErrorFunction(mu=theta, sigma=sigma).phi\n",
    "    exc = Population(N=40000, tau=1e-2, phi=phi)\n",
    "\n",
    "    sequences = [GaussianSequence(S,exc.size,seed=0)]\n",
    "    patterns = np.stack([s.inputs for s in sequences])\n",
    "\n",
    "    conn_EE = SparseConnectivity(source=exc, target=exc, p=0.005)\n",
    "    synapse = LinearSynapse(conn_EE.K, A=1)\n",
    "    conn_EE.store_sequences(patterns, synapse.h_EE)\n",
    "\n",
    "    net = RateNetwork(exc, c_EE=conn_EE, formulation=1)\n",
    "\n",
    "    r0 = exc.phi(patterns[0,0,:])\n",
    "    net.simulate(T, r0=r0)\n",
    "\n",
    "    overlaps = sequences[0].overlaps(net, exc)\n",
    "    t_max = overlaps[-1,:].argmax()\n",
    "\n",
    "    return t_max"
   ]
  },
  {
   "cell_type": "code",
   "execution_count": null,
   "metadata": {},
   "outputs": [],
   "source": [
    "S = [8,16,32,64]\n",
    "T = [0.15,0.3,0.6,1.0]\n",
    "theta = np.linspace(0,0.2,10)\n",
    "sigma = np.linspace(0.01,0.25,10)\n",
    "theta_0, sigma_0 = 0.2, 0.15\n",
    "\n",
    "def func_a(i,j):\n",
    "    t_max = simulate_network(S[i], T[i], theta[j], sigma_0)\n",
    "    return t_max\n",
    "\n",
    "def func_b(i,j):\n",
    "    t_max = simulate_network(S[i], T[i], theta_0, sigma[j])\n",
    "    return t_max\n",
    "\n",
    "# Fixed sigma, varying theta\n",
    "t_max_theta = Parallel(n_jobs=cpu_cores)(\n",
    "        delayed(func_a)(i,j) for i,j in itertools.product(range(len(S)),range(len(theta))))\n",
    "\n",
    "# Fixed theta, varying sigma\n",
    "t_max_sigma = Parallel(n_jobs=cpu_cores)(\n",
    "        delayed(func_b)(i,j) for i,j in itertools.product(range(len(S)),range(len(sigma))))"
   ]
  },
  {
   "cell_type": "code",
   "execution_count": null,
   "metadata": {},
   "outputs": [],
   "source": [
    "logging.info(\"Saving data\")\n",
    "np.save(open(\"data/data.npy\", \"wb\"), [S, theta, sigma, t_max_theta, t_max_sigma])"
   ]
  }
 ],
 "metadata": {
  "kernelspec": {
   "display_name": "Python 3",
   "language": "python",
   "name": "python3"
  },
  "language_info": {
   "codemirror_mode": {
    "name": "ipython",
    "version": 3
   },
   "file_extension": ".py",
   "mimetype": "text/x-python",
   "name": "python",
   "nbconvert_exporter": "python",
   "pygments_lexer": "ipython3",
   "version": "3.7.5"
  }
 },
 "nbformat": 4,
 "nbformat_minor": 4
}
