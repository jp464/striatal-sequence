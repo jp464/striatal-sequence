{
 "cells": [
  {
   "cell_type": "markdown",
   "metadata": {},
   "source": [
    "### Bilinear capacity -- numerical (multiple S/P)"
   ]
  },
  {
   "cell_type": "code",
   "execution_count": 1,
   "metadata": {},
   "outputs": [],
   "source": [
    "import sys\n",
    "sys.path.insert(0, '../../../network')"
   ]
  },
  {
   "cell_type": "code",
   "execution_count": 2,
   "metadata": {},
   "outputs": [],
   "source": [
    "import time\n",
    "import itertools\n",
    "from tqdm import tqdm\n",
    "import ray\n",
    "import numpy as np"
   ]
  },
  {
   "cell_type": "code",
   "execution_count": 3,
   "metadata": {},
   "outputs": [],
   "source": [
    "from network import Population, RateNetwork\n",
    "from transfer_functions import ErrorFunction\n",
    "from connectivity import SparseConnectivity, LinearSynapse\n",
    "from sequences import GaussianSequence"
   ]
  },
  {
   "cell_type": "code",
   "execution_count": 4,
   "metadata": {},
   "outputs": [
    {
     "data": {
      "text/plain": [
       "{'node_ip_address': '10.122.160.26',\n",
       " 'redis_address': '10.122.160.26:6382',\n",
       " 'object_store_address': '/tmp/ray/session_2020-03-13_23-32-59_134083_2290970/sockets/plasma_store',\n",
       " 'raylet_socket_name': '/tmp/ray/session_2020-03-13_23-32-59_134083_2290970/sockets/raylet',\n",
       " 'webui_url': 'http://10.122.160.26:8080/?token=a0a17cdfca7fa34e5ac0aaa9a39766016cd09678855e94ba',\n",
       " 'session_dir': '/tmp/ray/session_2020-03-13_23-32-59_134083_2290970'}"
      ]
     },
     "execution_count": 4,
     "metadata": {},
     "output_type": "execute_result"
    }
   ],
   "source": [
    "ray.init(redis_address=\"10.122.160.26:6382\", include_webui=True, ignore_reinit_error=True)"
   ]
  },
  {
   "cell_type": "code",
   "execution_count": 5,
   "metadata": {},
   "outputs": [
    {
     "name": "stdout",
     "output_type": "stream",
     "text": [
      "{'10.122.160.26'}\n"
     ]
    }
   ],
   "source": [
    "@ray.remote\n",
    "def f():\n",
    "    time.sleep(0.01)\n",
    "    return ray.services.get_node_ip_address()\n",
    "\n",
    "# Get a list of the IP addresses of the nodes that have joined the cluster.\n",
    "print(set(ray.get([f.remote() for _ in range(1000)])))"
   ]
  },
  {
   "cell_type": "code",
   "execution_count": 6,
   "metadata": {},
   "outputs": [],
   "source": [
    "def run_simulation(S, P, N=50000):\n",
    "    phi = ErrorFunction(mu=0.22, sigma=0.1)\n",
    "    exc = Population(N, tau=1e-2, phi=phi.phi)\n",
    "    c = np.sqrt(exc.size)/exc.size\n",
    "    sequences = [GaussianSequence(P,exc.size,seed=i) for i in range(S)] \n",
    "    patterns = np.stack([s.inputs for s in sequences])\n",
    "    conn = SparseConnectivity(source=exc, target=exc, p=c, disable_pbar=True)\n",
    "    synapse = LinearSynapse(conn.K, A=1)\n",
    "    conn.store_sequences(patterns, synapse.h_EE)\n",
    "    net = RateNetwork(\n",
    "        exc,\n",
    "        c_EE=conn,\n",
    "        formulation=1,\n",
    "        disable_pbar=True) \n",
    "    net.simulate(\n",
    "        t=0.1+0.01*P,\n",
    "        r0=exc.phi(patterns[0,0,:]))\n",
    "    overlaps = sequences[0].overlaps(\n",
    "        net,\n",
    "        exc,\n",
    "        correlation=False,\n",
    "        disable_pbar=True)\n",
    "    correlations = sequences[0].overlaps(\n",
    "        net,\n",
    "        exc,\n",
    "        correlation=True,\n",
    "        disable_pbar=True)\n",
    "    return {\n",
    "        'params': {\n",
    "            'theta': phi.mu,\n",
    "            'sigma': phi.sigma,\n",
    "            'N': N,\n",
    "            'c': c,\n",
    "            'S': S,\n",
    "            'P': P,\n",
    "        },\n",
    "        'overlaps': overlaps,\n",
    "        'correlations': correlations,\n",
    "    }"
   ]
  },
  {
   "cell_type": "code",
   "execution_count": 7,
   "metadata": {},
   "outputs": [],
   "source": [
    "N = 100000 \n",
    "S = [1, 2, 4, 8, 16] \n",
    "P = [8, 16, 32, 64, 128]\n",
    "\n",
    "combinations = list(itertools.product(\n",
    "    np.atleast_1d(N),\n",
    "    np.atleast_1d(S),\n",
    "    np.atleast_1d(P)))\n",
    "\n",
    "parallel = True\n",
    "object_ids = []\n",
    "run_simulation_ray = ray.remote(num_cpus=10)(run_simulation)\n",
    "\n",
    "n = 0\n",
    "for N, S, P in combinations[:]:\n",
    "    if S*P > np.sqrt(N):\n",
    "        continue\n",
    "    if parallel:\n",
    "        func = run_simulation_ray.remote\n",
    "    else:\n",
    "        func = run_simulation\n",
    "    object_ids.append(func(S,P,N))\n",
    "    n += 1"
   ]
  },
  {
   "cell_type": "code",
   "execution_count": null,
   "metadata": {},
   "outputs": [
    {
     "name": "stderr",
     "output_type": "stream",
     "text": [
      "  0%|          | 0/19 [00:00<?, ?it/s]"
     ]
    }
   ],
   "source": [
    "directory = \"data/\"\n",
    "pbar = tqdm(total=n)\n",
    "while len(object_ids) > 0:\n",
    "    if parallel:\n",
    "        ready_object_ids, _ = ray.wait(object_ids)\n",
    "        id_ = ready_object_ids[0]\n",
    "        data = ray.get(id_)\n",
    "        object_ids.remove(id_)\n",
    "    else:\n",
    "        data = object_ids[0]\n",
    "        object_ids.remove(data)\n",
    "    params = data['params']\n",
    "    N, S, P = params['N'], params['S'], params['P']\n",
    "    filename = \"N%i_S%i_P%i\"%(N,S,P) + \".npy\"\n",
    "    filepath = directory + filename\n",
    "    np.save(open(filepath, 'wb'), data)\n",
    "    pbar.update(1)\n",
    "    time.sleep(1)"
   ]
  }
 ],
 "metadata": {
  "kernelspec": {
   "display_name": "Python 3",
   "language": "python",
   "name": "python3"
  },
  "language_info": {
   "codemirror_mode": {
    "name": "ipython",
    "version": 3
   },
   "file_extension": ".py",
   "mimetype": "text/x-python",
   "name": "python",
   "nbconvert_exporter": "python",
   "pygments_lexer": "ipython3",
   "version": "3.7.5"
  }
 },
 "nbformat": 4,
 "nbformat_minor": 4
}
