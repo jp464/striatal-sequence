{
 "cells": [
  {
   "cell_type": "code",
   "execution_count": 1,
   "metadata": {},
   "outputs": [],
   "source": [
    "import sys\n",
    "import logging\n",
    "import argparse\n",
    "import numpy as np\n",
    "\n",
    "sys.path.insert(0, '../../../network')\n",
    "from network import Population, RateNetwork\n",
    "from transfer_functions import ErrorFunction\n",
    "from connectivity import SparseConnectivity, LinearSynapse\n",
    "from sequences import GaussianSequence\n",
    "\n",
    "logging.basicConfig(level=logging.INFO)"
   ]
  },
  {
   "cell_type": "code",
   "execution_count": 2,
   "metadata": {},
   "outputs": [
    {
     "name": "stderr",
     "output_type": "stream",
     "text": [
      "INFO:connectivity:Building connections from exc to exc\n",
      "INFO:connectivity:Storing sequences\n",
      "  0%|          | 0/1 [00:00<?, ?it/s]\n",
      "  0%|          | 0/40000 [00:00<?, ?it/s]\u001b[A\n",
      "  3%|▎         | 1056/40000 [00:00<00:03, 10559.51it/s]\u001b[A\n",
      "  5%|▌         | 2064/40000 [00:00<00:03, 10410.01it/s]\u001b[A\n",
      "  8%|▊         | 3125/40000 [00:00<00:03, 10467.80it/s]\u001b[A\n",
      " 10%|█         | 4080/40000 [00:00<00:03, 10173.04it/s]\u001b[A\n",
      " 13%|█▎        | 5064/40000 [00:00<00:03, 10068.59it/s]\u001b[A\n",
      " 15%|█▌        | 6022/40000 [00:00<00:03, 9914.64it/s] \u001b[A\n",
      " 17%|█▋        | 6981/40000 [00:00<00:03, 9814.95it/s]\u001b[A\n",
      " 20%|█▉        | 7913/40000 [00:00<00:03, 9657.71it/s]\u001b[A\n",
      " 22%|██▏       | 8897/40000 [00:00<00:03, 9711.34it/s]\u001b[A\n",
      " 25%|██▍       | 9926/40000 [00:01<00:03, 9876.02it/s]\u001b[A\n",
      " 27%|██▋       | 10886/40000 [00:01<00:03, 9492.08it/s]\u001b[A\n",
      " 30%|██▉       | 11915/40000 [00:01<00:02, 9715.95it/s]\u001b[A\n",
      " 32%|███▏      | 12947/40000 [00:01<00:02, 9888.19it/s]\u001b[A\n",
      " 35%|███▌      | 14114/40000 [00:01<00:02, 10359.95it/s]\u001b[A\n",
      " 38%|███▊      | 15152/40000 [00:01<00:02, 10241.90it/s]\u001b[A\n",
      " 40%|████      | 16178/40000 [00:01<00:02, 10170.82it/s]\u001b[A\n",
      " 43%|████▎     | 17197/40000 [00:01<00:02, 10128.90it/s]\u001b[A\n",
      " 46%|████▌     | 18211/40000 [00:01<00:02, 9118.38it/s] \u001b[A\n",
      " 48%|████▊     | 19143/40000 [00:01<00:02, 8929.40it/s]\u001b[A\n",
      " 51%|█████     | 20232/40000 [00:02<00:02, 9437.42it/s]\u001b[A\n",
      " 53%|█████▎    | 21194/40000 [00:02<00:01, 9486.24it/s]\u001b[A\n",
      " 55%|█████▌    | 22156/40000 [00:02<00:01, 9282.43it/s]\u001b[A\n",
      " 58%|█████▊    | 23095/40000 [00:02<00:01, 8559.71it/s]\u001b[A\n",
      " 60%|██████    | 24022/40000 [00:02<00:01, 8759.42it/s]\u001b[A\n",
      " 62%|██████▏   | 24930/40000 [00:02<00:01, 8852.17it/s]\u001b[A\n",
      " 65%|██████▍   | 25927/40000 [00:02<00:01, 9152.72it/s]\u001b[A\n",
      " 68%|██████▊   | 27003/40000 [00:02<00:01, 9580.95it/s]\u001b[A\n",
      " 70%|██████▉   | 27973/40000 [00:02<00:01, 9110.36it/s]\u001b[A\n",
      " 72%|███████▏  | 28898/40000 [00:03<00:01, 9104.20it/s]\u001b[A\n",
      " 75%|███████▍  | 29888/40000 [00:03<00:01, 9328.58it/s]\u001b[A\n",
      " 77%|███████▋  | 30885/40000 [00:03<00:00, 9511.55it/s]\u001b[A\n",
      " 80%|███████▉  | 31843/40000 [00:03<00:00, 9419.11it/s]\u001b[A\n",
      " 82%|████████▏ | 32790/40000 [00:03<00:00, 9430.88it/s]\u001b[A\n",
      " 84%|████████▍ | 33737/40000 [00:03<00:00, 9068.05it/s]\u001b[A\n",
      " 87%|████████▋ | 34702/40000 [00:03<00:00, 9234.60it/s]\u001b[A\n",
      " 89%|████████▉ | 35674/40000 [00:03<00:00, 9373.07it/s]\u001b[A\n",
      " 92%|█████████▏| 36697/40000 [00:03<00:00, 9612.67it/s]\u001b[A\n",
      " 94%|█████████▍| 37692/40000 [00:03<00:00, 9709.08it/s]\u001b[A\n",
      " 97%|█████████▋| 38666/40000 [00:04<00:00, 9703.21it/s]\u001b[A\n",
      " 99%|█████████▉| 39639/40000 [00:04<00:00, 9663.03it/s]\u001b[A\n",
      "100%|██████████| 1/1 [00:04<00:00,  4.19s/it]58.02it/s]\u001b[A\n",
      "INFO:connectivity:Applying synaptic transfer function\n",
      "INFO:connectivity:Building sparse matrix\n",
      "INFO:root:Simulating normal retrieval\n",
      "INFO:network:Integrating network dynamics\n",
      "[========================================================================] 100%\n",
      "INFO:sequences:Computing overlaps\n",
      "100%|██████████| 16/16 [00:00<00:00, 67.09it/s]\n",
      "INFO:sequences:Computing correlations\n",
      "100%|██████████| 16/16 [00:16<00:00,  1.02s/it]\n",
      "INFO:root:Simulating perturbed retrieval\n",
      "INFO:network:Integrating network dynamics\n",
      "[========================================================================] 100%\n",
      "INFO:sequences:Computing overlaps\n",
      "100%|██████████| 16/16 [00:00<00:00, 63.24it/s]\n",
      "INFO:sequences:Computing correlations\n",
      "100%|██████████| 16/16 [00:38<00:00,  2.47s/it]\n"
     ]
    }
   ],
   "source": [
    "T = 0.35\n",
    "\n",
    "phi = ErrorFunction(mu=0.22, sigma=0.1).phi\n",
    "exc = Population(N=40000, tau=1e-2, phi=phi)\n",
    "\n",
    "P, S = 1, 16\n",
    "sequences = [GaussianSequence(S,exc.size,seed=i) for i in range(P)]\n",
    "patterns = np.stack([s.inputs for s in sequences])\n",
    "\n",
    "conn_EE = SparseConnectivity(source=exc, target=exc, p=0.005)\n",
    "synapse = LinearSynapse(conn_EE.K, A=1)\n",
    "conn_EE.store_sequences(patterns, synapse.h_EE)\n",
    "\n",
    "net = RateNetwork(exc, c_EE=conn_EE, formulation=1)\n",
    "\n",
    "logging.info(\"Simulating normal retrieval\")\n",
    "r0 = exc.phi(patterns[0,0,:])\n",
    "net.simulate(T, r0=r0)\n",
    "\n",
    "M = np.mean(net.exc.state**2, axis=0)\n",
    "overlaps = sequences[0].overlaps(net, exc)\n",
    "correlations = sequences[0].overlaps(net, exc, correlation=True)\n",
    "phi_patterns = phi(patterns)\n",
    "state = np.copy(net.exc.state)\n",
    "\n",
    "logging.info(\"Simulating perturbed retrieval\")\n",
    "sigma_pert = 1.5\n",
    "r0 = exc.phi(patterns[0,0,:]) + sigma_pert*np.random.randn(exc.size)\n",
    "net.simulate(T, r0=r0)\n",
    "\n",
    "M_pert = np.mean(net.exc.state**2, axis=0)\n",
    "overlaps_pert = sequences[0].overlaps(net, exc)\n",
    "correlations_pert = sequences[0].overlaps(net, exc, correlation=True)\n",
    "state_pert = net.exc.state"
   ]
  },
  {
   "cell_type": "markdown",
   "metadata": {},
   "source": [
    "Save data"
   ]
  },
  {
   "cell_type": "code",
   "execution_count": 4,
   "metadata": {},
   "outputs": [],
   "source": [
    "np.save(\n",
    "    open(\"data/data_b.npy\", \"wb\"),\n",
    "    [M, overlaps, correlations, state.astype(np.float32),\n",
    "     M_pert, overlaps_pert, correlations_pert, state_pert.astype(np.float32),\n",
    "     phi_patterns.astype(np.float32)])"
   ]
  }
 ],
 "metadata": {
  "kernelspec": {
   "display_name": "Python 3",
   "language": "python",
   "name": "python3"
  },
  "language_info": {
   "codemirror_mode": {
    "name": "ipython",
    "version": 3
   },
   "file_extension": ".py",
   "mimetype": "text/x-python",
   "name": "python",
   "nbconvert_exporter": "python",
   "pygments_lexer": "ipython3",
   "version": "3.7.5"
  }
 },
 "nbformat": 4,
 "nbformat_minor": 4
}
