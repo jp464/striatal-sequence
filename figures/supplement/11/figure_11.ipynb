{
 "cells": [
  {
   "cell_type": "code",
   "execution_count": 3,
   "metadata": {},
   "outputs": [],
   "source": [
    "import pdb\n",
    "import sys\n",
    "import argparse\n",
    "import itertools\n",
    "\n",
    "import numpy as np\n",
    "\n",
    "import matplotlib\n",
    "import matplotlib.gridspec as gridspec\n",
    "import matplotlib.pyplot as plt\n",
    "\n",
    "sys.path.insert(0, '../../../figures')\n",
    "import plot_utils as pu\n",
    "import color_scheme as cs"
   ]
  },
  {
   "cell_type": "markdown",
   "metadata": {},
   "source": [
    "Load data"
   ]
  },
  {
   "cell_type": "code",
   "execution_count": 7,
   "metadata": {},
   "outputs": [],
   "source": [
    "datapath1 = \"data/data_a.npy\"\n",
    "datapath2 = \"data/data_b.npy\"\n",
    "#datapath1 = \"data/data_a_region_e.npy\"\n",
    "#datapath2 = \"data/data_b_region_e.npy\""
   ]
  },
  {
   "cell_type": "code",
   "execution_count": 8,
   "metadata": {},
   "outputs": [],
   "source": [
    "z_sigma1, z_sigma2, distances1, distances2 = np.load(datapath1, allow_pickle=True)\n",
    "data = np.load(datapath2, allow_pickle=True)"
   ]
  },
  {
   "cell_type": "markdown",
   "metadata": {},
   "source": [
    "Plot"
   ]
  },
  {
   "cell_type": "code",
   "execution_count": null,
   "metadata": {},
   "outputs": [],
   "source": [
    "pu.figure_setup()\n",
    "fig_size = pu.get_fig_size(9, 9)\n",
    "fig = plt.figure(figsize=fig_size)\n",
    "\n",
    "gs1 = gridspec.GridSpec(2, 2)\n",
    "gs1.update(left=0.15, right=0.95, bottom=0.25, wspace=0.30, hspace=0.5)\n",
    "ax1 = plt.subplot(gs1[0, 0])\n",
    "ax2 = plt.subplot(gs1[0, 1])\n",
    "ax3 = plt.subplot(gs1[1, 0])\n",
    "ax4 = plt.subplot(gs1[1, 1])\n",
    "\n",
    "# ------- Panel a ------------------------------------------------------------------\n",
    "\n",
    "for ax, z_sigma, distances in zip([ax1, ax2], [z_sigma1, z_sigma2], [distances1, distances2]):\n",
    "    ax.plot(np.r_[0, z_sigma], np.r_[0, distances[2]-distances[0]], linewidth=1, color='darkgreen')\n",
    "    ax.plot(np.r_[0, z_sigma], np.r_[0, distances[3]-distances[1]], linewidth=1, color='darkblue')\n",
    "    ax.axhline(y=distances[2], color='darkgreen', linestyle='dashed', linewidth=1)\n",
    "    ax.axhline(y=distances[3], color='darkblue', linestyle='dashed', linewidth=1)\n",
    "\n",
    "ax1.set_xlabel(\"Perturbation strength (std dev)\")\n",
    "ax2.set_xlabel(\"Perturbation strength (std dev)\")\n",
    "ax1.set_ylabel(\"Average norm difference\")\n",
    "ax1.set_xlim([0,2.5])\n",
    "ax2.set_xlim([0,10])\n",
    "ax1.set_ylim([0,0.25])\n",
    "ax2.set_ylim([0,0.25])\n",
    "\n",
    "# ------- Panel b ------------------------------------------------------------------\n",
    "\n",
    "alpha = 0.35\n",
    "for (sigma_z, S, P), M, overlaps in data:\n",
    "    if S == 1:\n",
    "        if sigma_z == 0:\n",
    "            for m in overlaps:\n",
    "                line1 = ax3.plot(m, color='red', alpha=alpha)[0]\n",
    "        elif sigma_z == 1:\n",
    "            for m in overlaps:\n",
    "                line2 = ax3.plot(m, color='blue', alpha=alpha)[0]\n",
    "        elif sigma_z == 2.5:\n",
    "            for m in overlaps:\n",
    "                line3 = ax3.plot(m, color='green', alpha=alpha)[0]\n",
    "    elif S == 4:\n",
    "        if sigma_z == 0:\n",
    "            for m in overlaps:\n",
    "                line1 = ax4.plot(m, color='red', alpha=alpha)[0]\n",
    "        elif sigma_z == 1:\n",
    "            for m in overlaps:\n",
    "                line2 = ax4.plot(m, color='blue', alpha=alpha)[0]\n",
    "        elif sigma_z == 2.5:\n",
    "            for m in overlaps:\n",
    "                line3 = ax4.plot(m, color='green', alpha=alpha)[0]\n",
    "        elif sigma_z == 10:\n",
    "            for m in overlaps:\n",
    "                line4 = ax4.plot(m, color='black', alpha=alpha)[0]\n",
    "\n",
    "ax3.legend(\n",
    "    (line1, line2, line3),\n",
    "    (r'$\\sigma_{z}$ = 0',r'$\\sigma_{z}$ = 1',r'$\\sigma_{z}$ = 2.5'),\n",
    "    title=\"Standard deviation\")\n",
    "ax4.legend(\n",
    "    (line1, line2, line3,line4),\n",
    "    (r'$\\sigma_{z}$ = 0',r'$\\sigma_{z}$ = 1',r'$\\sigma_{z}$ = 2.5',r'$\\sigma_{z}$ = 10'),\n",
    "    title=\"Standard deviation\")\n",
    "ax3.set_ylabel(\"Overlap\")\n",
    "ax3.set_xlabel(\"Time (ms)\")\n",
    "ax4.set_xlabel(\"Time (ms)\")\n",
    "\n",
    "for ax in [ax1, ax2]:\n",
    "    ax.spines['top'].set_visible(False)\n",
    "    ax.spines['right'].set_visible(False)\n",
    "    ax.get_xaxis().tick_bottom()\n",
    "    ax.get_yaxis().tick_left()\n",
    "\n",
    "ax3.set_yticks([0,0.05,0.1,0.15])\n",
    "ax4.set_yticks([0,0.05,0.1,0.15])\n",
    "\n",
    "ax3.set_ylim([0,0.15])\n",
    "ax3.set_xlim([-5,300])\n",
    "ax4.set_ylim([0,0.15])\n",
    "ax4.set_xlim([-5,300])\n",
    "\n",
    "ax1.set_title(\"S=1, P=16\", fontsize=6, pad=12)\n",
    "ax2.set_title(\"S=4, P=16\", fontsize=6, pad=12)\n",
    "\n",
    "plt.subplots_adjust(bottom=0.25, left=0.2, wspace=0.2)\n",
    "plt.savefig(\"../output/11.pdf\", dpi=300, bbox_inches=\"tight\")"
   ]
  }
 ],
 "metadata": {
  "kernelspec": {
   "display_name": "Python 3",
   "language": "python",
   "name": "python3"
  },
  "language_info": {
   "codemirror_mode": {
    "name": "ipython",
    "version": 3
   },
   "file_extension": ".py",
   "mimetype": "text/x-python",
   "name": "python",
   "nbconvert_exporter": "python",
   "pygments_lexer": "ipython3",
   "version": "3.7.5"
  }
 },
 "nbformat": 4,
 "nbformat_minor": 4
}
