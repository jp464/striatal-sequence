{
 "cells": [
  {
   "cell_type": "code",
   "execution_count": null,
   "metadata": {},
   "outputs": [],
   "source": [
    "from __future__ import division\n",
    "\n",
    "import os\n",
    "import sys\n",
    "import logging\n",
    "import argparse\n",
    "import itertools\n",
    "\n",
    "import numpy as np\n",
    "from joblib import Parallel, delayed\n",
    "\n",
    "sys.path.insert(0, '../../../network')\n",
    "from network import Population, RateNetwork\n",
    "from transfer_functions import ErrorFunction\n",
    "from connectivity import SparseConnectivity, LinearSynapse\n",
    "from sequences import GaussianSequence\n",
    "\n",
    "logging.basicConfig(level=logging.INFO)"
   ]
  },
  {
   "cell_type": "code",
   "execution_count": null,
   "metadata": {},
   "outputs": [],
   "source": [
    "cpu_cores = 8"
   ]
  },
  {
   "cell_type": "code",
   "execution_count": null,
   "metadata": {},
   "outputs": [],
   "source": [
    "def simulate_network(z_sigma, S, P):\n",
    "\n",
    "    phi = ErrorFunction(mu=0.22, sigma=0.1).phi\n",
    "    exc = Population(N=40000, tau=1e-2, phi=phi)\n",
    "\n",
    "    sequences = [GaussianSequence(P, exc.size, seed=i) for i in range(S)]\n",
    "    patterns = np.stack([s.inputs for s in sequences])\n",
    "\n",
    "    conn_EE = SparseConnectivity(source=exc, target=exc, p=0.005)\n",
    "    synapse = LinearSynapse(conn_EE.K, A=1)\n",
    "    conn_EE.store_sequences(patterns, synapse.h_EE)\n",
    "\n",
    "    net = RateNetwork(exc, c_EE=conn_EE, formulation=1)\n",
    "\n",
    "    z0 = z_sigma*np.random.RandomState(seed=42).normal(0,1,size=exc.size)\n",
    "    r0 = exc.phi(patterns[0,0,:] + z0)\n",
    "    net.simulate(0.3, r0=r0)\n",
    "\n",
    "    overlaps = sequences[0].overlaps(net, exc)\n",
    "    return overlaps"
   ]
  },
  {
   "cell_type": "code",
   "execution_count": null,
   "metadata": {},
   "outputs": [],
   "source": [
    "def compute_perturbations(z_sigma, S, P):\n",
    "\n",
    "    def func(i):\n",
    "        overlaps = simulate_network(z_sigma[i], S, P)\n",
    "        return overlaps\n",
    "\n",
    "    overlaps_unperturbed = simulate_network(0, S, P)\n",
    "    overlaps_perturbed_set = Parallel(n_jobs=args.cpu_cores)(delayed(func)(i) for i in range(len(z_sigma)))\n",
    "\n",
    "    t_max = np.argmax(overlaps_unperturbed[-1])\n",
    "    t_mid = int(t_max / 2)\n",
    "\n",
    "    # Average norm on full length of simulation\n",
    "    distance1 = []\n",
    "    for overlaps in overlaps_perturbed_set:\n",
    "        avg_norm = np.mean(np.sqrt(np.sum(overlaps[:,:t_max]**2, axis=0)))\n",
    "        distance1.append(avg_norm)\n",
    "    \n",
    "    # Average norm of second half of simulation\n",
    "    distance2 = []\n",
    "    for overlaps in overlaps_perturbed_set:\n",
    "        avg_norm = np.mean(np.sqrt(np.sum(overlaps[:,t_mid:t_max]**2, axis=0)))\n",
    "        distance2.append(avg_norm)\n",
    "\n",
    "    # Average norm of unperturbed recall\n",
    "    distance3 = np.mean(np.sqrt(np.sum(overlaps_unperturbed[:,:t_max]**2, axis=0)))\n",
    "    distance4 = np.mean(np.sqrt(np.sum(overlaps_unperturbed[:,t_mid:t_max]**2, axis=0)))\n",
    "\n",
    "    return distance1, distance2, distance3, distance4"
   ]
  },
  {
   "cell_type": "code",
   "execution_count": null,
   "metadata": {},
   "outputs": [],
   "source": [
    "z_sigma1 = np.arange(0.1, 2.6, 0.1)\n",
    "distances1 = compute_perturbations(z_sigma1, S=1, P=16)"
   ]
  },
  {
   "cell_type": "code",
   "execution_count": null,
   "metadata": {},
   "outputs": [],
   "source": [
    "z_sigma2 = np.linspace(0.1, 10, 20)\n",
    "distances2 = compute_perturbations(z_sigma2, S=4, P=16)"
   ]
  },
  {
   "cell_type": "code",
   "execution_count": null,
   "metadata": {},
   "outputs": [],
   "source": [
    "np.save(open(\"data/data_a.npy\", \"wb\"), [z_sigma1, z_sigma2, distances1, distances2])"
   ]
  }
 ],
 "metadata": {
  "kernelspec": {
   "display_name": "Python 3",
   "language": "python",
   "name": "python3"
  },
  "language_info": {
   "codemirror_mode": {
    "name": "ipython",
    "version": 3
   },
   "file_extension": ".py",
   "mimetype": "text/x-python",
   "name": "python",
   "nbconvert_exporter": "python",
   "pygments_lexer": "ipython3",
   "version": "3.7.5"
  }
 },
 "nbformat": 4,
 "nbformat_minor": 4
}
