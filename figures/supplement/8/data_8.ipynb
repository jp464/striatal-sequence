{
 "cells": [
  {
   "cell_type": "code",
   "execution_count": 2,
   "metadata": {},
   "outputs": [],
   "source": [
    "import sys\n",
    "dirname = '../../../'\n",
    "sys.path.insert(0, dirname+'network')"
   ]
  },
  {
   "cell_type": "code",
   "execution_count": 3,
   "metadata": {},
   "outputs": [],
   "source": [
    "\n",
    "import pdb\n",
    "import argparse\n",
    "import itertools\n",
    "import tqdm\n",
    "\n",
    "import numpy as np\n",
    "from scipy.stats import norm\n",
    "from numba import jit, njit\n",
    "\n",
    "from network import Population, RateNetwork\n",
    "from transfer_functions import ErrorFunction\n",
    "from connectivity import SparseConnectivity, LinearSynapse\n",
    "from sequences import GaussianSequence"
   ]
  },
  {
   "cell_type": "markdown",
   "metadata": {},
   "source": [
    "Load data from figure 1"
   ]
  },
  {
   "cell_type": "code",
   "execution_count": 5,
   "metadata": {},
   "outputs": [],
   "source": [
    "state = np.load(open(dirname+\"figures/article/4/data/data_bcd.npy\", \"rb\"), allow_pickle=True)[0]"
   ]
  },
  {
   "cell_type": "markdown",
   "metadata": {},
   "source": [
    "Compute peak information"
   ]
  },
  {
   "cell_type": "code",
   "execution_count": 6,
   "metadata": {
    "collapsed": true,
    "jupyter": {
     "outputs_hidden": true
    }
   },
   "outputs": [
    {
     "name": "stderr",
     "output_type": "stream",
     "text": [
      "<ipython-input-6-96f3bcb825f0>:1: NumbaWarning: \u001b[1m\n",
      "Compilation is falling back to object mode WITH looplifting enabled because Function \"func\" failed type inference due to: \u001b[1m\u001b[1mnon-precise type pyobject\u001b[0m\n",
      "\u001b[0m\u001b[1m[1] During: typing of argument at <ipython-input-6-96f3bcb825f0> (3)\u001b[0m\n",
      "\u001b[1m\n",
      "File \"<ipython-input-6-96f3bcb825f0>\", line 3:\u001b[0m\n",
      "\u001b[1mdef func(state):\n",
      "\u001b[1m    all_peaks = [[]]*40000\n",
      "\u001b[0m    \u001b[1m^\u001b[0m\u001b[0m\n",
      "\u001b[0m\n",
      "  @jit\n",
      "<ipython-input-6-96f3bcb825f0>:1: NumbaWarning: \u001b[1m\n",
      "Compilation is falling back to object mode WITHOUT looplifting enabled because Function \"func\" failed type inference due to: \u001b[1m\u001b[1mcannot determine Numba type of <class 'numba.dispatcher.LiftedLoop'>\u001b[0m\n",
      "\u001b[1m\n",
      "File \"<ipython-input-6-96f3bcb825f0>\", line 4:\u001b[0m\n",
      "\u001b[1mdef func(state):\n",
      "    <source elided>\n",
      "    all_peaks = [[]]*40000\n",
      "\u001b[1m    for n, row in enumerate(state):\n",
      "\u001b[0m    \u001b[1m^\u001b[0m\u001b[0m\n",
      "\u001b[0m\u001b[0m\n",
      "  @jit\n",
      "/home/mhg19/Manuscripts/PNAS19/sci/lib64/python3.7/site-packages/numba/object_mode_passes.py:178: NumbaWarning: \u001b[1mFunction \"func\" was compiled in object mode without forceobj=True, but has lifted loops.\n",
      "\u001b[1m\n",
      "File \"<ipython-input-6-96f3bcb825f0>\", line 3:\u001b[0m\n",
      "\u001b[1mdef func(state):\n",
      "\u001b[1m    all_peaks = [[]]*40000\n",
      "\u001b[0m    \u001b[1m^\u001b[0m\u001b[0m\n",
      "\u001b[0m\n",
      "  state.func_ir.loc))\n",
      "/home/mhg19/Manuscripts/PNAS19/sci/lib64/python3.7/site-packages/numba/object_mode_passes.py:188: NumbaDeprecationWarning: \u001b[1m\n",
      "Fall-back from the nopython compilation path to the object mode compilation path has been detected, this is deprecated behaviour.\n",
      "\n",
      "For more information visit http://numba.pydata.org/numba-doc/latest/reference/deprecation.html#deprecation-of-object-mode-fall-back-behaviour-when-using-jit\n",
      "\u001b[1m\n",
      "File \"<ipython-input-6-96f3bcb825f0>\", line 3:\u001b[0m\n",
      "\u001b[1mdef func(state):\n",
      "\u001b[1m    all_peaks = [[]]*40000\n",
      "\u001b[0m    \u001b[1m^\u001b[0m\u001b[0m\n",
      "\u001b[0m\n",
      "  state.func_ir.loc))\n",
      "<ipython-input-6-96f3bcb825f0>:1: NumbaWarning: \u001b[1m\n",
      "Compilation is falling back to object mode WITHOUT looplifting enabled because Function \"func\" failed type inference due to: \u001b[1m\u001b[1mnon-precise type pyobject\u001b[0m\n",
      "\u001b[0m\u001b[1m[1] During: typing of argument at <ipython-input-6-96f3bcb825f0> (4)\u001b[0m\n",
      "\u001b[1m\n",
      "File \"<ipython-input-6-96f3bcb825f0>\", line 4:\u001b[0m\n",
      "\u001b[1mdef func(state):\n",
      "    <source elided>\n",
      "    all_peaks = [[]]*40000\n",
      "\u001b[1m    for n, row in enumerate(state):\n",
      "\u001b[0m    \u001b[1m^\u001b[0m\u001b[0m\n",
      "\u001b[0m\n",
      "  @jit\n",
      "/home/mhg19/Manuscripts/PNAS19/sci/lib64/python3.7/site-packages/numba/object_mode_passes.py:178: NumbaWarning: \u001b[1mFunction \"func\" was compiled in object mode without forceobj=True.\n",
      "\u001b[1m\n",
      "File \"<ipython-input-6-96f3bcb825f0>\", line 4:\u001b[0m\n",
      "\u001b[1mdef func(state):\n",
      "    <source elided>\n",
      "    all_peaks = [[]]*40000\n",
      "\u001b[1m    for n, row in enumerate(state):\n",
      "\u001b[0m    \u001b[1m^\u001b[0m\u001b[0m\n",
      "\u001b[0m\n",
      "  state.func_ir.loc))\n",
      "/home/mhg19/Manuscripts/PNAS19/sci/lib64/python3.7/site-packages/numba/object_mode_passes.py:188: NumbaDeprecationWarning: \u001b[1m\n",
      "Fall-back from the nopython compilation path to the object mode compilation path has been detected, this is deprecated behaviour.\n",
      "\n",
      "For more information visit http://numba.pydata.org/numba-doc/latest/reference/deprecation.html#deprecation-of-object-mode-fall-back-behaviour-when-using-jit\n",
      "\u001b[1m\n",
      "File \"<ipython-input-6-96f3bcb825f0>\", line 4:\u001b[0m\n",
      "\u001b[1mdef func(state):\n",
      "    <source elided>\n",
      "    all_peaks = [[]]*40000\n",
      "\u001b[1m    for n, row in enumerate(state):\n",
      "\u001b[0m    \u001b[1m^\u001b[0m\u001b[0m\n",
      "\u001b[0m\n",
      "  state.func_ir.loc))\n"
     ]
    }
   ],
   "source": [
    "@jit\n",
    "def func(state):\n",
    "    all_peaks = [[]]*40000\n",
    "    for n, row in enumerate(state):\n",
    "        thresh = row.mean()\n",
    "        sigma = row.std()\n",
    "        idxs = row > thresh + 1*sigma\n",
    "        peaks = [np.array([])]\n",
    "        peak_idx = 0\n",
    "        prev_value = False\n",
    "        #print(n)\n",
    "        for m, i in enumerate(idxs):\n",
    "            if i:\n",
    "                if prev_value == False and i:\n",
    "                    peaks.append(np.array([n]))\n",
    "                    peak_idx += 1\n",
    "                else:\n",
    "                    peaks[peak_idx] = np.r_[peaks[peak_idx], m]\n",
    "            prev_value = i\n",
    "        all_peaks[n] = peaks\n",
    "    return all_peaks\n",
    "\n",
    "peaks = func(state)"
   ]
  },
  {
   "cell_type": "code",
   "execution_count": 7,
   "metadata": {},
   "outputs": [],
   "source": [
    "np.save(open(\"data/data.npy\", \"wb\"), [peaks])"
   ]
  }
 ],
 "metadata": {
  "kernelspec": {
   "display_name": "Python 3",
   "language": "python",
   "name": "python3"
  },
  "language_info": {
   "codemirror_mode": {
    "name": "ipython",
    "version": 3
   },
   "file_extension": ".py",
   "mimetype": "text/x-python",
   "name": "python",
   "nbconvert_exporter": "python",
   "pygments_lexer": "ipython3",
   "version": "3.7.5"
  }
 },
 "nbformat": 4,
 "nbformat_minor": 4
}
